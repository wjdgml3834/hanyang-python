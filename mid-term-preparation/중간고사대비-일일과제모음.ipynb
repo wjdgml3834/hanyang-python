{
 "cells": [
  {
   "cell_type": "markdown",
   "metadata": {},
   "source": [
    "**1. 다음은 학생들의 국어, 수학, 영어 성적입니다. 각각 평균을 구해보세요.**"
   ]
  },
  {
   "cell_type": "code",
   "execution_count": null,
   "metadata": {},
   "outputs": [],
   "source": [
    "Korean = [92, 36, 45, 52, 0]\n",
    "math = [97, 38, 49, 98, 58]\n",
    "english = [19, 52, 61, 13, 91]"
   ]
  },
  {
   "cell_type": "markdown",
   "metadata": {},
   "source": [
    "**2. 다음은 학생들의 국어, 수학, 영어 성적입니다. 평균을 구하고, 평균 점수가 70점 미만인 사람의 이름을 출력하세요.**\n"
   ]
  },
  {
   "cell_type": "code",
   "execution_count": null,
   "metadata": {},
   "outputs": [],
   "source": [
    "name = [\"Kim\", \"Lee\", \"Park\", \"Choi\", \"Jung\", \"Kang\", \"Cho\", \"Yoon\", \"Jang\", \"Lim\", \"Han\"]\n",
    "math = [97, 38, 49, 98, 58, 17, 13, 25, 39, 9, 96]\n",
    "english = [19, 52, 61, 13, 91, 34, 87, 7, 69, 97, 33]\n",
    "Korean = [92, 36, 45, 52, 0, 91, 9, 93, 45, 75, 37]"
   ]
  },
  {
   "cell_type": "markdown",
   "metadata": {},
   "source": [
    "**3. 1부터 1000까지의 짝수들의 합을 계산하는 코드를 작성하시오.**"
   ]
  },
  {
   "cell_type": "code",
   "execution_count": null,
   "metadata": {},
   "outputs": [],
   "source": []
  },
  {
   "cell_type": "markdown",
   "metadata": {},
   "source": [
    "**4. a = [22, 1, 3, 4, 7, 98, 21, 55, 87, 99, 19, 20, 45] 에서 최대값과 최소값을 찾으시오.**"
   ]
  },
  {
   "cell_type": "code",
   "execution_count": null,
   "metadata": {},
   "outputs": [],
   "source": []
  },
  {
   "cell_type": "markdown",
   "metadata": {},
   "source": [
    "5. 구구단을 1단부터 9단까지 출력하시오."
   ]
  },
  {
   "cell_type": "code",
   "execution_count": null,
   "metadata": {},
   "outputs": [],
   "source": []
  },
  {
   "cell_type": "markdown",
   "metadata": {},
   "source": [
    "6. 다음은 학생들의 수학, 사회, 국어 성적입니다. 50점 이하의 점수를 받은 과목은 보충 수업을 받아야 합니다. 어떤 학생이 어떤 수업의 보충수업을 받아야 할까요?"
   ]
  },
  {
   "cell_type": "code",
   "execution_count": null,
   "metadata": {},
   "outputs": [],
   "source": [
    "name = [\"Kim\", \"Lee\", \"Park\", \"Choi\", \"Jung\", \"Kang\", \"Cho\", \"Yoon\", \"Jang\", \"Lim\", \"Han\"]\n",
    "math = [97, 38, 49, 98, 58, 17, 13, 25, 39, 9, 96]\n",
    "sociology = [19, 52, 61, 13, 91, 34, 87, 7, 69, 97, 33]\n",
    "Korean = [92, 36, 45, 52, 0, 91, 9, 93, 45, 75, 37]"
   ]
  },
  {
   "cell_type": "markdown",
   "metadata": {},
   "source": [
    "7. 아래의 성적에 오류가 있습니다! 각 과목별로 성적이 가장 낮은 사람이 사실 50점 낮게 채점이 되었습니다! 빨리 전체 성적을 재계산하여 전체 평균 성적을 내야 합니다!\n",
    "\n",
    "- 각 과목별로 가장 낮은 성적을 찾아\n",
    "- +50을 하고 수정된 전체 성적을 print 하기\n",
    "- 과목별 평균점수를 계산하여 print 하기"
   ]
  },
  {
   "cell_type": "code",
   "execution_count": null,
   "metadata": {},
   "outputs": [],
   "source": [
    "name = [\"Kim\", \"Lee\", \"Park\", \"Choi\", \"Jung\", \"Kang\", \"Cho\", \"Yoon\", \"Jang\", \"Lim\", \"Han\"]\n",
    "math = [97, 38, 49, 98, 58, 17, 13, 25, 39, 9, 96]\n",
    "sociology = [19, 52, 61, 13, 91, 34, 87, 7, 69, 97, 33]\n",
    "Korean = [92, 36, 45, 52, 0, 91, 9, 93, 45, 75, 37]"
   ]
  },
  {
   "cell_type": "markdown",
   "metadata": {},
   "source": [
    "8. 비밀번호 찾기\n",
    "\n",
    "당신은 눈앞에 있는 문을 열기 위해 *네 자리* 의 비밀번호를 찾아야 합니다.\n",
    "\n",
    "비밀번호를 찾기 위해 모든 경우의 수를 다 적용하는 코드를 짜기로 결정했습니다. 다행히 비밀번호 시도 회수 제한이 없습니다.\n",
    "\n",
    "비밀번호의 각 자리는 0부터 9까지의 숫자로만 이루어져 있습니다.\n",
    "\n",
    "\n",
    "- input을 통해 비밀번호를 입력받으세요.\n",
    "- 반복문을 통해 모든 경우의 수를 iteration하세요\n",
    "- 비밀번호가 맞은 경우, 비밀번호는 ㅇㅇㅇ입니다를 출력하고, 반복문을 빠져나오세요."
   ]
  },
  {
   "cell_type": "code",
   "execution_count": null,
   "metadata": {},
   "outputs": [],
   "source": []
  },
  {
   "cell_type": "markdown",
   "metadata": {},
   "source": [
    "9. 숫자주머니 만들기\n",
    "\n",
    "당신은 숫자 주머니를 만들고 있습니다. 숫자 주머니에는 중복이 되지 않게 다양한 숫자를 넣으려 합니다. 단, 숫자는 1이상의 양의 정수입니다.\n",
    "\n",
    "당신은 숫자를 10번 입력 받고, 중복이 되지 않게 숫자 주머니를 만들어 숫자 주머니에 들은 숫자들을 출력합니다.\n",
    "\n",
    "단, 10번 입력을 받는 동안 0이 입력되면 더이상 입력을 받지 않습니다.\n",
    "\n",
    "\n",
    "예1)\n",
    "\n",
    "[input]\n",
    "\n",
    "숫자1을 입력해주세요: 1\n",
    "\n",
    "숫자2을 입력해주세요: 1\n",
    "\n",
    "숫자3을 입력해주세요: 2\n",
    "\n",
    "숫자4을 입력해주세요: 2\n",
    "\n",
    "숫자5을 입력해주세요: 3\n",
    "\n",
    "숫자6을 입력해주세요: 3\n",
    "\n",
    "숫자7을 입력해주세요: 4\n",
    "\n",
    "숫자8을 입력해주세요: 4\n",
    "\n",
    "숫자9을 입력해주세요: 5\n",
    "\n",
    "숫자10을 입력해주세요: 6\n",
    "\n",
    "[output]\n",
    "\n",
    "1 2 3 4 5 6\n",
    "\n",
    "\n",
    "예2)\n",
    "\n",
    "[input]\n",
    "\n",
    "숫자1을 입력해주세요: 1\n",
    "\n",
    "숫자2을 입력해주세요: 1\n",
    "\n",
    "숫자3을 입력해주세요: 2\n",
    "\n",
    "숫자4을 입력해주세요: -1\n",
    "\n",
    "[output]\n",
    "\n",
    "1 2\n",
    "\n",
    "\n"
   ]
  },
  {
   "cell_type": "code",
   "execution_count": null,
   "metadata": {},
   "outputs": [],
   "source": []
  },
  {
   "cell_type": "markdown",
   "metadata": {},
   "source": [
    "**10. 함수 만들어 보기**\n",
    "1. is_multi라는 함수명으로\n",
    "2. a, b라는 두 개의 매개변수를 받아서\n",
    "3. 두 변수에서 받은 숫자의 곱을 반환하는 함수를 만들어보자"
   ]
  },
  {
   "cell_type": "code",
   "execution_count": null,
   "metadata": {},
   "outputs": [],
   "source": []
  },
  {
   "cell_type": "markdown",
   "metadata": {},
   "source": [
    "**11. 아래 데이터는 어느 게임의 캐릭터 능력치 데이터입니다. 이 dict에서 stats 아래의 mp, attackdamage 정보를 출력해보세요**"
   ]
  },
  {
   "cell_type": "code",
   "execution_count": null,
   "metadata": {},
   "outputs": [],
   "source": []
  },
  {
   "cell_type": "markdown",
   "metadata": {},
   "source": [
    "**12. 아래 데이터는 어느 게임의 캐릭터 능력치 데이터입니다. 이 dict에서 stats 아래의 mp, attackdamage 정보를 출력해보세요**"
   ]
  },
  {
   "cell_type": "code",
   "execution_count": null,
   "metadata": {},
   "outputs": [],
   "source": [
    "Aatrox = {\n",
    "            \"id\": \"Aatrox\",\n",
    "            \"name\": \"아트록스\",\n",
    "            \"stats\": {\n",
    "                \"hp\": 580,\n",
    "                \"hpperlevel\": 90,\n",
    "                \"mp\": 0,\n",
    "                \"mpperlevel\": 0,\n",
    "                \"movespeed\": 345,\n",
    "                \"armor\": 38,\n",
    "                \"armorperlevel\": 3.25,\n",
    "                \"spellblock\": 32,\n",
    "                \"spellblockperlevel\": 1.25,\n",
    "                \"attackrange\": 175,\n",
    "                \"hpregen\": 3,\n",
    "                \"hpregenperlevel\": 1,\n",
    "                \"mpregen\": 0,\n",
    "                \"mpregenperlevel\": 0,\n",
    "                \"crit\": 0,\n",
    "                \"critperlevel\": 0,\n",
    "                \"attackdamage\": 60,\n",
    "                \"attackdamageperlevel\": 5,\n",
    "                \"attackspeedperlevel\": 2.5,\n",
    "                \"attackspeed\": 0.651\n",
    "              }\n",
    "          }\n",
    "\n",
    "# mp 출력하기\n",
    "\n",
    "\n",
    "# attackdamage 출력하기 \n"
   ]
  },
  {
   "cell_type": "markdown",
   "metadata": {},
   "source": [
    "**13. 리스트를 딕셔너리로 만들어보기**\n",
    "\n",
    "- 두개의 리스트가 주어졌을 때 딕셔너리로 만드는 것이 가능합니다.\n",
    "- **반복문을 이용해서** name을 key로, cook을 value로 딕셔너리를 한번 만들어볼까요?"
   ]
  },
  {
   "cell_type": "code",
   "execution_count": null,
   "metadata": {},
   "outputs": [],
   "source": [
    "name = ['나현', '수현', '제인', '봉준', '혜민', '정희', '현우', '종민', '민기', '주연', '담비', '가은']\n",
    "cook = ['오징어짬뽕', '너구리', '튀김소보루', '연어김밥', '족발튀김', '감바스', '라멘', '새우찜', '조개탕', '까르보나라', '불고기덮밥', '비빔밥']"
   ]
  },
  {
   "cell_type": "markdown",
   "metadata": {},
   "source": [
    "**14. 문자열 테크닉**\n",
    "\n",
    "- 데이터를 정리해봅시다.\n",
    "- 문자열을 <>을 기준으로 리스트 형식으로 나눠봅시다(split)\n",
    "- 반복문을 이용해 ㅇㅇㅇ는 맛있는 음식입니다를 출력해봅시다.\n",
    "\n",
    "예)\n",
    "\n",
    "바나나는 맛있는 음식입니다.\n",
    "\n",
    "사과는 맛있는 음식입니다.\n",
    "\n",
    "..."
   ]
  },
  {
   "cell_type": "code",
   "execution_count": null,
   "metadata": {},
   "outputs": [],
   "source": [
    "food = '바나나<>사과<>오징어<>문어<>족발'\n",
    "\n",
    "# TODO1: 문자열 자르기\n",
    "\n",
    "\n",
    "# TODO2: 반복문으로 순회하기\n"
   ]
  },
  {
   "cell_type": "markdown",
   "metadata": {},
   "source": [
    "**15. 계산기 클래스 만들기**\n",
    "- Calculator라는 계산기 클래스를 만듭니다.\n",
    "- Calculator에는 current_value라는 인스턴스 변수가 있습니다.\n",
    "- Calculator가 생성될 때 current_value는 0의 초기값을 갖습니다.\n",
    "- Calculator에는 현재값출력(check_value), 덧셈(plus), 뺄셈(minus), 곱셈(mul), 나눗셈(div) 메소드가 있습니다.\n",
    "- check_value는 현재 값(current_value)를 출력합니다. ex) 현재 값은 ㅇㅇㅇ입니다.\n",
    "- plus는 한개 값을 입력 받아 현재 값에 더합니다.\n",
    "- minus는 한개 값을 입력 받아 현재 값에서 뺍니다.\n",
    "- mul은 한개 값을 입력 받아 현재 값에 곱합니다.\n",
    "- div는 한개 값을 입력 받아 현재 값에서 나눕니다.\n",
    "- div를 0으로 나눌 경우 에러가 발생할 수 있습니다. 에러가 나는 경우에는 \"나눌 수 없습니다\"를 출력하세요."
   ]
  },
  {
   "cell_type": "code",
   "execution_count": null,
   "metadata": {},
   "outputs": [],
   "source": []
  },
  {
   "cell_type": "markdown",
   "metadata": {},
   "source": [
    "**16. 각도기 만들기**\n",
    "- Protractor라는 각도기 클래스를 만듭니다.\n",
    "- 각에서 0도 초과 90도 미만은 예각, 90도는 직각, 90도 초과 180도 미만은 둔각 180도는 평각으로 분류합니다. \n",
    "- Protractor는 생성될 때 각도(angle)이라는 인스턴스 변수가 필요합니다.\n",
    "- Protractor는 현재 각도 출력(current_angle), 각 더하기(plus), 각 빼기(minus) 메소드를 가집니다.\n",
    "- current_angle은 현재 각도와 함께 예각/직각/둔각/평각 여부를 출력합니다.\n",
    "- plus는 한개 값을 입력 받아 current_angle에 더합니다. 단, 현재 각도는 180을 넘을 수 없습니다. 더한 값이 180이 넘는 경우, \"각도는 180도를 넘을 수 없습니다\"를 출력하고 더하지 않습니다.\n",
    "- minus는 한개 값을 입력받아 current_angle에서 뺍니다. 단, 현재 각도는 0도보다 작을 수 없습니다. 뺀 값이 0보다 작아지는 경우, \"각도는 0이상이어야 합니다\"를 출력하고 빼지 않습니다.\n",
    "\n"
   ]
  },
  {
   "cell_type": "markdown",
   "metadata": {},
   "source": [
    "**17. 세균 증식**\n",
    "\n",
    "어떤 세균은 1시간에 두배만큼 증식한다고 합니다.\n",
    "\n",
    "처음 세균의 마리수 n과 경과한 시간 t가 매개변수로 주어질 때,\n",
    "\n",
    "t시간 후 세균의 수를 return하도록 solution 함수를 완성해주세요."
   ]
  },
  {
   "cell_type": "code",
   "execution_count": null,
   "metadata": {},
   "outputs": [],
   "source": []
  },
  {
   "cell_type": "markdown",
   "metadata": {},
   "source": [
    "**18. 암호 해독**\n",
    "\n",
    "군 전략가 머쓱이는 전쟁 중 적군이 다음과 같은 암호 체계를 사용한다는 것을 알아냈습니다.\n",
    "- 암호화된 문자열 cipher를 주고받습니다.\n",
    "- 그 문자열에서 code의 배수 번째 글자만 진짜 암호입니다.\n",
    "\n",
    "문자열 cipher와 정수 code가 매개변수로 주어질 때 해독된 암호 문자열을 return하도록 solution 함수를 완성해주세요."
   ]
  },
  {
   "cell_type": "code",
   "execution_count": null,
   "metadata": {},
   "outputs": [],
   "source": []
  },
  {
   "cell_type": "markdown",
   "metadata": {},
   "source": [
    "**19. 메뉴를 입력받는 종업원**\n",
    "\n",
    "웨이터(Waiter) 클래스를 구현해 봅시다.\n",
    "\n",
    "웨이터 클래스는 생성될 때, memory라는 리스트를 갖습니다.\n",
    "\n",
    "웨이터는 계속해서 주문을 입력받습니다. (order)\n",
    "\n",
    "- order 메소드는 food_name을 입력받습니다.\n",
    "- 주문 시, food_name은 memory에 계속해서 추가됩니다.\n",
    "- 주문 시, \"food_name을 주문받았습니다.\"를 출력합니다.\n",
    "\n",
    "현재까지 주문한 내용을 체크할 수 있습니다. (check)\n",
    "\n",
    "- check 메소드는 아무것도 입력받지 않습니다.\n",
    "- check 메소드 실행 시, 현재까지 주문된 음식의 이름과 수를 출력합니다."
   ]
  },
  {
   "cell_type": "code",
   "execution_count": null,
   "metadata": {},
   "outputs": [],
   "source": []
  },
  {
   "cell_type": "markdown",
   "metadata": {},
   "source": [
    "***20. 값을 입력받아 처리해보기.***\n",
    "\n",
    "- a, b 변수에 각각 숫자를 입력받아주세요.\n",
    "- c라는 변수에 a+b를 넣어주세요.\n",
    "- \"a + b = c\"를 출력하세요.\n",
    "\n",
    "예) 3, 5 입력 시,\n",
    "3 + 5 = 8 출력"
   ]
  },
  {
   "cell_type": "code",
   "execution_count": null,
   "metadata": {},
   "outputs": [],
   "source": []
  },
  {
   "cell_type": "markdown",
   "metadata": {},
   "source": [
    "***21. 문자열 슬라이싱 해보기.***\n",
    "\n",
    "주민등록번호 910926-1234567가 있습니다. 문자열 슬라이싱을 이용해 주민등록번호 앞자리(910926)만 분리해주세요.\n"
   ]
  },
  {
   "cell_type": "code",
   "execution_count": null,
   "metadata": {},
   "outputs": [],
   "source": []
  },
  {
   "cell_type": "markdown",
   "metadata": {},
   "source": [
    "**22. 문자열 다루기**\n",
    "아래의 가사는 twinkle의 가사입니다. 더욱 빛나도록 twinkle을 ★twinkle★로 바꿔주세요."
   ]
  },
  {
   "cell_type": "code",
   "execution_count": null,
   "metadata": {},
   "outputs": [],
   "source": [
    "lyrics = '''숨겨도 twinkle 어쩌나\n",
    "눈에 확 띄잖아\n",
    "베일에 싸여 있어도\n",
    "나는 twinkle 티가 나'''"
   ]
  },
  {
   "cell_type": "markdown",
   "metadata": {},
   "source": [
    "***23. 복합적으로 사용해보기***\n",
    "\n",
    "다음은 조건에 따라 현재 상태를 출력하는 프로그램의 일부입니다. 조건에 맞는 프로그램을 작성해 주세요.\n",
    "\n",
    "1) temperature 변수는 온도, humidity 변수는 습도가 기록되어 있습니다.\n",
    "\n",
    "2) 이 프로그램은 flag를 입력으로 받아, 현재 온도나 습도를 출력하는 프로그램입니다.\n",
    "\n",
    "3) flag가 짝수인 경우에는 온도를, flag가 홀수인 경우에는 습도를 출력합니다.\n",
    "\n",
    "4) 출력할 때는 \"현재 온도는 ㅇㅇ 입니다\" 혹은 \"현재 습도는 ㅇㅇ 입니다\"로 출력합니다.\n"
   ]
  },
  {
   "cell_type": "code",
   "execution_count": null,
   "metadata": {},
   "outputs": [],
   "source": []
  }
 ],
 "metadata": {
  "kernelspec": {
   "display_name": "Python 3.10.7 64-bit",
   "language": "python",
   "name": "python3"
  },
  "language_info": {
   "name": "python",
   "version": "3.10.7"
  },
  "orig_nbformat": 4,
  "vscode": {
   "interpreter": {
    "hash": "aee8b7b246df8f9039afb4144a1f6fd8d2ca17a180786b69acc140d282b71a49"
   }
  }
 },
 "nbformat": 4,
 "nbformat_minor": 2
}
