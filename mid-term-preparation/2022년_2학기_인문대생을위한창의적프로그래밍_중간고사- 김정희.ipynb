{
  "cells": [
    {
      "cell_type": "markdown",
      "metadata": {
        "id": "SBl9JNAPXBNN"
      },
      "source": [
        "### 인문대생을 위한 창의적 프로그래밍\n",
        "\n",
        "--------------------------------------------------------------------------------\n",
        "\n",
        "한양대학교 2022년 2학기 중간고사\n",
        "\n",
        "일시: 2022년 10월 20일 15:00 - 18:00\n",
        "\n",
        "--------------------------------------------------------------------------------\n",
        "< 참고 >\n",
        "\n",
        "- 전체 문항은 20문항이며, 총점은 100점이고, 문항 당 배점은 서로 다를 수 있습니다.\n",
        "- 본 시험은 오픈북 시험으로 다음의 자료들을 제한 없이 이용할 수 있습니다:\n",
        " - Google (이외의 검색엔진 사용 불가)\n",
        " - 본인이 작성한 일일 과제 파일\n",
        "- 시험 시작 30분 이후 퇴실 가능합니다.\n",
        "- 문제의 구현 정도에 따라 부분점수가 주어질 수 있습니다.\n",
        "- 제출은 일일과제 제출처와 같습니다. 1회만 제출 가능합니다."
      ]
    },
    {
      "cell_type": "markdown",
      "metadata": {
        "id": "y-hoXdV6ZXrx"
      },
      "source": [
        "**1. 다음은 0부터 9까지의 수에 대해 각 숫자가 5 이상인지를 판별하는 코드의 일부이다. 주석을 삽입해서, 프로그램이 정상적으로 작동할 수 있도록 코드의 일부를 수정하여라.** (5점)"
      ]
    },
    {
      "cell_type": "code",
      "execution_count": 1,
      "metadata": {
        "colab": {
          "base_uri": "https://localhost:8080/"
        },
        "id": "RrurSqNjW2ND",
        "outputId": "34dfcaaf-1ed4-42d4-e57d-f0c33cf8962a"
      },
      "outputs": [
        {
          "name": "stdout",
          "output_type": "stream",
          "text": [
            "0 : 5 미만입니다.\n",
            "1 : 5 미만입니다.\n",
            "2 : 5 미만입니다.\n",
            "3 : 5 미만입니다.\n",
            "4 : 5 미만입니다.\n",
            "5 : 5 이상입니다.\n",
            "6 : 5 이상입니다.\n",
            "7 : 5 이상입니다.\n",
            "8 : 5 이상입니다.\n",
            "9 : 5 이상입니다.\n"
          ]
        }
      ],
      "source": [
        "for i in range(10):\n",
        "    if i >= 5:\n",
        "        print(i, \": 5 이상입니다.\")\n",
        "    else:\n",
        "        print(i, \": 5 미만입니다.\")\n",
        "    # break"
      ]
    },
    {
      "cell_type": "markdown",
      "metadata": {
        "id": "sxPpASJRby7W"
      },
      "source": [
        "**2. 다음은 입력 받은 변수의 타입이 문자열인지 판별하는 함수이다. 구현되지 않은 부분을 구현하시오.** (10점)\n",
        "- check_type함수는 inputs이 문자열 타입인 경우 \"문자열입니다.\"를 출력합니다.\n",
        "- check_type함수는 inputs이 문자열 타입이 아닌 경우 \"문자열이아닙니다.\"를 출력합니다."
      ]
    },
    {
      "cell_type": "code",
      "execution_count": 2,
      "metadata": {
        "id": "d2nly2KZbZBz"
      },
      "outputs": [
        {
          "name": "stdout",
          "output_type": "stream",
          "text": [
            "문자열입니다.\n",
            "문자열이 아닙니다.\n"
          ]
        }
      ],
      "source": [
        "def check_type(inputs):\n",
        "    if(inputs == str(inputs)):\n",
        "        print('문자열입니다.')\n",
        "    else: print('문자열이 아닙니다.')\n",
        "\n",
        "check_type(\"문자열\")\n",
        "check_type(123)"
      ]
    },
    {
      "cell_type": "markdown",
      "metadata": {
        "id": "rOuDajvodpJX"
      },
      "source": [
        "**3. 다음은 주민등록번호에서 뒷자리만 분리하는 프로그램의 일부이다. 주민등록번호 910926-1234567가 있을 때, 문자열 슬라이싱을 이용해 주민등록번호 뒷자리(1234567)만 분리하고, f-string이나 str.format을 이용해 \"주민등록번호 뒷자리는 1234567입니다.\"를 출력하시오.** (5점)"
      ]
    },
    {
      "cell_type": "code",
      "execution_count": 5,
      "metadata": {
        "id": "QN06el7gdF65"
      },
      "outputs": [
        {
          "name": "stdout",
          "output_type": "stream",
          "text": [
            "주민등록번호 뒷자리는 1234567입니다.\n"
          ]
        }
      ],
      "source": [
        "number = '910926-1234567'\n",
        "\n",
        "# TO DO\n",
        "sliced_number = number[7: ]\n",
        "\n",
        "print(f'주민등록번호 뒷자리는 {sliced_number}입니다.')"
      ]
    },
    {
      "cell_type": "markdown",
      "metadata": {
        "id": "Y0tk3XS1eQzi"
      },
      "source": [
        "\n",
        "**4. 다음은 조건에 따라 현재 상태를 출력하는 프로그램의 일부이다. 조건에 맞는 프로그램을 작성하여라.** (10점)\n",
        "1. temperature 변수는 온도, humidity 변수는 습도가 기록되어 있다.\n",
        "2. temperature가 40이상인 경우에는 온도를 출력하고, 40미만인 경우에는 습도를 출력한다.\n",
        "3. 출력할 때는 \"현재 온도는 ㅇㅇ도 입니다\" 혹은 \"현재 습도는 ㅇㅇ% 입니다\"로 출력한다.\n"
      ]
    },
    {
      "cell_type": "code",
      "execution_count": 7,
      "metadata": {
        "id": "YD9r_PHjeIZt"
      },
      "outputs": [
        {
          "name": "stdout",
          "output_type": "stream",
          "text": [
            "현재 습도는 22%입니다.\n"
          ]
        }
      ],
      "source": [
        "import random\n",
        "temperature = random.randrange(5,50)\n",
        "humidity = random.randrange(0,100)\n",
        "\n",
        "# TO DO\n",
        "if(temperature >= 40 ):\n",
        "    print(f'현재 온도는 {temperature}도 입니다.')\n",
        "else: print(f'현재 습도는 {humidity}%입니다.')"
      ]
    },
    {
      "cell_type": "markdown",
      "metadata": {
        "id": "VGYHmr0AfRAz"
      },
      "source": [
        "**5. \"JAVA\"를 \"Python\"으로 교체한 후 출력하는 프로그램을 만드시오.** (5점)"
      ]
    },
    {
      "cell_type": "code",
      "execution_count": 32,
      "metadata": {
        "colab": {
          "base_uri": "https://localhost:8080/",
          "height": 36
        },
        "id": "E6WLVt1-fIYT",
        "outputId": "0d5006c2-d727-40e5-a882-41f13fda3650"
      },
      "outputs": [
        {
          "data": {
            "text/plain": [
              "'Python는 정말 훌륭한 언어입니다.'"
            ]
          },
          "execution_count": 32,
          "metadata": {},
          "output_type": "execute_result"
        }
      ],
      "source": [
        "def change_string(s):\n",
        "    answer = s.replace(\"JAVA\",\"Python\")\n",
        "    return answer\n",
        "\n",
        "change_string(\"JAVA는 정말 훌륭한 언어입니다.\")"
      ]
    },
    {
      "cell_type": "markdown",
      "metadata": {
        "id": "vvtwG1gmf9b8"
      },
      "source": [
        "**6. 현승이는 구구단을 공부하고 있습니다. 이 중 8단이 잘 외워지지 않아 8단을 출력하는 프로그램을 만드려 합니다. for과 while문을 이용해 구구단의 8단을 출력하는 프로그램을 작성하시오.** (총 10점)"
      ]
    },
    {
      "cell_type": "markdown",
      "metadata": {
        "id": "j1fjY9IEgqoJ"
      },
      "source": [
        "**6-1. for문을 이용해 구구단의 8단을 출력하시오.**"
      ]
    },
    {
      "cell_type": "code",
      "execution_count": 12,
      "metadata": {
        "id": "DELcogfQf6ql"
      },
      "outputs": [
        {
          "name": "stdout",
          "output_type": "stream",
          "text": [
            "8 X 1 = 8\n",
            "8 X 2 = 16\n",
            "8 X 3 = 24\n",
            "8 X 4 = 32\n",
            "8 X 5 = 40\n",
            "8 X 6 = 48\n",
            "8 X 7 = 56\n",
            "8 X 8 = 64\n",
            "8 X 9 = 72\n"
          ]
        }
      ],
      "source": [
        "# TODO\n",
        "\n",
        "for i in range(8,9):\n",
        "    for j in range(1,10):\n",
        "        print(f'{i} X {j} = {i * j}')"
      ]
    },
    {
      "cell_type": "markdown",
      "metadata": {
        "id": "mviJgACfgvig"
      },
      "source": [
        "**6-2. while문을 이용해 구구단의 8단을 출력하시오.**"
      ]
    },
    {
      "cell_type": "code",
      "execution_count": 29,
      "metadata": {
        "id": "YLV6Bx5pgyyw"
      },
      "outputs": [
        {
          "name": "stdout",
          "output_type": "stream",
          "text": [
            "8 X 1 = 8\n",
            "8 X 2 = 16\n",
            "8 X 3 = 24\n",
            "8 X 4 = 32\n",
            "8 X 5 = 40\n",
            "8 X 6 = 48\n",
            "8 X 7 = 56\n",
            "8 X 8 = 64\n",
            "8 X 9 = 72\n"
          ]
        }
      ],
      "source": [
        "# TODO\n",
        "\n",
        "i = 7\n",
        "while i < 8:\n",
        "    i = i + 1\n",
        "    j = 1\n",
        "    while j < 10:\n",
        "        print(i, 'X', j, '=', i*j)\n",
        "        j = j + 1\n",
        "    \n",
        "    "
      ]
    },
    {
      "cell_type": "markdown",
      "metadata": {
        "id": "LbP6XSVDhIG8"
      },
      "source": [
        "**7. 다음은 K중학교 3학년 E반의 시험 성적표이다. 담인선생님은 수업 난이도를 조절하기 위해, 시험을 가장 잘 본 학생과, 가장 못 본 학생의 점수 차이를 확인하고자 한다. 시험 점수가 주어졌을 때, 점수가 가장 높은 학생과 낮은 학생의 차이를 출력하는 프로그램을 작성하시오.** (10점)"
      ]
    },
    {
      "cell_type": "code",
      "execution_count": 9,
      "metadata": {
        "id": "7MlJnepEjcpt"
      },
      "outputs": [
        {
          "name": "stdout",
          "output_type": "stream",
          "text": [
            "98\n"
          ]
        }
      ],
      "source": [
        "scores = [22, 1, 3, 4, 7, 98, 21, 55, 87, 99, 19, 20, 45]\n",
        "\n",
        "# TODO\n",
        "\n",
        "scores_subtract = max(scores) - min(scores)\n",
        "\n",
        "print(scores_subtract)"
      ]
    },
    {
      "cell_type": "markdown",
      "metadata": {
        "id": "1YeNuxokjxEa"
      },
      "source": [
        "**8. 백종원은 식당 예약자 명단을 확인하고 있다. 하지만 명단에 오류가 있어 사람 이름이 중복으로 적혀 있는 것을 확인하였다. 사람 이름에서 중복을 제거하고, 몇 명이 예약했는지를 출력하는 프로그램을 작성하시오.** (10점)"
      ]
    },
    {
      "cell_type": "code",
      "execution_count": 17,
      "metadata": {
        "id": "cRLYKsjtkXLT"
      },
      "outputs": [
        {
          "name": "stdout",
          "output_type": "stream",
          "text": [
            "12명이 예약했습니다.\n"
          ]
        }
      ],
      "source": [
        "bookers = ['나현', '수현', '제인', '봉준', '나현', '혜민', '정희', '현우', '봉준', '종민', '민기', '주연', '담비', '제인', '가은', '정희']\n",
        "# TODO\n",
        "\n",
        "bookers_set = set(bookers) # 중복제거\n",
        "\n",
        "print(f'{len(bookers_set)}명이 예약했습니다.') # 몇명 예약했는지\n"
      ]
    },
    {
      "cell_type": "markdown",
      "metadata": {
        "id": "y35H5uZ8kpkb"
      },
      "source": [
        "**9. 아래 데이터는 어느 게임의 캐릭터 능력치 데이터이다. 이 dict에서 stats 아래의 mpregen, attackspeed 정보를 출력해보세요** (5점)"
      ]
    },
    {
      "cell_type": "code",
      "execution_count": 21,
      "metadata": {
        "id": "J3Apefw0k_GR"
      },
      "outputs": [
        {
          "name": "stdout",
          "output_type": "stream",
          "text": [
            "0\n",
            "0.651\n"
          ]
        }
      ],
      "source": [
        "Aatrox = {\n",
        "            \"id\": \"Aatrox\",\n",
        "            \"name\": \"아트록스\",\n",
        "            \"stats\": {\n",
        "                \"hp\": 580,\n",
        "                \"hpperlevel\": 90,\n",
        "                \"mp\": 0,\n",
        "                \"mpperlevel\": 0,\n",
        "                \"movespeed\": 345,\n",
        "                \"armor\": 38,\n",
        "                \"armorperlevel\": 3.25,\n",
        "                \"spellblock\": 32,\n",
        "                \"spellblockperlevel\": 1.25,\n",
        "                \"attackrange\": 175,\n",
        "                \"hpregen\": 3,\n",
        "                \"hpregenperlevel\": 1,\n",
        "                \"mpregen\": 0,\n",
        "                \"mpregenperlevel\": 0,\n",
        "                \"crit\": 0,\n",
        "                \"critperlevel\": 0,\n",
        "                \"attackdamage\": 60,\n",
        "                \"attackdamageperlevel\": 5,\n",
        "                \"attackspeedperlevel\": 2.5,\n",
        "                \"attackspeed\": 0.651\n",
        "              }\n",
        "          }\n",
        "\n",
        "# TODO\n",
        "\n",
        "print(Aatrox['stats']['mpregen']) # mpregen 출력\n",
        "\n",
        "print(Aatrox['stats']['attackspeed']) # attackspeed 출력"
      ]
    },
    {
      "cell_type": "markdown",
      "metadata": {
        "id": "xSy4IVS3leSB"
      },
      "source": [
        "**10. 당신은 크롤링을 통해 데이터를 수집하였다. 하지만, 이대로는 활용하기가 어려워 전처리 과정을 거치려 한다. 문자열을 <>을 기준으로 리스트 형식으로 나눠보고, 반복문을 이용해 ㅇㅇㅇ는 맛있는 음식입니다를 출력하시오.** (5점)"
      ]
    },
    {
      "cell_type": "code",
      "execution_count": 23,
      "metadata": {
        "id": "5GzqIe8ql7df"
      },
      "outputs": [
        {
          "name": "stdout",
          "output_type": "stream",
          "text": [
            "바나나는 맛있는 음식입니다.\n",
            "사과는 맛있는 음식입니다.\n",
            "오징어는 맛있는 음식입니다.\n",
            "문어는 맛있는 음식입니다.\n",
            "족발는 맛있는 음식입니다.\n"
          ]
        }
      ],
      "source": [
        "food = '바나나<>사과<>오징어<>문어<>족발'\n",
        "# TODO\n",
        "\n",
        "splited_food = food.split('<>')\n",
        "\n",
        "for i in splited_food:\n",
        "    print(f'{i}는 맛있는 음식입니다.')"
      ]
    },
    {
      "cell_type": "markdown",
      "metadata": {
        "id": "nHFq3fqzmril"
      },
      "source": [
        "**11. 다음 설명하는 함수를 만드시오.** (5점)\n",
        "1. check_string이라는 함수명으로\n",
        "2. 문자열을 입력받고, 문자열의 길이가 5 이상이면 True 미만이면 False를 반환하는 함수를 만들어보세요.\n",
        "3. 그리고, strings 리스트를 순회하며 길이가 5 이상인 문자열만 출력하세요."
      ]
    },
    {
      "cell_type": "code",
      "execution_count": 38,
      "metadata": {
        "id": "s4F4SN6al-q2"
      },
      "outputs": [
        {
          "name": "stdout",
          "output_type": "stream",
          "text": [
            "민트초코족발\n",
            "크림치즈떡볶이\n"
          ]
        }
      ],
      "source": [
        "strings = ['민트초코족발', '튀김족발', '마라탕', '족발', '튀김우동', '크림치즈떡볶이']\n",
        "\n",
        "# TODO\n",
        "\n",
        "# 문자열 입력받으면 True False 반환하는 함수 \n",
        "def check_string(input):\n",
        "    if(len(input) >=5):\n",
        "        return True\n",
        "    else: return False\n",
        "\n",
        "check_string('민트초코')\n",
        "\n",
        "# strings 리스트를 순회하면서 길이가 5 이상인 문자열만 출력 \n",
        "for i in range(len(strings)):\n",
        "    if(len(strings[i]) >= 5 ):\n",
        "        print(strings[i])"
      ]
    },
    {
      "cell_type": "markdown",
      "metadata": {
        "id": "4gKGyCmenACl"
      },
      "source": [
        "**12. 계산기 클래스 만들기** (10점)\n",
        "- Calculator라는 계산기 클래스를 만듭니다.\n",
        "- Calculator에는 current_value라는 인스턴스 변수가 있습니다.\n",
        "- Calculator가 생성될 때 current_value는 0의 초기값을 갖습니다.\n",
        "- Calculator에는 현재값출력(check_value), 덧셈(plus), 뺄셈(minus), 곱셈(mul), 나눗셈(div) 메소드가 있습니다.\n",
        "- check_value는 현재 값(current_value)를 출력합니다. ex) 현재 값은 ㅇㅇㅇ입니다.\n",
        "- plus는 한개 값을 입력 받아 현재 값에 더합니다.\n",
        "- minus는 한개 값을 입력 받아 현재 값에서 뺍니다.\n",
        "- mul은 한개 값을 입력 받아 현재 값에 곱합니다.\n",
        "- div는 한개 값을 입력 받아 현재 값에서 나눕니다.\n",
        "- div를 0으로 나눌 경우 에러가 발생할 수 있습니다. 에러가 나는 경우에는 \"나눌 수 없습니다\"를 출력하세요."
      ]
    },
    {
      "cell_type": "code",
      "execution_count": 8,
      "metadata": {
        "id": "uRBfOSiUmqHH"
      },
      "outputs": [
        {
          "name": "stdout",
          "output_type": "stream",
          "text": [
            "현재값은 0입니다.\n"
          ]
        },
        {
          "data": {
            "text/plain": [
              "4.5"
            ]
          },
          "execution_count": 8,
          "metadata": {},
          "output_type": "execute_result"
        }
      ],
      "source": [
        "# TODO\n",
        "\n",
        "class Calculator:\n",
        "    def __init__(self):\n",
        "        self.current_value = 0\n",
        "        \n",
        "    def check_value(self):\n",
        "        print(f'현재값은 {self.current_value}입니다.') \n",
        "        \n",
        "    def plus(self, user_input):\n",
        "        self.current_value = self.current_value + user_input\n",
        "        return self.current_value\n",
        "        \n",
        "    def minus(self, user_input):\n",
        "        self.current_value = self.current_value - user_input\n",
        "        return self.current_value\n",
        "        \n",
        "    def mul(self, user_input):\n",
        "        self.current_value = self.current_value * user_input\n",
        "        return self.current_value\n",
        "        \n",
        "    def div(self, user_input):\n",
        "        if(self.current_value == 0 or user_input == 0):\n",
        "            print('나눌 수 없습니다.')\n",
        "        else: self.current_value = self.current_value / user_input\n",
        "        return self.current_value\n",
        "    \n",
        "\n",
        "calculator = Calculator()\n",
        "\n",
        "calculator.check_value() # 현재값 출력 \n",
        "\n",
        "calculator.plus(5) # 더하기 출력 \n",
        "\n",
        "calculator.minus(2) # 빼기 출력 \n",
        "\n",
        "calculator.mul(3) # 곱하기 출력  \n",
        "\n",
        "calculator.div(2) # 나누기 출력 \n"
      ]
    },
    {
      "cell_type": "markdown",
      "metadata": {
        "id": "UW93XQEGnYcJ"
      },
      "source": [
        "**13. 이연복은 주문받은 음식들을 만드려 한다. 효율성을 위해, 가장 많이 주문한 음식부터 만드려고 한다. 제일 많이 주문한 음식 이름과, 그 다음으로 많이 주문한 음식 이름을 출력하시오.** (10점)"
      ]
    },
    {
      "cell_type": "code",
      "execution_count": 2,
      "metadata": {
        "id": "veB_gKcwnNPS"
      },
      "outputs": [
        {
          "name": "stdout",
          "output_type": "stream",
          "text": [
            "가장 많이 주문한 음식은 짜장면입니다.\n",
            "[2, 1, 1]\n",
            "두번째로 가장 많이 주문한 음식은 족발입니다.\n"
          ]
        }
      ],
      "source": [
        "orders = ['짜장면', '탕수육', '짜장면', '족발', '짬뽕', '짜장면', '짜장면', '족발']\n",
        "\n",
        "# TODO\n",
        "\n",
        "import collections\n",
        "\n",
        "counter = collections.Counter(orders)\n",
        "mc= counter.most_common()\n",
        "\n",
        "food_name = [] # 주문한 음식의 이름을 담는 리스트\n",
        "food_num = [] # 주문한 음식의 숫자를 담는 리스트\n",
        "\n",
        "for key,value in mc:\n",
        "    food_name.append(key) \n",
        "    food_num.append(value)\n",
        "\n",
        "most_top_order_index = food_num.index(max(food_num)) # 가장 많이 주문한 음식의 index를 담는 변수\n",
        "\n",
        "print(f'가장 많이 주문한 음식은 {food_name[most_top_order_index]}입니다.')\n",
        "\n",
        "food_name.remove(food_name[most_top_order_index]) # 가장 많이 주문한 음식의 이름을 제거한다. 그러면 두번째로 많이 주문한 음식만 남는다.\n",
        "\n",
        "food_num.remove(max(food_num))\n",
        "\n",
        "\n",
        "print(f'두번째로 가장 많이 주문한 음식은 {food_name[most_top_order_index]}입니다.')\n",
        "\n",
        "    \n",
        "    "
      ]
    }
  ],
  "metadata": {
    "colab": {
      "collapsed_sections": [],
      "provenance": []
    },
    "kernelspec": {
      "display_name": "Python 3.10.7 64-bit",
      "language": "python",
      "name": "python3"
    },
    "language_info": {
      "codemirror_mode": {
        "name": "ipython",
        "version": 3
      },
      "file_extension": ".py",
      "mimetype": "text/x-python",
      "name": "python",
      "nbconvert_exporter": "python",
      "pygments_lexer": "ipython3",
      "version": "3.10.7"
    },
    "vscode": {
      "interpreter": {
        "hash": "aee8b7b246df8f9039afb4144a1f6fd8d2ca17a180786b69acc140d282b71a49"
      }
    }
  },
  "nbformat": 4,
  "nbformat_minor": 0
}
