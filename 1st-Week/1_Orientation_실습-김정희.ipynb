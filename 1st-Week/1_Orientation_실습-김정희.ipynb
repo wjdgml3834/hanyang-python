{
  "cells": [
    {
      "cell_type": "markdown",
      "metadata": {
        "id": "CFWQBTSwyBrO"
      },
      "source": [
        "# **.ipynb 파일 다운로드 받고 내 google colab에 옮겨 실행해보기**"
      ]
    },
    {
      "cell_type": "markdown",
      "metadata": {
        "id": "0qO0xRqFzJu5"
      },
      "source": [
        "1. 파일 다운로드 받기\n",
        "2. Google colab 실행 (colab.google.com)\n",
        "3. 파일 -> 노트 업로드 클릭\n",
        "4. 다운로드 받은 위치에 있는 .ipynb 파일 끌어다 놓기"
      ]
    },
    {
      "cell_type": "markdown",
      "metadata": {
        "id": "FepvVHTsZWpo"
      },
      "source": [
        "# **Python과 Colab 둘러보기**"
      ]
    },
    {
      "cell_type": "markdown",
      "metadata": {
        "id": "h43s9vBXymfL"
      },
      "source": [
        "일단, 한번 따라 쳐볼까요?"
      ]
    },
    {
      "cell_type": "code",
      "execution_count": null,
      "metadata": {
        "id": "hGCxeK1Cw1g0"
      },
      "outputs": [],
      "source": [
        "print('Hello, world')"
      ]
    },
    {
      "cell_type": "markdown",
      "metadata": {
        "id": "trTe4hEJIYnk"
      },
      "source": [
        "잘했습니다. 이번에는, Hello, hanyang!을 출력 시켜 볼까요?"
      ]
    },
    {
      "cell_type": "code",
      "execution_count": 1,
      "metadata": {
        "colab": {
          "base_uri": "https://localhost:8080/"
        },
        "id": "ghPTMn7ozc-Y",
        "outputId": "1be138ca-7404-4ad5-800f-4b3045023f1a"
      },
      "outputs": [
        {
          "name": "stdout",
          "output_type": "stream",
          "text": [
            "Hello, hanyang!\n"
          ]
        }
      ],
      "source": [
        "print('Hello, hanyang!')"
      ]
    },
    {
      "cell_type": "markdown",
      "metadata": {
        "id": "6MH7o6qGNoHB"
      },
      "source": [
        "칸을 추가해 봅시다."
      ]
    },
    {
      "cell_type": "code",
      "execution_count": null,
      "metadata": {
        "id": "7-oXT7wA4ED6"
      },
      "outputs": [],
      "source": []
    },
    {
      "cell_type": "code",
      "execution_count": null,
      "metadata": {
        "id": "fPkxwjhl4D2D"
      },
      "outputs": [],
      "source": []
    },
    {
      "cell_type": "code",
      "execution_count": null,
      "metadata": {
        "id": "mKfpUcHV4TTE"
      },
      "outputs": [],
      "source": []
    },
    {
      "cell_type": "markdown",
      "metadata": {
        "id": "mIzspjQcNv3n"
      },
      "source": [
        "아래 칸을 삭제해 봅시다."
      ]
    },
    {
      "cell_type": "markdown",
      "metadata": {
        "id": "5Y0Y2m3FNyRb"
      },
      "source": []
    },
    {
      "cell_type": "markdown",
      "metadata": {
        "id": "hTDvgVkfOBZM"
      },
      "source": [
        "## 단축키도 사용해 봅시다\n",
        "- 셀 지우기: Ctrl + M D\n",
        "- 셀 추가: B"
      ]
    },
    {
      "cell_type": "markdown",
      "metadata": {
        "id": "ApGcT6pcIjt5"
      },
      "source": [
        "# **마크다운 사용해보기**"
      ]
    },
    {
      "cell_type": "markdown",
      "metadata": {
        "id": "TjiiYeDh5BWF"
      },
      "source": [
        "# #은 뭘까요?\n",
        "이건#이 없는것입니다.\n",
        "\n",
        "## 이건 두개입니다.\n",
        "### 이건 세개입니다.\n",
        "#### 언제까지 작아지나\n",
        "##### 다섯갠데\n"
      ]
    },
    {
      "cell_type": "markdown",
      "metadata": {
        "id": "VsnLH62rKN3u"
      },
      "source": [
        "## #은 뭘까요?\n",
        "\n",
        "### #의 개수에 따라 얼마나 차이가 날까요?\n",
        "\n",
        "#### 점점 작아지는 것 같은데..\n",
        "\n",
        "##### 몇 개 까지 되는지\n",
        "\n",
        "###### 직접 해봅시다"
      ]
    },
    {
      "cell_type": "markdown",
      "metadata": {
        "id": "hzRbEFfrU7vd"
      },
      "source": [
        "강조를 한번 `강조` 해볼까요?\n",
        "\n",
        "한번 *기울여서* 글씨를 써볼까요?\n",
        "\n",
        "이렇게 하면 **굵게**도 되네요\n",
        "\n",
        "<U>밑줄</U>도 한번 해봅시다.\n",
        "\n",
        "***기울여서 굵게***"
      ]
    },
    {
      "cell_type": "markdown",
      "metadata": {
        "id": "P1Onm09POi-X"
      },
      "source": [
        "## 주석 처리 연습"
      ]
    },
    {
      "cell_type": "markdown",
      "metadata": {
        "id": "iSA7DbynPx1S"
      },
      "source": [
        "주석은 코드의 설명을 메모하기 위해 쓰입니다.\n",
        "\n",
        "- #의 뒤의 문장은 주석으로 처리됩니다.\n",
        "- 주석이 여러 줄이라면 \"\"\"를 이용하세요."
      ]
    },
    {
      "cell_type": "code",
      "execution_count": null,
      "metadata": {
        "id": "CRPQ7RGkKHO5"
      },
      "outputs": [],
      "source": [
        "print('hello, snsd') # 이 문장은 출력을 위한 주석입니다."
      ]
    },
    {
      "cell_type": "code",
      "execution_count": 2,
      "metadata": {
        "colab": {
          "base_uri": "https://localhost:8080/"
        },
        "id": "BPeBx7PiIiOR",
        "outputId": "4cb8df9c-e8c3-477d-d36b-051bcb4b4c54"
      },
      "outputs": [
        {
          "name": "stdout",
          "output_type": "stream",
          "text": [
            "hello bts\n"
          ]
        }
      ],
      "source": [
        "\"\"\"\n",
        "주석이 \n",
        "여러 줄인 \n",
        "경우\n",
        "\"\"\"\n",
        "\n",
        "\n",
        "print('hello bts')"
      ]
    },
    {
      "cell_type": "markdown",
      "metadata": {
        "id": "mf8fmIFby7Sc"
      },
      "source": [
        "# **실습**"
      ]
    },
    {
      "cell_type": "markdown",
      "metadata": {
        "id": "BjsAVzBlS9QI"
      },
      "source": [
        "## 1. 마크다운 섹션을 아래에 추가하고, 좋아하는 노래 가사를 적어보세요."
      ]
    },
    {
      "cell_type": "markdown",
      "metadata": {
        "id": "vYqhbSTu6s91"
      },
      "source": [
        "아름다운 이 땅에\n",
        "금수강산에\n",
        "단군할아버지가 터 잡으시고\n",
        "홍익인간 뜻으로 \n",
        "나라세우니\n",
        "대대손손 훌륭한 인물도 많아"
      ]
    },
    {
      "cell_type": "markdown",
      "metadata": {
        "id": "1uoe536zTLRH"
      },
      "source": [
        "## 2. 코드 섹션을 아래에 추가하고, print()를 이용해 좋아하는 노래 가사를 적어보세요.\n"
      ]
    },
    {
      "cell_type": "code",
      "execution_count": null,
      "metadata": {
        "id": "b8YG6LgW66mx"
      },
      "outputs": [],
      "source": [
        "print(\"아름다운 이 땅에\")\n",
        "print(\"금수강산에\")\n",
        "print(\"단군할아버지가\")\n",
        "print(\"터 잡으시고\")\n",
        "print(\"홍익인간 뜻으로\")\n",
        "print(\"나라세우니\")\n",
        "print(\"대대손손 훌륭한 인물도 많아\")"
      ]
    },
    {
      "cell_type": "markdown",
      "metadata": {
        "id": "K0TCt0_PT7h6"
      },
      "source": [
        "## 3. 주석을 사용해서 아래 코드의 일부를 지워봅시다."
      ]
    },
    {
      "cell_type": "code",
      "execution_count": null,
      "metadata": {
        "colab": {
          "base_uri": "https://localhost:8080/"
        },
        "id": "mJU6385qT4rj",
        "outputId": "0f6a25b0-ef0b-46fd-d90c-095079420bba"
      },
      "outputs": [
        {
          "name": "stdout",
          "output_type": "stream",
          "text": [
            "< 라면 끓이는 법 >\n",
            "- 먼저 물을 준비합니다.\n",
            "- 물에 소금을 넣습니다.\n",
            "- 물에 스프를 넣습니다.\n",
            "- 물이 끓으면 라면사리를 넣습니다.\n",
            "- 고수를 넣습니다.\n",
            "- 오이를 넣습니다.\n",
            "- 민트초코를 넣습니다.\n",
            "- 계란을 넣습니다.\n",
            "- 치즈를 넣습니다.\n",
            "- 라면 완성!\n"
          ]
        }
      ],
      "source": [
        "print(\"< 라면 끓이는 법 >\")\n",
        "print(\"- 먼저 물을 준비합니다.\")\n",
        "print(\"- 물에 소금을 넣습니다.\")\n",
        "print(\"- 물에 스프를 넣습니다.\")\n",
        "print(\"- 물이 끓으면 라면사리를 넣습니다.\")\n",
        "# print(\"- 고수를 넣습니다.\")\n",
        "# print(\"- 오이를 넣습니다.\")\n",
        "# print(\"- 민트초코를 넣습니다.\")\n",
        "print(\"- 계란을 넣습니다.\")\n",
        "print(\"- 치즈를 넣습니다.\")\n",
        "print(\"- 라면 완성!\")"
      ]
    },
    {
      "cell_type": "code",
      "execution_count": null,
      "metadata": {
        "id": "fb2miYOEVFpe"
      },
      "outputs": [],
      "source": []
    }
  ],
  "metadata": {
    "colab": {
      "collapsed_sections": [],
      "provenance": []
    },
    "kernelspec": {
      "display_name": "Python 3.10.7 64-bit",
      "language": "python",
      "name": "python3"
    },
    "language_info": {
      "name": "python",
      "version": "3.10.7"
    },
    "vscode": {
      "interpreter": {
        "hash": "aee8b7b246df8f9039afb4144a1f6fd8d2ca17a180786b69acc140d282b71a49"
      }
    }
  },
  "nbformat": 4,
  "nbformat_minor": 0
}
