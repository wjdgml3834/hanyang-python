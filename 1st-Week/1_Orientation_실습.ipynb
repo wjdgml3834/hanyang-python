{
  "nbformat": 4,
  "nbformat_minor": 0,
  "metadata": {
    "colab": {
      "name": "1. Orientation_실습.ipynb",
      "provenance": [],
      "collapsed_sections": []
    },
    "kernelspec": {
      "name": "python3",
      "display_name": "Python 3"
    },
    "language_info": {
      "name": "python"
    }
  },
  "cells": [
    {
      "cell_type": "markdown",
      "metadata": {
        "id": "CFWQBTSwyBrO"
      },
      "source": [
        "# **.ipynb 파일 다운로드 받고 내 google colab에 옮겨 실행해보기**"
      ]
    },
    {
      "cell_type": "markdown",
      "source": [
        "1. 파일 다운로드 받기\n",
        "2. Google colab 실행 (colab.google.com)\n",
        "3. 파일 -> 노트 업로드 클릭\n",
        "4. 다운로드 받은 위치에 있는 .ipynb 파일 끌어다 놓기"
      ],
      "metadata": {
        "id": "0qO0xRqFzJu5"
      }
    },
    {
      "cell_type": "markdown",
      "metadata": {
        "id": "FepvVHTsZWpo"
      },
      "source": [
        "# **Python과 Colab 둘러보기**"
      ]
    },
    {
      "cell_type": "markdown",
      "source": [
        "일단, 한번 따라 쳐볼까요?"
      ],
      "metadata": {
        "id": "h43s9vBXymfL"
      }
    },
    {
      "cell_type": "code",
      "execution_count": null,
      "metadata": {
        "id": "hGCxeK1Cw1g0"
      },
      "outputs": [],
      "source": []
    },
    {
      "cell_type": "markdown",
      "source": [
        "잘했습니다. 이번에는, Hello, hanyang!을 출력 시켜 볼까요?"
      ],
      "metadata": {
        "id": "trTe4hEJIYnk"
      }
    },
    {
      "cell_type": "code",
      "source": [],
      "metadata": {
        "id": "ghPTMn7ozc-Y",
        "colab": {
          "base_uri": "https://localhost:8080/"
        },
        "outputId": "75f69114-6ff1-4625-dc8e-98d51ce26715"
      },
      "execution_count": null,
      "outputs": [
        {
          "output_type": "stream",
          "name": "stdout",
          "text": [
            "Hello, hanyang!\n"
          ]
        }
      ]
    },
    {
      "cell_type": "markdown",
      "source": [
        "칸을 추가해 봅시다."
      ],
      "metadata": {
        "id": "6MH7o6qGNoHB"
      }
    },
    {
      "cell_type": "code",
      "source": [],
      "metadata": {
        "id": "KUfoMny_NvOR"
      },
      "execution_count": null,
      "outputs": []
    },
    {
      "cell_type": "markdown",
      "source": [
        "아래 칸을 삭제해 봅시다."
      ],
      "metadata": {
        "id": "mIzspjQcNv3n"
      }
    },
    {
      "cell_type": "markdown",
      "source": [],
      "metadata": {
        "id": "5Y0Y2m3FNyRb"
      }
    },
    {
      "cell_type": "code",
      "source": [],
      "metadata": {
        "id": "zdO67eKqN0MQ"
      },
      "execution_count": null,
      "outputs": []
    },
    {
      "cell_type": "code",
      "source": [],
      "metadata": {
        "id": "grpxdw6jOK8H"
      },
      "execution_count": null,
      "outputs": []
    },
    {
      "cell_type": "markdown",
      "source": [
        "## 단축키도 사용해 봅시다\n",
        "- 셀 지우기: Ctrl + M D\n",
        "- 셀 추가: B"
      ],
      "metadata": {
        "id": "hTDvgVkfOBZM"
      }
    },
    {
      "cell_type": "markdown",
      "source": [
        "# **마크다운 사용해보기**"
      ],
      "metadata": {
        "id": "ApGcT6pcIjt5"
      }
    },
    {
      "cell_type": "markdown",
      "source": [
        "## #은 뭘까요?\n",
        "\n",
        "### #의 개수에 따라 얼마나 차이가 날까요?\n",
        "\n",
        "#### 점점 작아지는 것 같은데..\n",
        "\n",
        "##### 몇 개 까지 되는지\n",
        "\n",
        "###### 직접 해봅시다"
      ],
      "metadata": {
        "id": "VsnLH62rKN3u"
      }
    },
    {
      "cell_type": "markdown",
      "source": [
        "강조를 한번 `강조` 해볼까요?\n",
        "\n",
        "한번 *기울여서* 글씨를 써볼까요?\n",
        "\n",
        "이렇게 하면 **굵게**도 되네요\n",
        "\n",
        "<U>밑줄</U>도 한번 해봅시다.\n",
        "\n",
        "***기울여서 굵게***"
      ],
      "metadata": {
        "id": "hzRbEFfrU7vd"
      }
    },
    {
      "cell_type": "markdown",
      "source": [
        "## 주석 처리 연습"
      ],
      "metadata": {
        "id": "P1Onm09POi-X"
      }
    },
    {
      "cell_type": "markdown",
      "source": [
        "주석은 코드의 설명을 메모하기 위해 쓰입니다.\n",
        "\n",
        "- #의 뒤의 문장은 주석으로 처리됩니다.\n",
        "- 주석이 여러 줄이라면 \"\"\"를 이용하세요."
      ],
      "metadata": {
        "id": "iSA7DbynPx1S"
      }
    },
    {
      "cell_type": "code",
      "source": [],
      "metadata": {
        "id": "CRPQ7RGkKHO5"
      },
      "execution_count": 3,
      "outputs": []
    },
    {
      "cell_type": "code",
      "source": [],
      "metadata": {
        "id": "BPeBx7PiIiOR"
      },
      "execution_count": 3,
      "outputs": []
    },
    {
      "cell_type": "markdown",
      "source": [
        "# **실습**"
      ],
      "metadata": {
        "id": "mf8fmIFby7Sc"
      }
    },
    {
      "cell_type": "markdown",
      "source": [
        "## 1. 마크다운 섹션을 아래에 추가하고, 좋아하는 노래 가사를 적어보세요."
      ],
      "metadata": {
        "id": "BjsAVzBlS9QI"
      }
    },
    {
      "cell_type": "markdown",
      "source": [
        "## 2. 코드 섹션을 아래에 추가하고, print()를 이용해 좋아하는 노래 가사를 적어보세요.\n"
      ],
      "metadata": {
        "id": "1uoe536zTLRH"
      }
    },
    {
      "cell_type": "markdown",
      "source": [
        "## 3. 주석을 사용해서 아래 코드의 일부를 지워봅시다."
      ],
      "metadata": {
        "id": "K0TCt0_PT7h6"
      }
    },
    {
      "cell_type": "code",
      "source": [
        "print(\"< 라면 끓이는 법 >\")\n",
        "print(\"- 먼저 물을 준비합니다.\")\n",
        "print(\"- 물에 소금을 넣습니다.\")\n",
        "print(\"- 물에 스프를 넣습니다.\")\n",
        "print(\"- 물이 끓으면 라면사리를 넣습니다.\")\n",
        "print(\"- 고수를 넣습니다.\")\n",
        "print(\"- 오이를 넣습니다.\")\n",
        "print(\"- 민트초코를 넣습니다.\")\n",
        "print(\"- 계란을 넣습니다.\")\n",
        "print(\"- 치즈를 넣습니다.\")\n",
        "print(\"- 라면 완성!\")"
      ],
      "metadata": {
        "colab": {
          "base_uri": "https://localhost:8080/"
        },
        "id": "mJU6385qT4rj",
        "outputId": "0f6a25b0-ef0b-46fd-d90c-095079420bba"
      },
      "execution_count": 4,
      "outputs": [
        {
          "output_type": "stream",
          "name": "stdout",
          "text": [
            "< 라면 끓이는 법 >\n",
            "- 먼저 물을 준비합니다.\n",
            "- 물에 소금을 넣습니다.\n",
            "- 물에 스프를 넣습니다.\n",
            "- 물이 끓으면 라면사리를 넣습니다.\n",
            "- 고수를 넣습니다.\n",
            "- 오이를 넣습니다.\n",
            "- 민트초코를 넣습니다.\n",
            "- 계란을 넣습니다.\n",
            "- 치즈를 넣습니다.\n",
            "- 라면 완성!\n"
          ]
        }
      ]
    },
    {
      "cell_type": "code",
      "source": [],
      "metadata": {
        "id": "fb2miYOEVFpe"
      },
      "execution_count": null,
      "outputs": []
    }
  ]
}