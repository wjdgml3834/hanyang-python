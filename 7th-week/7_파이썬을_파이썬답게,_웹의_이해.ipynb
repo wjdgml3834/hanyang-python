{
  "cells": [
    {
      "cell_type": "markdown",
      "metadata": {
        "id": "XBSFfC1ZvD0K"
      },
      "source": [
        "## **1. 먼저 복습을 해볼까요?**\n",
        "\n",
        "저번 시간에 배운 내용:\n",
        "\n",
        "- 객체지향: 클래스, 메소드, 상속\n",
        "- 에러처리"
      ]
    },
    {
      "cell_type": "markdown",
      "metadata": {
        "id": "xb0H3cG8vXHf"
      },
      "source": [
        "**< 복습문제1: 사탕가게 >**\n",
        "\n",
        "사탕가게에서는 사탕을 10개 살 때 마다 껌을 하나씩 무료로 줍니다. 사탕과 껌의 가격은 사탕이 500원, 껌이 300원 입니다. 구매한 사탕의 수 n과, 구매한 껌의 수 k가 주어질 때 총 얼마를 지불해야 하는지 계산하는 프로그램을 작성하시오."
      ]
    },
    {
      "cell_type": "code",
      "execution_count": 11,
      "metadata": {
        "id": "uhp62u-Uu7bW"
      },
      "outputs": [],
      "source": [
        "def solution(n, k):\n",
        "   answer = 500 *n + 300*(k - int(n/10))\n",
        "   return answer"
      ]
    },
    {
      "cell_type": "code",
      "execution_count": 12,
      "metadata": {
        "colab": {
          "base_uri": "https://localhost:8080/"
        },
        "id": "HdEjPJ-CwTMv",
        "outputId": "5b1fd588-dbc9-4645-ef6b-0d2239996eb7"
      },
      "outputs": [
        {
          "data": {
            "text/plain": [
              "5600"
            ]
          },
          "execution_count": 12,
          "metadata": {},
          "output_type": "execute_result"
        }
      ],
      "source": [
        "solution(10, 3) # 5600"
      ]
    },
    {
      "cell_type": "code",
      "execution_count": 8,
      "metadata": {
        "colab": {
          "base_uri": "https://localhost:8080/"
        },
        "id": "uM5geB3pwnIZ",
        "outputId": "e0ef9088-38a1-4b17-b4aa-97d81a74c687"
      },
      "outputs": [
        {
          "data": {
            "text/plain": [
              "32000"
            ]
          },
          "execution_count": 8,
          "metadata": {},
          "output_type": "execute_result"
        }
      ],
      "source": [
        "solution(64, 6) # 32000"
      ]
    },
    {
      "cell_type": "code",
      "execution_count": 13,
      "metadata": {},
      "outputs": [],
      "source": [
        "# 선생님 풀이\n",
        "def solution(n, k):\n",
        "   answer = 500 * n + 300* (k - n//10)\n",
        "   return answer"
      ]
    },
    {
      "cell_type": "markdown",
      "metadata": {
        "id": "i4KR0XBrxYu0"
      },
      "source": [
        "**< 복습문제2: 국화빵을 만들어봅시다 >**\n",
        "\n",
        "- 국화빵(FlowerBread) 클래스를 구현할 것입니다.\n",
        "- 국화빵은 만들어질 때 무게(weight)를 입력받습니다.\n",
        "- 무게는 40이상 80이하여야 합니다. 벗어나는 경우 무게는 50으로 처리해야 합니다.\n",
        "- 국화빵은 한번 먹을 때 마다 무게가 30씩 줄어듭니다. (eat 메소드 구현)\n",
        "- 무게가 0이 되면, \"더 이상 먹을 수 없습니다\"를 출력합니다."
      ]
    },
    {
      "cell_type": "code",
      "execution_count": 22,
      "metadata": {
        "id": "c_hmoQONwpKc"
      },
      "outputs": [
        {
          "name": "stdout",
          "output_type": "stream",
          "text": [
            "50로 국화빵이 만들어졌습니다.\n",
            "맛있게 먹었습니다.\n"
          ]
        }
      ],
      "source": [
        "class FlowerBread:\n",
        "    def __init__ (self, weight):\n",
        "        if (weight < 40 or weight > 80):\n",
        "            self.weight = 50\n",
        "        else:\n",
        "            self.weight = weight\n",
        "            print(f'{self.weight}로 국화빵이 만들어졌습니다.')\n",
        "    \n",
        "    def eat(self):\n",
        "        if self.weight == 0:\n",
        "            print('더 이상 먹을 수 없습니다.')\n",
        "        self.weight = self.weight - 30\n",
        "        if self.weight < 0:\n",
        "            self.weight = 0\n",
        "        print('맛있게 먹었습니다.')\n",
        "        \n",
        "        \n",
        "small_flower_bread = FlowerBread(50)\n",
        "\n",
        "small_flower_bread.eat()\n"
      ]
    },
    {
      "cell_type": "markdown",
      "metadata": {
        "id": "oxqWUpYVz361"
      },
      "source": [
        "## **2. 파이썬을 파이썬답게**"
      ]
    },
    {
      "cell_type": "markdown",
      "metadata": {
        "id": "3Bfmt3tl0C9m"
      },
      "source": [
        "###**2-1. 몫과 나머지 구하기** (divmod)"
      ]
    },
    {
      "cell_type": "markdown",
      "metadata": {
        "id": "HD7a2pe60WUD"
      },
      "source": [
        "**먼저 다음의 문제를 풀어봅시다.**\n",
        "\n",
        "a를 b로 나눈 몫과 나머지를 구해보세요."
      ]
    },
    {
      "cell_type": "code",
      "execution_count": 23,
      "metadata": {
        "id": "oR77IM5Xz3Ud"
      },
      "outputs": [
        {
          "name": "stdout",
          "output_type": "stream",
          "text": [
            "1\n",
            "2\n"
          ]
        }
      ],
      "source": [
        "a = 7\n",
        "b = 5\n",
        "\n",
        "# TODO\n",
        "print(int(a / b) )\n",
        "print(int(a % b))\n",
        "\n",
        "# 선생님 풀이\n",
        "# 몫만 구하는 연산자: // \n",
        "print(int(a // b))\n"
      ]
    },
    {
      "cell_type": "markdown",
      "metadata": {
        "id": "KGz95Qig03dF"
      },
      "source": [
        "**이번에는 divmod를 이용해 보겠습니다.**"
      ]
    },
    {
      "cell_type": "code",
      "execution_count": 24,
      "metadata": {
        "id": "e-d4SVuR0wLF"
      },
      "outputs": [
        {
          "data": {
            "text/plain": [
              "(1, 2)"
            ]
          },
          "execution_count": 24,
          "metadata": {},
          "output_type": "execute_result"
        }
      ],
      "source": [
        "# divmod => 몫과 나머지 한번에 구하기 \n",
        "\n",
        "divmod(a,b)\n",
        "\n"
      ]
    },
    {
      "cell_type": "markdown",
      "metadata": {
        "id": "wPC-4UvB2dH3"
      },
      "source": [
        "###**2-2. 슬라이싱 심화**\n",
        "\n",
        "[start:stop:step]"
      ]
    },
    {
      "cell_type": "code",
      "execution_count": 14,
      "metadata": {
        "colab": {
          "base_uri": "https://localhost:8080/"
        },
        "id": "ddbQCJwh2eGj",
        "outputId": "abf5917f-4402-4d9f-b1df-e04f75bff563"
      },
      "outputs": [
        {
          "name": "stdout",
          "output_type": "stream",
          "text": [
            "abcdefghijklmnopqrstuvwxyz\n"
          ]
        }
      ],
      "source": [
        "# 모든 알파벳은 이렇게 불러올 수도 있습니다.\n",
        "import string \n",
        "alpha = string.ascii_lowercase\n",
        "print(alpha)"
      ]
    },
    {
      "cell_type": "code",
      "execution_count": 15,
      "metadata": {
        "colab": {
          "base_uri": "https://localhost:8080/",
          "height": 35
        },
        "id": "hqwau7Nt2sEQ",
        "outputId": "7edd3682-d60c-4a4a-dc20-c2ff6aaf3059"
      },
      "outputs": [
        {
          "data": {
            "application/vnd.google.colaboratory.intrinsic+json": {
              "type": "string"
            },
            "text/plain": [
              "'abcde'"
            ]
          },
          "execution_count": 15,
          "metadata": {},
          "output_type": "execute_result"
        }
      ],
      "source": [
        "alpha[0:5]"
      ]
    },
    {
      "cell_type": "code",
      "execution_count": 16,
      "metadata": {
        "colab": {
          "base_uri": "https://localhost:8080/",
          "height": 35
        },
        "id": "WS3q6okn2wLI",
        "outputId": "25cf671b-39f0-43e5-ad35-188dcf271452"
      },
      "outputs": [
        {
          "data": {
            "application/vnd.google.colaboratory.intrinsic+json": {
              "type": "string"
            },
            "text/plain": [
              "'klmnopqrstuvwxyz'"
            ]
          },
          "execution_count": 16,
          "metadata": {},
          "output_type": "execute_result"
        }
      ],
      "source": [
        "alpha[10:] # 두번째꺼를 생략하면 끝까지 한다. "
      ]
    },
    {
      "cell_type": "code",
      "execution_count": 17,
      "metadata": {
        "colab": {
          "base_uri": "https://localhost:8080/",
          "height": 35
        },
        "id": "8hcZzCHg2x8O",
        "outputId": "ca91709e-39b0-4087-a24e-4d4243f799a6"
      },
      "outputs": [
        {
          "data": {
            "application/vnd.google.colaboratory.intrinsic+json": {
              "type": "string"
            },
            "text/plain": [
              "'abc'"
            ]
          },
          "execution_count": 17,
          "metadata": {},
          "output_type": "execute_result"
        }
      ],
      "source": [
        "alpha[:3]"
      ]
    },
    {
      "cell_type": "code",
      "execution_count": 18,
      "metadata": {
        "colab": {
          "base_uri": "https://localhost:8080/",
          "height": 35
        },
        "id": "Z4Qg1BYQ2y-t",
        "outputId": "223e8f05-1a62-4fed-ffd0-52802c247386"
      },
      "outputs": [
        {
          "data": {
            "application/vnd.google.colaboratory.intrinsic+json": {
              "type": "string"
            },
            "text/plain": [
              "'abcdefghijklmnopqrstuvwxyz'"
            ]
          },
          "execution_count": 18,
          "metadata": {},
          "output_type": "execute_result"
        }
      ],
      "source": [
        "alpha[:] # 다 생략하면 전체라는 의미이다. "
      ]
    },
    {
      "cell_type": "code",
      "execution_count": 26,
      "metadata": {
        "colab": {
          "base_uri": "https://localhost:8080/",
          "height": 35
        },
        "id": "KCRpX6Cs20uY",
        "outputId": "6255ef08-100d-4dd4-baec-e127a56d500c"
      },
      "outputs": [
        {
          "ename": "NameError",
          "evalue": "name 'alpha' is not defined",
          "output_type": "error",
          "traceback": [
            "\u001b[0;31m---------------------------------------------------------------------------\u001b[0m",
            "\u001b[0;31mNameError\u001b[0m                                 Traceback (most recent call last)",
            "Cell \u001b[0;32mIn [26], line 1\u001b[0m\n\u001b[0;32m----> 1\u001b[0m \u001b[43malpha\u001b[49m[::\u001b[38;5;241m2\u001b[39m]\n",
            "\u001b[0;31mNameError\u001b[0m: name 'alpha' is not defined"
          ]
        }
      ],
      "source": [
        "alpha[::2] # 세번째 인자를 주면 처음부터 끝까지 세개씩 건너 띄어라"
      ]
    },
    {
      "cell_type": "code",
      "execution_count": 25,
      "metadata": {
        "colab": {
          "base_uri": "https://localhost:8080/",
          "height": 35
        },
        "id": "VdO-8swa22rP",
        "outputId": "a2ca914d-fc8a-49df-fa56-d633a1fe3f38"
      },
      "outputs": [
        {
          "ename": "NameError",
          "evalue": "name 'alpha' is not defined",
          "output_type": "error",
          "traceback": [
            "\u001b[0;31m---------------------------------------------------------------------------\u001b[0m",
            "\u001b[0;31mNameError\u001b[0m                                 Traceback (most recent call last)",
            "Cell \u001b[0;32mIn [25], line 1\u001b[0m\n\u001b[0;32m----> 1\u001b[0m \u001b[43malpha\u001b[49m[::\u001b[38;5;241m3\u001b[39m]\n",
            "\u001b[0;31mNameError\u001b[0m: name 'alpha' is not defined"
          ]
        }
      ],
      "source": [
        "alpha[::3] "
      ]
    },
    {
      "cell_type": "code",
      "execution_count": 21,
      "metadata": {
        "colab": {
          "base_uri": "https://localhost:8080/",
          "height": 35
        },
        "id": "cOhIOXCG23WJ",
        "outputId": "93ce8718-8713-46d4-ed35-5306afb51bae"
      },
      "outputs": [
        {
          "data": {
            "application/vnd.google.colaboratory.intrinsic+json": {
              "type": "string"
            },
            "text/plain": [
              "'zyxwvutsrqponmlkjihgfedcba'"
            ]
          },
          "execution_count": 21,
          "metadata": {},
          "output_type": "execute_result"
        }
      ],
      "source": [
        "alpha[::-1] # 이렇게 뒤집을 수도 있습니다."
      ]
    },
    {
      "cell_type": "code",
      "execution_count": 24,
      "metadata": {
        "colab": {
          "base_uri": "https://localhost:8080/"
        },
        "id": "OjKP27p73Fwr",
        "outputId": "03e34c99-e512-4cce-cc35-3fce2f91d7de"
      },
      "outputs": [
        {
          "data": {
            "text/plain": [
              "[1, 4, 7]"
            ]
          },
          "execution_count": 24,
          "metadata": {},
          "output_type": "execute_result"
        }
      ],
      "source": [
        "list(range(1, 10, 3)) # range도 비슷하게 사용 가능합니다. 1부터 10까지 3개씩 건너 띄세요"
      ]
    },
    {
      "cell_type": "code",
      "execution_count": 26,
      "metadata": {
        "colab": {
          "base_uri": "https://localhost:8080/"
        },
        "id": "ozzMGv8r3K-G",
        "outputId": "5875bbad-f447-4170-ca8f-ebc185ee22bb"
      },
      "outputs": [
        {
          "data": {
            "text/plain": [
              "[10, 9, 8, 7, 6, 5, 4, 3, 2]"
            ]
          },
          "execution_count": 26,
          "metadata": {},
          "output_type": "execute_result"
        }
      ],
      "source": [
        "list(range(10, 1, -1))"
      ]
    },
    {
      "cell_type": "markdown",
      "metadata": {
        "id": "fxObb68j1Fze"
      },
      "source": [
        "###**2-3. n진법을 10진법으로 바꾸기**"
      ]
    },
    {
      "cell_type": "markdown",
      "metadata": {
        "id": "OmD_-37V1yrE"
      },
      "source": [
        "![image.png](data:image/png;base64,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)"
      ]
    },
    {
      "cell_type": "markdown",
      "metadata": {
        "id": "duQHlTta19tT"
      },
      "source": [
        "**2진수가 주어졌을 때, 10진수로 변환하는 프로그램을 만들어봅시다.**"
      ]
    },
    {
      "cell_type": "code",
      "execution_count": 45,
      "metadata": {
        "colab": {
          "base_uri": "https://localhost:8080/"
        },
        "id": "JYhr7-YS1x6f",
        "outputId": "70a3f76c-12ef-4bbd-cbe9-c729da18648e"
      },
      "outputs": [
        {
          "data": {
            "text/plain": [
              "11"
            ]
          },
          "execution_count": 45,
          "metadata": {},
          "output_type": "execute_result"
        }
      ],
      "source": [
        "def to_decimal(binary):\n",
        "    num_length = len(binary)\n",
        "    answer = 0\n",
        "    for i in range(num_length):\n",
        "        answer = answer +  int(binary[i]) * (2 ** (num_length - (i+1))) \n",
        "    return answer\n",
        "\n",
        "to_decimal(\"1011\") # 11"
      ]
    },
    {
      "cell_type": "code",
      "execution_count": 46,
      "metadata": {},
      "outputs": [
        {
          "data": {
            "text/plain": [
              "11"
            ]
          },
          "execution_count": 46,
          "metadata": {},
          "output_type": "execute_result"
        }
      ],
      "source": [
        "# 선생님 풀이\n",
        "\n",
        "def to_decimal(binary):\n",
        "    answer = 0\n",
        "    binary = binary[::-1] # 뒤집어줘서 시작하는 것도 방법이다.\n",
        "    for i in range(len(binary)):\n",
        "        answer += int(binary[i]) * (2 ** i)\n",
        "    return answer\n",
        "\n",
        "to_decimal(\"1011\") # 11"
      ]
    },
    {
      "cell_type": "code",
      "execution_count": 47,
      "metadata": {},
      "outputs": [
        {
          "data": {
            "text/plain": [
              "11"
            ]
          },
          "execution_count": 47,
          "metadata": {},
          "output_type": "execute_result"
        }
      ],
      "source": [
        "int('1011', 2) # 이것도 있다."
      ]
    },
    {
      "cell_type": "markdown",
      "metadata": {
        "id": "3DJBdigU3rcS"
      },
      "source": [
        "###**2-4. 가장 많이 등장하는 알파벳 찾기**"
      ]
    },
    {
      "cell_type": "markdown",
      "metadata": {
        "id": "H6l9sPyw31fb"
      },
      "source": [
        "알파벳으로 주어진 문자열 s가 있습니다.\n",
        "\n",
        "s에서 가장 많이 등장하는 알파벳을 찾는 프로그램을 작성하시오."
      ]
    },
    {
      "cell_type": "code",
      "execution_count": 48,
      "metadata": {
        "id": "eXut3mf34ACo"
      },
      "outputs": [],
      "source": [
        "def solution(s):\n",
        "    arr = list(s)\n",
        "    for i in range(len(s)):\n",
        "        if (arr[i] == arr[i+1]):\n",
        "            \n",
        "    return answer"
      ]
    },
    {
      "cell_type": "code",
      "execution_count": null,
      "metadata": {},
      "outputs": [],
      "source": [
        "# 쌤풀이\n",
        "def solution(s):\n",
        "    value = dict()\n",
        "    for a in s:\n",
        "        if a in dict:\n",
        "            value[a] += 1\n",
        "        else:\n",
        "            value[a] = 1\n",
        "    max_number = 0\n",
        "    for k,v in value.items():\n",
        "        if max_number < v:\n",
        "            max_number = v\n",
        "            answer = k\n",
        "                \n",
        "    return answer"
      ]
    },
    {
      "cell_type": "code",
      "execution_count": 49,
      "metadata": {
        "colab": {
          "base_uri": "https://localhost:8080/"
        },
        "id": "p3QCBk4_2Tgf",
        "outputId": "acbc377f-0179-495d-e632-d43565dfbda6"
      },
      "outputs": [
        {
          "data": {
            "text/plain": [
              "['a', 'b', 'c', 'c', 'a', 'a']"
            ]
          },
          "execution_count": 49,
          "metadata": {},
          "output_type": "execute_result"
        }
      ],
      "source": [
        "solution(\"abccaa\") # a"
      ]
    },
    {
      "cell_type": "code",
      "execution_count": 31,
      "metadata": {
        "colab": {
          "base_uri": "https://localhost:8080/"
        },
        "id": "uRTsY0xF4JSb",
        "outputId": "b78c0b5b-7a7e-46a8-d9df-0486dfa15344"
      },
      "outputs": [
        {
          "data": {
            "text/plain": [
              "0"
            ]
          },
          "execution_count": 31,
          "metadata": {},
          "output_type": "execute_result"
        }
      ],
      "source": [
        "solution(\"ddddefg\") # d"
      ]
    },
    {
      "cell_type": "markdown",
      "metadata": {
        "id": "kmw6GkBU4TwO"
      },
      "source": [
        "이번에는, collections모듈의 Counter를 이용해봅시다.\n",
        "\n",
        "import collections\n",
        "\n",
        "collections.Counter()"
      ]
    },
    {
      "cell_type": "code",
      "execution_count": 2,
      "metadata": {
        "id": "L7FF9W__4P4U"
      },
      "outputs": [
        {
          "name": "stdout",
          "output_type": "stream",
          "text": [
            "a\n"
          ]
        }
      ],
      "source": [
        "import collections\n",
        "\n",
        "counter = collections.Counter('abccaa')\n",
        "\n",
        "mc = counter.most_common()\n",
        "\n",
        "print(mc[0][0])"
      ]
    },
    {
      "cell_type": "markdown",
      "metadata": {
        "id": "zLjqudX84vEG"
      },
      "source": [
        "## **3. 인터넷과 HTML**"
      ]
    },
    {
      "cell_type": "code",
      "execution_count": 32,
      "metadata": {
        "colab": {
          "base_uri": "https://localhost:8080/",
          "height": 320
        },
        "id": "1IUBDMP84wNi",
        "outputId": "2460ed8e-5ef1-471e-ba04-2db00b845c54"
      },
      "outputs": [
        {
          "data": {
            "image/jpeg": "[encoded data removed]",
            "text/html": [
              "\n",
              "        <iframe\n",
              "            width=\"500\"\n",
              "            height=\"300\"\n",
              "            src=\"https://www.youtube.com/embed/yBPyzaccbkc\"\n",
              "            frameborder=\"0\"\n",
              "            allowfullscreen\n",
              "        ></iframe>\n",
              "        "
            ],
            "text/plain": [
              "<IPython.lib.display.YouTubeVideo at 0x7fab11676790>"
            ]
          },
          "metadata": {},
          "output_type": "display_data"
        }
      ],
      "source": [
        "from IPython.display import YouTubeVideo, display\n",
        "video = YouTubeVideo(\"yBPyzaccbkc\", width=500)\n",
        "display(video)"
      ]
    },
    {
      "cell_type": "code",
      "execution_count": null,
      "metadata": {
        "id": "m4QMMvYC7x1N"
      },
      "outputs": [],
      "source": []
    },
    {
      "cell_type": "markdown",
      "metadata": {
        "id": "dkOk_OCW6c3i"
      },
      "source": [
        "![image.png](data:image/png;base64,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)"
      ]
    },
    {
      "cell_type": "code",
      "execution_count": null,
      "metadata": {
        "id": "qJYg0u-I7w99"
      },
      "outputs": [],
      "source": []
    },
    {
      "cell_type": "markdown",
      "metadata": {
        "id": "qxbH2zas6tMN"
      },
      "source": [
        "![image.png](data:image/png;base64,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)"
      ]
    },
    {
      "cell_type": "code",
      "execution_count": null,
      "metadata": {
        "id": "sBqO82cO7u-b"
      },
      "outputs": [],
      "source": []
    },
    {
      "cell_type": "markdown",
      "metadata": {
        "id": "85NK13DQ6vyD"
      },
      "source": [
        "**자, 그럼 웹 브라우저에서 HTML을 관찰해 봅시다.**\n",
        "\n",
        "https://humanities.hanyang.ac.kr/"
      ]
    },
    {
      "cell_type": "code",
      "execution_count": null,
      "metadata": {
        "id": "WGxnVcah7wZG"
      },
      "outputs": [],
      "source": []
    },
    {
      "cell_type": "markdown",
      "metadata": {
        "id": "VJTTDEgj7Z_D"
      },
      "source": [
        "![image.png](data:image/png;base64,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)"
      ]
    },
    {
      "cell_type": "code",
      "execution_count": null,
      "metadata": {
        "id": "3dgwbXse6T4W"
      },
      "outputs": [],
      "source": []
    },
    {
      "cell_type": "markdown",
      "metadata": {
        "id": "qZepZics72rD"
      },
      "source": [
        "##**일일 과제**"
      ]
    },
    {
      "cell_type": "markdown",
      "metadata": {
        "id": "ZZyJvs328Bio"
      },
      "source": [
        "**1. 세균 증식**\n",
        "\n",
        "어떤 세균은 1시간에 두배만큼 증식한다고 합니다.\n",
        "\n",
        "처음 세균의 마리수 n과 경과한 시간 t가 매개변수로 주어질 때,\n",
        "\n",
        "t시간 후 세균의 수를 return하도록 solution 함수를 완성해주세요."
      ]
    },
    {
      "cell_type": "code",
      "execution_count": 81,
      "metadata": {
        "colab": {
          "base_uri": "https://localhost:8080/"
        },
        "id": "Lg7CbAqY7_ku",
        "outputId": "4e798709-90f0-4f87-843b-ce4cea6a531b"
      },
      "outputs": [
        {
          "name": "stdout",
          "output_type": "stream",
          "text": [
            "2048\n",
            "229376\n"
          ]
        }
      ],
      "source": [
        "def solution(n, t):\n",
        "    answer = n * (2 ** t)\n",
        "    return answer\n",
        "\n",
        "print(solution(2, 10)) # 2048\n",
        "\n",
        "print(solution(7, 15)) # 229376"
      ]
    },
    {
      "cell_type": "markdown",
      "metadata": {
        "id": "hpmcqUEI83_m"
      },
      "source": [
        "**2. 암호 해독**\n",
        "\n",
        "군 전략가 머쓱이는 전쟁 중 적군이 다음과 같은 암호 체계를 사용한다는 것을 알아냈습니다.\n",
        "- 암호화된 문자열 cipher를 주고받습니다.\n",
        "- 그 문자열에서 code의 배수 번째 글자만 진짜 암호입니다.\n",
        "\n",
        "문자열 cipher와 정수 code가 매개변수로 주어질 때 해독된 암호 문자열을 return하도록 solution 함수를 완성해주세요."
      ]
    },
    {
      "cell_type": "code",
      "execution_count": 73,
      "metadata": {
        "colab": {
          "base_uri": "https://localhost:8080/"
        },
        "id": "sgebx1cK8uJE",
        "outputId": "e701d05d-7811-493f-9d33-554ba67b2e54"
      },
      "outputs": [
        {
          "name": "stdout",
          "output_type": "stream",
          "text": [
            "attack\n",
            "fallback\n"
          ]
        }
      ],
      "source": [
        "def solution(cipher, code):\n",
        "    answer = cipher[code-1::code]\n",
        "    return answer\n",
        "\n",
        "print( solution(\"dfjardstddetckdaccccdegk\", 4) ) # \"attack\"\n",
        "print( solution(\"pfqallllabwaoclk\", 2) ) # \"fallback\""
      ]
    },
    {
      "cell_type": "markdown",
      "metadata": {
        "id": "fAd9tel29iGn"
      },
      "source": [
        "**3. 메뉴를 입력받는 종업원**\n",
        "\n",
        "웨이터(Waiter) 클래스를 구현해 봅시다.\n",
        "\n",
        "웨이터 클래스는 생성될 때, memory라는 리스트를 갖습니다.\n",
        "\n",
        "웨이터는 계속해서 주문을 입력받습니다. (order)\n",
        "\n",
        "- order 메소드는 food_name을 입력받습니다.\n",
        "- 주문 시, food_name은 memory에 계속해서 추가됩니다.\n",
        "- 주문 시, \"food_name을 주문받았습니다.\"를 출력합니다.\n",
        "\n",
        "현재까지 주문한 내용을 체크할 수 있습니다. (check)\n",
        "\n",
        "- check 메소드는 아무것도 입력받지 않습니다.\n",
        "- check 메소드 실행 시, 현재까지 주문된 음식의 이름과 수를 출력합니다."
      ]
    },
    {
      "cell_type": "code",
      "execution_count": 80,
      "metadata": {
        "id": "uKeX80vv9bCW"
      },
      "outputs": [
        {
          "name": "stdout",
          "output_type": "stream",
          "text": [
            "생선까스을 주문 받았습니다.\n",
            "제육을 주문 받았습니다.\n",
            "제육을 주문 받았습니다.\n",
            "짜장면을 주문 받았습니다.\n",
            "제육를 2개 주문했습니다.\n",
            "생선까스를 1개 주문했습니다.\n",
            "짜장면를 1개 주문했습니다.\n"
          ]
        }
      ],
      "source": [
        "# TODO\n",
        "\n",
        "class Waiter:\n",
        "    def __init__(self):\n",
        "        self.memory = []\n",
        "        \n",
        "    def order(self, food_name):\n",
        "        self.memory.append(food_name)\n",
        "        print(f'{food_name}을 주문 받았습니다.')\n",
        "        \n",
        "    def check(self):\n",
        "        import collections\n",
        "        counter = collections.Counter(self.memory)\n",
        "        mc= counter.most_common()\n",
        "        for key,value in mc:\n",
        "            print(f'{key}를 {value}개 주문했습니다.')\n",
        "\n",
        "waiter = Waiter()\n",
        "\n",
        "waiter.order('생선까스')\n",
        "waiter.order('제육')\n",
        "waiter.order('제육')\n",
        "waiter.order('짜장면')\n",
        "\n",
        "waiter.check()\n"
      ]
    }
  ],
  "metadata": {
    "colab": {
      "collapsed_sections": [],
      "provenance": []
    },
    "kernelspec": {
      "display_name": "Python 3.10.7 64-bit",
      "language": "python",
      "name": "python3"
    },
    "language_info": {
      "codemirror_mode": {
        "name": "ipython",
        "version": 3
      },
      "file_extension": ".py",
      "mimetype": "text/x-python",
      "name": "python",
      "nbconvert_exporter": "python",
      "pygments_lexer": "ipython3",
      "version": "3.10.7"
    },
    "vscode": {
      "interpreter": {
        "hash": "aee8b7b246df8f9039afb4144a1f6fd8d2ca17a180786b69acc140d282b71a49"
      }
    }
  },
  "nbformat": 4,
  "nbformat_minor": 0
}
