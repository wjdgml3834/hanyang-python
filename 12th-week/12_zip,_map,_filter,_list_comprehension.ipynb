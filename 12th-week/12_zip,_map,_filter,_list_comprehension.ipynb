{
  "cells": [
    {
      "cell_type": "markdown",
      "metadata": {
        "id": "Bg4e_hEaawgb"
      },
      "source": [
        "**1. Zip으로 데이터 엮기**"
      ]
    },
    {
      "cell_type": "code",
      "execution_count": 2,
      "metadata": {
        "colab": {
          "base_uri": "https://localhost:8080/"
        },
        "id": "0E3qTjPiYyba",
        "outputId": "81fc0e28-354f-4948-aaf1-573fe8e63ced"
      },
      "outputs": [
        {
          "name": "stdout",
          "output_type": "stream",
          "text": [
            "('수빈', 100)\n",
            "('소희', 90)\n",
            "('봉선', 60)\n"
          ]
        }
      ],
      "source": [
        "scores = [100, 90, 60]\n",
        "names = [\"수빈\", \"소희\", \"봉선\"]\n",
        "for pair in zip(names, scores):\n",
        "    print(pair)"
      ]
    },
    {
      "cell_type": "code",
      "execution_count": 1,
      "metadata": {},
      "outputs": [
        {
          "name": "stdout",
          "output_type": "stream",
          "text": [
            "수빈 100\n",
            "소희 90\n",
            "봉선 60\n"
          ]
        }
      ],
      "source": [
        "scores = [100, 90, 60]\n",
        "names = [\"수빈\", \"소희\", \"봉선\"]\n",
        "for pair in zip(names, scores):\n",
        "    print(pair[0],pair[1]) # 각각도 출력 가능 "
      ]
    },
    {
      "cell_type": "code",
      "execution_count": 3,
      "metadata": {},
      "outputs": [
        {
          "name": "stdout",
          "output_type": "stream",
          "text": [
            "수빈 100\n",
            "소희 90\n",
            "봉선 60\n"
          ]
        }
      ],
      "source": [
        "scores = [100, 90, 60]\n",
        "names = [\"수빈\", \"소희\", \"봉선\"]\n",
        "for pair in zip(names, scores):\n",
        "    name,score =pair\n",
        "    print(name,score)"
      ]
    },
    {
      "cell_type": "markdown",
      "metadata": {
        "id": "wdsA0EgBbI-G"
      },
      "source": [
        "**2. Zip을 이용해 두 리스트 한번에 접근하기**"
      ]
    },
    {
      "cell_type": "code",
      "execution_count": 3,
      "metadata": {
        "colab": {
          "base_uri": "https://localhost:8080/"
        },
        "id": "qesFcfToa6n5",
        "outputId": "4d79138f-619d-49cd-c693-35966c2d2520"
      },
      "outputs": [
        {
          "name": "stdout",
          "output_type": "stream",
          "text": [
            "수빈의 점수는 100입니다.\n",
            "소희의 점수는 90입니다.\n",
            "봉선의 점수는 60입니다.\n"
          ]
        }
      ],
      "source": [
        "scores = [100, 90, 60]\n",
        "names = [\"수빈\", \"소희\", \"봉선\"]\n",
        "for name, score in zip(names, scores):\n",
        "    print(f'{name}의 점수는 {score}입니다.')"
      ]
    },
    {
      "cell_type": "markdown",
      "metadata": {
        "id": "ybD4EDu8biIv"
      },
      "source": [
        "**3. zip을 다시 unzip해서 되돌리기**"
      ]
    },
    {
      "cell_type": "code",
      "execution_count": 5,
      "metadata": {
        "colab": {
          "base_uri": "https://localhost:8080/"
        },
        "id": "80ieONffbhRF",
        "outputId": "dbf779e2-cdfb-41d9-b6b3-9121d8a750c5"
      },
      "outputs": [
        {
          "data": {
            "text/plain": [
              "[('수빈', 100), ('소희', 90), ('봉선', 60)]"
            ]
          },
          "execution_count": 5,
          "metadata": {},
          "output_type": "execute_result"
        }
      ],
      "source": [
        "scores = [100, 90, 60]\n",
        "names = [\"수빈\", \"소희\", \"봉선\"]\n",
        "pairs = list(zip(names, scores))\n",
        "pairs"
      ]
    },
    {
      "cell_type": "code",
      "execution_count": 15,
      "metadata": {},
      "outputs": [
        {
          "name": "stdout",
          "output_type": "stream",
          "text": [
            "['수빈', '소희', '봉선'] [100, 90, 60]\n"
          ]
        }
      ],
      "source": [
        "# for문을 이용해서 pairs를 다시 두개의 리스트 score2, name2로 만들어봅시다.\n",
        "scores = [100, 90, 60]\n",
        "names = [\"수빈\", \"소희\", \"봉선\"]\n",
        "pairs = list(zip(names, scores))\n",
        "\n",
        "score2 =list()\n",
        "name2 = list()\n",
        "for i,j in pairs:\n",
        "    score2.append(i)\n",
        "    name2.append(j)\n",
        "    \n",
        "print(score2, name2)\n",
        "    \n",
        "\n",
        "    "
      ]
    },
    {
      "cell_type": "code",
      "execution_count": 6,
      "metadata": {
        "colab": {
          "base_uri": "https://localhost:8080/"
        },
        "id": "azvQY_9Rca7L",
        "outputId": "be010e5c-b713-485c-afa1-3f12a98c05f3"
      },
      "outputs": [
        {
          "data": {
            "text/plain": [
              "[('수빈', '소희', '봉선'), (100, 90, 60)]"
            ]
          },
          "execution_count": 6,
          "metadata": {},
          "output_type": "execute_result"
        }
      ],
      "source": [
        "scores = [100, 90, 60]\n",
        "names = [\"수빈\", \"소희\", \"봉선\"]\n",
        "pairs = list(zip(names, scores))\n",
        "list(zip(*pairs)) # *은 되돌리는 것뿐이다. (unzip이다.) "
      ]
    },
    {
      "cell_type": "markdown",
      "metadata": {
        "id": "kIiEwHZActsm"
      },
      "source": [
        "**4. map을 이용해 리스트에 모든 요소에 특정 함수를 적용하기**"
      ]
    },
    {
      "cell_type": "code",
      "execution_count": 18,
      "metadata": {
        "id": "sHGyP9gTctBu"
      },
      "outputs": [
        {
          "name": "stdout",
          "output_type": "stream",
          "text": [
            "[1, 2, 3, 4, 5]\n"
          ]
        }
      ],
      "source": [
        "numbers = ['1', '2', '3', '4', '5']\n",
        "\n",
        "# 각각 숫자로 바꿔주기 \n",
        "for i,v in enumerate(numbers):\n",
        "    numbers[i] = int(v)\n",
        "    \n",
        "print(numbers)"
      ]
    },
    {
      "cell_type": "code",
      "execution_count": 19,
      "metadata": {},
      "outputs": [
        {
          "name": "stdout",
          "output_type": "stream",
          "text": [
            "[1, 2, 3, 4, 5]\n"
          ]
        }
      ],
      "source": [
        "numbers = ['1', '2', '3', '4', '5']\n",
        "\n",
        "numbers = list(map(int,numbers)) # 오른쪽에는 list 왼쪽에는 먹일것\n",
        "print(numbers)"
      ]
    },
    {
      "cell_type": "code",
      "execution_count": 20,
      "metadata": {},
      "outputs": [
        {
          "data": {
            "text/plain": [
              "[2, 3, 4, 5, 6]"
            ]
          },
          "execution_count": 20,
          "metadata": {},
          "output_type": "execute_result"
        }
      ],
      "source": [
        "# lambda 함수: 한 번 쓰고 버리는 함수, 한줄로 편하게 잡니다.\n",
        "lambda x: x+1\n",
        "\n",
        "numbers=[1,2,3,4,5]\n",
        "\n",
        "list(map(lambda x:x+1,numbers)) # 하나씩 더해준 것"
      ]
    },
    {
      "cell_type": "code",
      "execution_count": 21,
      "metadata": {},
      "outputs": [
        {
          "data": {
            "text/plain": [
              "[2, 4, 6, 8, 10]"
            ]
          },
          "execution_count": 21,
          "metadata": {},
          "output_type": "execute_result"
        }
      ],
      "source": [
        "# 한줄로 numbers의 모든 값을 숫자로 바꾸고 곱하기 2하기\n",
        "\n",
        "numbers=['1','2','3','4','5']\n",
        "\n",
        "list(map(lambda x:int(x) * 2,numbers)) # lambda x는 들어올값, 그 후는 내가 원하는 결과 \n",
        "\n"
      ]
    },
    {
      "cell_type": "markdown",
      "metadata": {
        "id": "eBKxh3lCc4LP"
      },
      "source": [
        "**5. filter를 이용해 원하는 리스트의 요소만 추출하기**"
      ]
    },
    {
      "cell_type": "code",
      "execution_count": 24,
      "metadata": {
        "id": "wYJr1uFRc3gh"
      },
      "outputs": [
        {
          "data": {
            "text/plain": [
              "[500, 600, 900]"
            ]
          },
          "execution_count": 24,
          "metadata": {},
          "output_type": "execute_result"
        }
      ],
      "source": [
        "numbers = [100, 200, 300, 400, 500, 600, 300, 200, 900]\n",
        "\n",
        "# 500이상의 수만 추출하기\n",
        "list(filter(lambda x:x>=500, numbers))"
      ]
    },
    {
      "cell_type": "code",
      "execution_count": 27,
      "metadata": {},
      "outputs": [
        {
          "data": {
            "text/plain": [
              "['3', '4', '5']"
            ]
          },
          "execution_count": 27,
          "metadata": {},
          "output_type": "execute_result"
        }
      ],
      "source": [
        "numbers=['1','2','3','4','5']\n",
        "list(filter(lambda x: (int(x)*2) >=5,numbers))"
      ]
    },
    {
      "cell_type": "markdown",
      "metadata": {
        "id": "6120EPOBeM8l"
      },
      "source": [
        "**5. list comprehension**"
      ]
    },
    {
      "cell_type": "code",
      "execution_count": 11,
      "metadata": {
        "colab": {
          "base_uri": "https://localhost:8080/"
        },
        "id": "CMhMXBxyePJH",
        "outputId": "55de2ea3-b192-4fd2-82a1-4fc0f3952cf6"
      },
      "outputs": [
        {
          "data": {
            "text/plain": [
              "[0, 1, 2, 3, 4, 5, 6, 7, 8, 9]"
            ]
          },
          "execution_count": 11,
          "metadata": {},
          "output_type": "execute_result"
        }
      ],
      "source": [
        "# 0부터 9까지 숫자를 생성하여 리스트 생성\n",
        "a = [i for i in range(10)] # 리스트 안에 for문을 넣는 것이다. \n",
        "#왼쪽에 i에 무슨짓을 할지 적는다. i+1해서 list에 넣을 수도 있다. \n",
        "a"
      ]
    },
    {
      "cell_type": "markdown",
      "metadata": {
        "id": "Y1MDG-vyeiwH"
      },
      "source": [
        "![image.png](data:image/png;base64,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)"
      ]
    },
    {
      "cell_type": "code",
      "execution_count": 13,
      "metadata": {
        "colab": {
          "base_uri": "https://localhost:8080/"
        },
        "id": "InCZuLuNehEN",
        "outputId": "4de9cbd1-5ba4-4ed9-b290-3a459c7f0bd3"
      },
      "outputs": [
        {
          "data": {
            "text/plain": [
              "[5, 6, 7, 8, 9, 10, 11, 12, 13, 14]"
            ]
          },
          "execution_count": 13,
          "metadata": {},
          "output_type": "execute_result"
        }
      ],
      "source": [
        "c = [i + 5 for i in range(10)]    # 0부터 9까지 숫자를 생성하면서 값에 5를 더하여 리스트 생성\n",
        "c"
      ]
    },
    {
      "cell_type": "code",
      "execution_count": 29,
      "metadata": {},
      "outputs": [
        {
          "data": {
            "text/plain": [
              "[0.0, 0.5, 1.0, 1.5, 2.0, 2.5, 3.0, 3.5, 4.0, 4.5, 5.0]"
            ]
          },
          "execution_count": 29,
          "metadata": {},
          "output_type": "execute_result"
        }
      ],
      "source": [
        "# 0부터 10까지 숫자를 생성하면서 2로 나눈 값을 넣은 리스트 생성\n",
        "\n",
        "b = [i/2 for i in range(11)]\n",
        "b"
      ]
    },
    {
      "cell_type": "markdown",
      "metadata": {
        "id": "-tcOvktsdz0m"
      },
      "source": [
        "**6. 리스트에 번호를 매겨 딕셔너리 만들기**"
      ]
    },
    {
      "cell_type": "code",
      "execution_count": 32,
      "metadata": {
        "id": "vQRsxIlOd5kY"
      },
      "outputs": [
        {
          "name": "stdout",
          "output_type": "stream",
          "text": [
            "{'오징어게임': 0, '슈룹': 1, '굿플레이스': 2, '핀과 제이크의 어드벤처 타임': 3}\n"
          ]
        }
      ],
      "source": [
        "netflix = ['오징어게임', '슈룹', '굿플레이스', '핀과 제이크의 어드벤처 타임']\n",
        "\n",
        "# {1:'오징어게임', 2:'슈룹' ... }\n",
        "dict = {i:v for i,v in enumerate(netflix)}\n",
        "\n",
        "print(dict)\n"
      ]
    }
  ],
  "metadata": {
    "colab": {
      "provenance": []
    },
    "kernelspec": {
      "display_name": "Python 3.10.7 64-bit",
      "language": "python",
      "name": "python3"
    },
    "language_info": {
      "codemirror_mode": {
        "name": "ipython",
        "version": 3
      },
      "file_extension": ".py",
      "mimetype": "text/x-python",
      "name": "python",
      "nbconvert_exporter": "python",
      "pygments_lexer": "ipython3",
      "version": "3.10.7"
    },
    "vscode": {
      "interpreter": {
        "hash": "aee8b7b246df8f9039afb4144a1f6fd8d2ca17a180786b69acc140d282b71a49"
      }
    }
  },
  "nbformat": 4,
  "nbformat_minor": 0
}
