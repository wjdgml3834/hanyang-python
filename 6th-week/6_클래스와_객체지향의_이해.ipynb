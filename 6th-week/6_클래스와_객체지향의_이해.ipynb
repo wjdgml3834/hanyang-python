{
  "cells": [
    {
      "cell_type": "markdown",
      "metadata": {
        "id": "dv_eKggBTZak"
      },
      "source": [
        "## **1. 먼저 복습을 해볼까요?**\n",
        "\n",
        "저번 시간에 배운 내용:\n",
        "\n",
        "- 함수의 개념\n",
        "- 다양한 내장함수\n",
        "- 딕셔너리의 활용"
      ]
    },
    {
      "cell_type": "markdown",
      "metadata": {
        "id": "F_2eN3NYfKHl"
      },
      "source": [
        "**< 복습문제1 >**\n",
        "\n",
        "**1-1) 다음의 국가별 GDP를 딕셔너리로 저장하세요.**\n",
        "\n",
        "미국\n",
        "25346805\n",
        "\n",
        "중국\n",
        "19911593\n",
        "\n",
        "일본\n",
        "4912147\n",
        "\n",
        "캐나다\n",
        "2221218\n",
        "\n",
        "러시아\n",
        "1429050\n",
        "\n",
        "대한민국\n",
        "1804680"
      ]
    },
    {
      "cell_type": "code",
      "execution_count": 20,
      "metadata": {
        "id": "UAfr_e0wShHO"
      },
      "outputs": [
        {
          "ename": "ValueError",
          "evalue": "too many values to unpack (expected 2)",
          "output_type": "error",
          "traceback": [
            "\u001b[0;31m---------------------------------------------------------------------------\u001b[0m",
            "\u001b[0;31mValueError\u001b[0m                                Traceback (most recent call last)",
            "Cell \u001b[0;32mIn [20], line 35\u001b[0m\n\u001b[1;32m     33\u001b[0m gdp\u001b[38;5;241m=\u001b[39m \u001b[38;5;28mdict\u001b[39m()\n\u001b[1;32m     34\u001b[0m \u001b[38;5;28;01mfor\u001b[39;00m t \u001b[38;5;129;01min\u001b[39;00m text\u001b[38;5;241m.\u001b[39mstrip()\u001b[38;5;241m.\u001b[39msplit(\u001b[38;5;124m'\u001b[39m\u001b[38;5;124m   \u001b[39m\u001b[38;5;130;01m\\n\u001b[39;00m\u001b[38;5;124m'\u001b[39m):\n\u001b[0;32m---> 35\u001b[0m     v1,v2 \u001b[38;5;241m=\u001b[39m t\u001b[38;5;241m.\u001b[39msplit()\n\u001b[1;32m     36\u001b[0m     gdp[v1] \u001b[38;5;241m=\u001b[39m \u001b[38;5;28mint\u001b[39m(v2)\n",
            "\u001b[0;31mValueError\u001b[0m: too many values to unpack (expected 2)"
          ]
        }
      ],
      "source": [
        "# TODO\n",
        "\n",
        "global_gdp = {'미국' : 25346805,\n",
        "              '중국' : 19911593,\n",
        "              '일본' : 4912147,\n",
        "              '캐나다': 2221218 ,\n",
        "              '러시아': 1429050,\n",
        "              '대한민국': 1804680,\n",
        "              }\n",
        "\n",
        "# 중급자용 version\n",
        "\n",
        "text = '''\n",
        "미국\n",
        "25346805\n",
        "\n",
        "중국\n",
        "19911593\n",
        "\n",
        "일본\n",
        "4912147\n",
        "\n",
        "캐나다\n",
        "2221218\n",
        "\n",
        "러시아\n",
        "1429050\n",
        "\n",
        "대한민국\n",
        "1804680\n",
        "'''\n",
        "\n",
        "gdp= dict()\n",
        "for t in text.strip().split('\\n'):\n",
        "    v1,v2 = t.split()\n",
        "    gdp[v1] = int(v2)"
      ]
    },
    {
      "cell_type": "markdown",
      "metadata": {
        "id": "4_deqJSQgf_b"
      },
      "source": [
        "**1-2) 나라의 이름과 GDP를 넣으면, 문장을 출력하는 함수를 만드세요.**\n",
        "\n",
        "예) 미국의 GDP는 25346805입니다."
      ]
    },
    {
      "cell_type": "code",
      "execution_count": 16,
      "metadata": {
        "id": "BzLmGoUQhDzT"
      },
      "outputs": [
        {
          "name": "stdout",
          "output_type": "stream",
          "text": [
            "미국의 GDP는 25346805입니다.\n"
          ]
        }
      ],
      "source": [
        "# TODO\n",
        "\n",
        "def print_gdp(country,gdp):\n",
        "    print(f'{country}의 GDP는 {gdp}입니다.')\n",
        "\n",
        "print_gdp('미국',25346805 )"
      ]
    },
    {
      "cell_type": "markdown",
      "metadata": {
        "id": "8Uj7o_ZVhEzU"
      },
      "source": [
        "**1-3) 딕셔너리를 순회하며 1-2의 함수를 이용하여 모든 나라의 GDP를 출력하세요.**"
      ]
    },
    {
      "cell_type": "code",
      "execution_count": 19,
      "metadata": {
        "id": "EcKVGblmhYIt"
      },
      "outputs": [
        {
          "name": "stdout",
          "output_type": "stream",
          "text": [
            "미국의 GDP는 25346805입니다.\n",
            "중국의 GDP는 19911593입니다.\n",
            "일본의 GDP는 4912147입니다.\n",
            "캐나다의 GDP는 2221218입니다.\n",
            "러시아의 GDP는 1429050입니다.\n",
            "대한민국의 GDP는 1804680입니다.\n"
          ]
        }
      ],
      "source": [
        "# TODO\n",
        "\n",
        "global_gdp = {'미국' : 25346805,\n",
        "              '중국' : 19911593,\n",
        "              '일본' : 4912147,\n",
        "              '캐나다': 2221218 ,\n",
        "              '러시아': 1429050,\n",
        "              '대한민국': 1804680,\n",
        "              }\n",
        "\n",
        "def print_gdp(country,gdp):\n",
        "    print(f'{country}의 GDP는 {gdp}입니다.')\n",
        "\n",
        "for key,value in global_gdp.items():\n",
        "    print_gdp(key,value)"
      ]
    },
    {
      "cell_type": "markdown",
      "metadata": {
        "id": "r2Nz_22cf3eY"
      },
      "source": [
        "**1-4) 러시아의 GDP는 1429050가 아니라 1829050입니다. 값을 업데이트 하고 다시 출력해주세요.**"
      ]
    },
    {
      "cell_type": "code",
      "execution_count": 23,
      "metadata": {
        "id": "yRpzdo3yf24y"
      },
      "outputs": [
        {
          "name": "stdout",
          "output_type": "stream",
          "text": [
            "{'미국': 25346805, '중국': 19911593, '일본': 4912147, '캐나다': 2221218, '러시아': 1829050, '대한민국': 1804680}\n"
          ]
        }
      ],
      "source": [
        "# TODO\n",
        "global_gdp = {'미국' : 25346805,\n",
        "              '중국' : 19911593,\n",
        "              '일본' : 4912147,\n",
        "              '캐나다': 2221218 ,\n",
        "              '러시아': 1429050,\n",
        "              '대한민국': 1804680,\n",
        "              }\n",
        "\n",
        "global_gdp['러시아'] = 1829050\n",
        "\n",
        "print(global_gdp)\n"
      ]
    },
    {
      "cell_type": "markdown",
      "metadata": {
        "id": "-zDzdjeShbxA"
      },
      "source": [
        "**< 복습문제2: 함수 만들어보기 >**\n",
        "\n",
        "1. is_same이라는 함수명으로\n",
        "2. a, b라는 두 개의 문자열을 받아서\n",
        "3. 같으면 True, 다르면 False를 반환하는 함수를 만들어보세요\n"
      ]
    },
    {
      "cell_type": "code",
      "execution_count": 24,
      "metadata": {
        "id": "cYDh2-oJiQwk"
      },
      "outputs": [
        {
          "name": "stdout",
          "output_type": "stream",
          "text": [
            "False\n",
            "True\n"
          ]
        }
      ],
      "source": [
        "def is_same(a,b):\n",
        "    if(a == b):\n",
        "        return True\n",
        "    else:\n",
        "        return False\n",
        "\n",
        "print(is_same(\"최수빈\", \"토끼\"))\n",
        "print(is_same(\"최수빈\", \"최수빈\"))"
      ]
    },
    {
      "cell_type": "code",
      "execution_count": 26,
      "metadata": {},
      "outputs": [
        {
          "name": "stdout",
          "output_type": "stream",
          "text": [
            "False\n",
            "True\n"
          ]
        }
      ],
      "source": [
        "def is_same(a,b):\n",
        "    return a == b\n",
        "\n",
        "print(is_same(\"최수빈\", \"토끼\"))\n",
        "print(is_same(\"최수빈\", \"최수빈\"))"
      ]
    },
    {
      "cell_type": "markdown",
      "metadata": {
        "id": "-zaj_Jnoifwf"
      },
      "source": [
        "**< 복습문제3: 함수 만들어보기 >**\n",
        "\n",
        "1. check_string이라는 함수명으로\n",
        "2. 문자열을 입력받고, 문자열의 길이가 5 이상이면 True 미만이면 False를 반환하는 함수를 만들어보세요.\n",
        "3. 그리고, strings 리스트를 순회하며 길이가 5 이상인 문자열만 출력하세요.\n"
      ]
    },
    {
      "cell_type": "code",
      "execution_count": 2,
      "metadata": {
        "id": "KtOPs6Ixk9HB"
      },
      "outputs": [
        {
          "name": "stdout",
          "output_type": "stream",
          "text": [
            "가나다라마\n",
            "가나다라마바사\n"
          ]
        }
      ],
      "source": [
        "# TODO\n",
        "\n",
        "strings= ['가나다라마', '가나다라마바사', '마라탕','족발 ','튀김우동']\n",
        "\n",
        "def check_string(text):\n",
        "    if(len(text) >= 5):\n",
        "        return True\n",
        "    else:\n",
        "        return False\n",
        "    \n",
        "   \n",
        "user_text= input('문자를 입력해주세요') \n",
        " \n",
        "check_string(user_text)\n",
        "\n",
        "\n",
        "for i in strings:\n",
        "    if check_string(i) == True:\n",
        "        print(i)\n",
        "    \n",
        "    "
      ]
    },
    {
      "cell_type": "code",
      "execution_count": 31,
      "metadata": {},
      "outputs": [
        {
          "name": "stdout",
          "output_type": "stream",
          "text": [
            "가나다라마바사\n"
          ]
        }
      ],
      "source": []
    },
    {
      "cell_type": "markdown",
      "metadata": {
        "id": "V0vGhd5rmObm"
      },
      "source": [
        "##**2. 클래스**\n",
        "\n",
        "- 클래스는 프로그램을 만들 때 꼭 필요한 요소는 아니다.\n",
        "- 클래스를 쓰면 깔끔하게 프로그램을 만들 수 있는 경우가 있다\n",
        "- 하지만, 클래스를 쓰지 못해도 원하는 기능을 구현하는 데는 아무런 문제가 없다.\n",
        "- 클래스 이름은 파스칼 표기법(PascalCase)을 따른다.\n",
        "- **Class: Object를 만드는 틀**\n",
        "- **Object: Class로 만들어진 실체**"
      ]
    },
    {
      "cell_type": "code",
      "execution_count": 7,
      "metadata": {
        "colab": {
          "base_uri": "https://localhost:8080/"
        },
        "id": "MFrcB3g8l3n9",
        "outputId": "0d875690-44ca-4121-8752-36a5e2853b56"
      },
      "outputs": [
        {
          "name": "stdout",
          "output_type": "stream",
          "text": [
            "야생의 이상해씨가 등장했다!\n",
            "야생의 피카츄가 등장했다!\n"
          ]
        }
      ],
      "source": [
        "class Pokemon: # 클래스 이름\n",
        "    def __init__(self, name): # 클래스가 실체화될 때 일어나는 일\n",
        "        self.name = name\n",
        "        print(f'야생의 {name}가 등장했다!')\n",
        "\n",
        "pokemon1 = Pokemon(\"이상해씨\")\n",
        "pokemon2 = Pokemon(\"피카츄\")"
      ]
    },
    {
      "cell_type": "markdown",
      "metadata": {
        "id": "_VuD1vjmruwf"
      },
      "source": [
        "**연습) 클래스를 만들어봅시다.**\n",
        "1. Person이라는 이름의 클래스를 만들어봅시다.\n",
        "2. Person 클래스는 실체화될 때 이름(name)과 나이(age)를 필요로 합니다.\n",
        "3. 클래스가 실체화 될 때, \"12살의 김민지가 등장했다\"처럼 대사를 외치게 만들어주세요."
      ]
    },
    {
      "cell_type": "code",
      "execution_count": 4,
      "metadata": {
        "id": "IXbJDRZfrLhQ"
      },
      "outputs": [
        {
          "name": "stdout",
          "output_type": "stream",
          "text": [
            "12살의 김민지가 등장했다.\n"
          ]
        }
      ],
      "source": [
        "# TODO\n",
        "\n",
        "class Person:\n",
        "    def __init__(self,name,age):\n",
        "        self.name = name\n",
        "        self.age = age\n",
        "        print(f'{age}살의 {name}가 등장했다.')\n",
        "\n",
        "person1 = Person('김민지', 12)"
      ]
    },
    {
      "cell_type": "code",
      "execution_count": 6,
      "metadata": {},
      "outputs": [
        {
          "name": "stdout",
          "output_type": "stream",
          "text": [
            "나는 평범한 소보로빵이야\n"
          ]
        }
      ],
      "source": [
        "# food 클래스\n",
        "# 실체화될 때 음식의 이름과 가격을 필요로 합니다.\n",
        "# 그리고 가격이 5000원 이상이면 나는 비싼 OOO다 라고 출력하고 \n",
        "# 가격이 5000원 미만이면 나는 평범한 OOO다라고 출력하세요\n",
        "\n",
        "class Food:\n",
        "    def __init__(self,name, price):\n",
        "        self.name = name\n",
        "        self.price = price\n",
        "        if(price >= 5000):\n",
        "            print(f'나는 비싼 {name}이야')\n",
        "        else:\n",
        "            print(f'나는 평범한 {name}이야')\n",
        "            \n",
        "food1 = Food('소보로빵', 4000)"
      ]
    },
    {
      "cell_type": "markdown",
      "metadata": {
        "id": "vBUGh_bDus8p"
      },
      "source": [
        "##**3. Method**\n",
        "- 클래스 안에 구현된 함수\n",
        "- 클래스가 할 수 있는 행동이 정의된다."
      ]
    },
    {
      "cell_type": "code",
      "execution_count": 12,
      "metadata": {
        "colab": {
          "base_uri": "https://localhost:8080/"
        },
        "id": "-xnmgREuvGPb",
        "outputId": "dcdcee25-0efd-4a6b-8c58-acd0efcd853d"
      },
      "outputs": [
        {
          "name": "stdout",
          "output_type": "stream",
          "text": [
            "야생의 이상해씨가 등장했다!\n",
            "이상해씨의 몸무게는 100g 입니다.\n",
            "이상해씨는 족발를 먹고 몸무게가 110g이 되었습니다.\n",
            "이상해씨는 피자를 먹고 몸무게가 120g이 되었습니다.\n",
            "야생의 파이리가 등장했다!\n",
            "파이리의 몸무게는 100g 입니다.\n",
            "파이리는 족발를 먹고 몸무게가 110g이 되었습니다.\n",
            "이상해씨의 몸무게는 120g 입니다.\n",
            "파이리의 몸무게는 110g 입니다.\n"
          ]
        }
      ],
      "source": [
        "# 포켓몬의 기본 몸무게를 100g으로 정의하고\n",
        "# 밥을 먹을 때 마다 10g씩 늘도록 만들어 보겠습니다.\n",
        "\n",
        "class Pokemon: # 클래스 이름\n",
        "    def __init__(self, name): # 클래스가 실체화될 때 일어나는 일 (생성자)\n",
        "        self.name = name\n",
        "        print(f'야생의 {name}가 등장했다!')\n",
        "        self.weight = 100\n",
        "        print(f'{name}의 몸무게는 {self.weight}g 입니다.')\n",
        "    \n",
        "    def eat(self, food):\n",
        "        self.weight = self.weight + 10\n",
        "        print('{}는 {}를 먹고 몸무게가 {}g이 되었습니다.'.format(self.name, food, self.weight))\n",
        "\n",
        "    def check_weight(self):\n",
        "        print(f'{self.name}의 몸무게는 {self.weight}g 입니다.') # 클래스이름.클래스변수\n",
        "\n",
        "pokemon1 = Pokemon(\"이상해씨\")\n",
        "pokemon1.eat(\"족발\")\n",
        "pokemon1.eat(\"피자\")\n",
        "\n",
        "pokemon2 = Pokemon(\"파이리\")\n",
        "pokemon2.eat(\"족발\")\n",
        "\n",
        "pokemon1.check_weight()\n",
        "pokemon2.check_weight()"
      ]
    },
    {
      "cell_type": "markdown",
      "metadata": {
        "id": "kfEv5pCuuMfe"
      },
      "source": [
        "**연습) 붕어빵을 만들어봅시다**\n",
        "- 붕어빵 클래스를 구현할 것입니다.\n",
        "- 붕어빵은 만들어질 때 100g의 무게를 갖습니다.\n",
        "- 붕어빵은 한번 먹을 때 마다 무게가 25g씩 줄어듭니다.\n",
        "- 무게가 0g이 되면, \"더이상 먹을 수 없습니다\"를 출력합니다."
      ]
    },
    {
      "cell_type": "code",
      "execution_count": 24,
      "metadata": {
        "id": "CZm4OPs8t7ER"
      },
      "outputs": [
        {
          "name": "stdout",
          "output_type": "stream",
          "text": [
            "75\n"
          ]
        }
      ],
      "source": [
        "# TODO\n",
        "\n",
        "class FishShapedBun:\n",
        "    def __init__(self):\n",
        "        self.weight = 100\n",
        "    \n",
        "    def eat(self):\n",
        "        if(self.weight <= 0):\n",
        "            return '더이상 먹을 수 없습니다'\n",
        "        else:\n",
        "            self.weight -= 25\n",
        "            print(f'현재 무게는 {self.weight} 입니다.')\n",
        "            \n",
        "new_bun = FishShapedBun() # 이때 인스턴스가 생성된다. \n",
        "# 생성될 때만 생성자함수가 실행되고, 나머지 메서드만 쓰는 것은 초기값에 영향을 주지 않는다.\n",
        "\n",
        "new_bun.eat()\n",
        "\n",
        "\n",
        "\n",
        "\n",
        "        \n",
        "    \n",
        "\n"
      ]
    },
    {
      "cell_type": "code",
      "execution_count": 30,
      "metadata": {},
      "outputs": [
        {
          "data": {
            "text/plain": [
              "'더이상 먹을 수 없습니다'"
            ]
          },
          "execution_count": 30,
          "metadata": {},
          "output_type": "execute_result"
        }
      ],
      "source": [
        "new_bun.eat()"
      ]
    },
    {
      "cell_type": "markdown",
      "metadata": {
        "id": "J6DRjoqi06UF"
      },
      "source": [
        "##**4. 상속**\n",
        "- 상속(Inheritance)을 이용해 기존 클래스를 변경하지 않고 기능을 추가할 수 있다.\n",
        "- 어떤 클래스를 만들 때 다른 클래스의 기능을 물려받을 수 있게 만드는 것이다. "
      ]
    },
    {
      "cell_type": "code",
      "execution_count": 25,
      "metadata": {
        "id": "7YYJCUzS1VTM"
      },
      "outputs": [],
      "source": [
        "class Food:\n",
        "    def __init__(self, name):\n",
        "        self.name = name\n",
        "        print(f'{self.name}가 생성되었습니다.')\n",
        "    \n",
        "    def like(self):\n",
        "        print(f\"{self.name}를 좋아해요.\")\n",
        "\n",
        "class FastFood(Food):\n",
        "    def microwave(self):\n",
        "        print(f'{self.name}을 전자레인지로 데웠습니다.')"
      ]
    },
    {
      "cell_type": "code",
      "execution_count": 26,
      "metadata": {
        "colab": {
          "base_uri": "https://localhost:8080/"
        },
        "id": "mXcc8l7-2Xam",
        "outputId": "4752b3d7-0205-4371-d4d2-085da44f8ba4"
      },
      "outputs": [
        {
          "name": "stdout",
          "output_type": "stream",
          "text": [
            "피자가 생성되었습니다.\n",
            "피자를 좋아해요.\n"
          ]
        }
      ],
      "source": [
        "pizza = Food(\"피자\")\n",
        "pizza.like()"
      ]
    },
    {
      "cell_type": "code",
      "execution_count": 28,
      "metadata": {
        "colab": {
          "base_uri": "https://localhost:8080/"
        },
        "id": "6UZBQw2y2OVW",
        "outputId": "69a405bd-2a17-471c-b3a1-0bf5ddb74701"
      },
      "outputs": [
        {
          "name": "stdout",
          "output_type": "stream",
          "text": [
            "햄버거가 생성되었습니다.\n",
            "햄버거를 좋아해요.\n",
            "햄버거을 전자레인지로 데웠습니다.\n"
          ]
        }
      ],
      "source": [
        "hamburger = FastFood('햄버거')\n",
        "hamburger.like()\n",
        "hamburger.microwave()"
      ]
    },
    {
      "cell_type": "code",
      "execution_count": 37,
      "metadata": {},
      "outputs": [
        {
          "name": "stdout",
          "output_type": "stream",
          "text": [
            "5000 원 "
          ]
        }
      ],
      "source": [
        "class Computer:\n",
        "    def __init__(self,price):\n",
        "        self.price = price\n",
        "        \n",
        "    def print_price(self):\n",
        "        print(self.price, '원' , end=' ')\n",
        "\n",
        "class Notebook(Computer):\n",
        "    def is_notebook(self):\n",
        "        print('이것은 노트북입니다.')\n",
        "\n",
        "c2 = Notebook(5000)\n",
        "\n",
        "c2.print_price()"
      ]
    },
    {
      "cell_type": "markdown",
      "metadata": {
        "id": "JEVEUbbnyXNe"
      },
      "source": [
        "##**5. 예외처리**\n",
        "- try, except문을 이용해 예외처리를 할 수 있다.\n",
        "- try를 시도하고,\n",
        "- 내부에서 에러가 나는 경우에 except를 시도한다."
      ]
    },
    {
      "cell_type": "code",
      "execution_count": 15,
      "metadata": {
        "colab": {
          "base_uri": "https://localhost:8080/",
          "height": 174
        },
        "id": "rIltpY2iyoK3",
        "outputId": "2313e4d2-dd2d-49cb-f677-882b1661530a"
      },
      "outputs": [
        {
          "ename": "ZeroDivisionError",
          "evalue": "ignored",
          "output_type": "error",
          "traceback": [
            "\u001b[0;31m---------------------------------------------------------------------------\u001b[0m",
            "\u001b[0;31mZeroDivisionError\u001b[0m                         Traceback (most recent call last)",
            "\u001b[0;32m<ipython-input-15-d2c0889640ff>\u001b[0m in \u001b[0;36m<module>\u001b[0;34m\u001b[0m\n\u001b[0;32m----> 1\u001b[0;31m \u001b[0mprint\u001b[0m\u001b[0;34m(\u001b[0m\u001b[0;36m2\u001b[0m\u001b[0;34m/\u001b[0m\u001b[0;36m0\u001b[0m\u001b[0;34m)\u001b[0m\u001b[0;34m\u001b[0m\u001b[0;34m\u001b[0m\u001b[0m\n\u001b[0m",
            "\u001b[0;31mZeroDivisionError\u001b[0m: division by zero"
          ]
        }
      ],
      "source": [
        "print(2/0)"
      ]
    },
    {
      "cell_type": "code",
      "execution_count": 16,
      "metadata": {
        "colab": {
          "base_uri": "https://localhost:8080/"
        },
        "id": "6ZWNA5vaz0z_",
        "outputId": "5bab73c7-3434-4d63-8937-2f85b4c47304"
      },
      "outputs": [
        {
          "name": "stdout",
          "output_type": "stream",
          "text": [
            "2를 0으로 나눌 수 없어요!\n"
          ]
        }
      ],
      "source": [
        "try:\n",
        "    print(2/0)\n",
        "except:\n",
        "    print(\"2를 0으로 나눌 수 없어요!\")"
      ]
    },
    {
      "cell_type": "markdown",
      "metadata": {
        "id": "1jDNINJ40W8h"
      },
      "source": [
        "**연습) 100을 0부터 10으로 나눠봅시다. 에러가 나는 경우에는 \"에러\"를 출력하세요.**"
      ]
    },
    {
      "cell_type": "code",
      "execution_count": 39,
      "metadata": {
        "id": "u9D7TNMBz7bW"
      },
      "outputs": [
        {
          "name": "stdout",
          "output_type": "stream",
          "text": [
            "에러\n",
            "100.0\n",
            "50.0\n",
            "33.333333333333336\n",
            "25.0\n",
            "20.0\n",
            "16.666666666666668\n",
            "14.285714285714286\n",
            "12.5\n",
            "11.11111111111111\n",
            "10.0\n"
          ]
        }
      ],
      "source": [
        "# TODO\n",
        "\n",
        "for i in range(11):\n",
        "    try:\n",
        "        print(100 / i)\n",
        "    except:\n",
        "        print('에러')"
      ]
    },
    {
      "cell_type": "markdown",
      "metadata": {
        "id": "xgENFBIh3f9g"
      },
      "source": [
        "## **일일 과제**"
      ]
    },
    {
      "cell_type": "markdown",
      "metadata": {
        "id": "yKBYqs3E5t_7"
      },
      "source": [
        "**1. 계산기 클래스 만들기**\n",
        "- Calculator라는 계산기 클래스를 만듭니다.\n",
        "- Calculator에는 current_value라는 인스턴스 변수가 있습니다.\n",
        "- Calculator가 생성될 때 current_value는 0의 초기값을 갖습니다.\n",
        "- Calculator에는 현재값출력(check_value), 덧셈(plus), 뺄셈(minus), 곱셈(mul), 나눗셈(div) 메소드가 있습니다.\n",
        "- check_value는 현재 값(current_value)를 출력합니다. ex) 현재 값은 ㅇㅇㅇ입니다.\n",
        "- plus는 한개 값을 입력 받아 현재 값에 더합니다.\n",
        "- minus는 한개 값을 입력 받아 현재 값에서 뺍니다.\n",
        "- mul은 한개 값을 입력 받아 현재 값에 곱합니다.\n",
        "- div는 한개 값을 입력 받아 현재 값에서 나눕니다.\n",
        "- div를 0으로 나눌 경우 에러가 발생할 수 있습니다. 에러가 나는 경우에는 \"나눌 수 없습니다\"를 출력하세요."
      ]
    },
    {
      "cell_type": "code",
      "execution_count": 13,
      "metadata": {
        "id": "13ylfgI60hEY"
      },
      "outputs": [
        {
          "name": "stdout",
          "output_type": "stream",
          "text": [
            "1.6666666666666667\n"
          ]
        }
      ],
      "source": [
        "# TODO\n",
        "\n",
        "class CalCulator:\n",
        "    def __init__(self, current_value, user_input_value):\n",
        "        self.current_value = current_value\n",
        "        self.user_input_value = user_input_value\n",
        "    \n",
        "    def check_value(self):\n",
        "        print(f'현재 값은 {self.user_input_value}입니다.')\n",
        "    \n",
        "    def plus(self):\n",
        "       self.current_value = self.current_value + self.user_input_value\n",
        "       return self.current_value\n",
        "        \n",
        "    def minus(self):\n",
        "        self.current_value = self.current_value - self.user_input_value\n",
        "        return self.current_value\n",
        "        \n",
        "    def mul(self):\n",
        "        self.current_value = self.current_value * self.user_input_value\n",
        "        return self.current_value\n",
        "        \n",
        "    def div(self):\n",
        "        if(self.current_value == 0 or self.user_input_value == 0 ):\n",
        "            return '0은 나눌 수 없습니다.'\n",
        "        self.current_value = self.current_value / self.user_input_value\n",
        "        return self.current_value\n",
        "    \n",
        "    def decision(self,user_decision):\n",
        "        if user_decision == '+':\n",
        "            return self.plus()\n",
        "        elif user_decision == '-':\n",
        "            return self.minus()\n",
        "        elif user_decision == '*':\n",
        "            return self.mul()\n",
        "        elif user_decision == '/':\n",
        "            return self.div()\n",
        "\n",
        "user_input = input('숫자를 입력해주세요')\n",
        "user_input = user_input.strip().split(' ')\n",
        "\n",
        "user_number_1 = int(user_input[0])\n",
        "user_number_2 = int(user_input[2])\n",
        "decision = user_input[1]\n",
        "\n",
        "calc = CalCulator(user_number_1, user_number_2)\n",
        "result = calc.decision(decision)\n",
        "print(result)\n",
        "    "
      ]
    },
    {
      "cell_type": "code",
      "execution_count": 56,
      "metadata": {},
      "outputs": [
        {
          "name": "stdout",
          "output_type": "stream",
          "text": [
            "나눌 수 없습니다.\n"
          ]
        }
      ],
      "source": [
        "class CalCulator:\n",
        "    def __init__(self):\n",
        "        self.current_value = 0\n",
        "    \n",
        "    def check_value(self):\n",
        "        print(f'현재 값은 {self.current_value}입니다.')\n",
        "    \n",
        "    def plus(self, user_input_value):\n",
        "       self.current_value = self.current_value + user_input_value\n",
        "       return self.current_value\n",
        "        \n",
        "    def minus(self, user_input_value):\n",
        "        self.current_value = self.current_value - user_input_value\n",
        "        return self.current_value\n",
        "        \n",
        "    def mul(self, user_input_value):\n",
        "        self.current_value = self.current_value * user_input_value\n",
        "        return self.current_value\n",
        "        \n",
        "    def div(self, user_input_value):\n",
        "        try:\n",
        "            self.current_value = self.current_value / user_input_value\n",
        "        except:\n",
        "            print('나눌 수 없습니다.')\n",
        "    \n",
        "    \n",
        "\n",
        "user_input = input('숫자를 입력해주세요')\n",
        "user_input = int(user_input)\n",
        "\n",
        "\n",
        "calc = CalCulator()\n",
        "\n",
        "calc.div(user_input)"
      ]
    },
    {
      "cell_type": "markdown",
      "metadata": {
        "id": "jA_UnRy77Gu-"
      },
      "source": [
        "**2. 각도기 만들기**\n",
        "- Protractor라는 각도기 클래스를 만듭니다.\n",
        "- 각에서 0도 초과 90도 미만은 예각, 90도는 직각, 90도 초과 180도 미만은 둔각 180도는 평각으로 분류합니다. \n",
        "- Protractor는 생성될 때 각도(angle)이라는 인스턴스 변수가 필요합니다.\n",
        "- Protractor는 현재 각도 출력(current_angle), 각 더하기(plus), 각 빼기(minus) 메소드를 가집니다.\n",
        "- current_angle은 현재 각도와 함께 예각/직각/둔각/평각 여부를 출력합니다.\n",
        "- plus는 한개 값을 입력 받아 current_angle에 더합니다. 단, 현재 각도는 180을 넘을 수 없습니다. 더한 값이 180이 넘는 경우, \"각도는 180도를 넘을 수 없습니다\"를 출력하고 더하지 않습니다.\n",
        "- minus는 한개 값을 입력받아 current_angle에서 뺍니다. 단, 현재 각도는 0도보다 작을 수 없습니다. 뺀 값이 0보다 작아지는 경우, \"각도는 0이상이어야 합니다\"를 출력하고 빼지 않습니다.\n",
        "\n"
      ]
    },
    {
      "cell_type": "code",
      "execution_count": 1,
      "metadata": {
        "id": "b8FzM_Lh64P_"
      },
      "outputs": [],
      "source": [
        "# TODO\n",
        "\n",
        "class Protractor:\n",
        "    def __init__(self):\n",
        "        self.angle = 0\n",
        "    \n",
        "    def current_angle(self):\n",
        "        print(self.angle)\n",
        "        if(self.angle >= 0 and self.angle <90):\n",
        "            print('예각')\n",
        "        elif(self.angle == 90 ):\n",
        "            print('직각')\n",
        "        elif(self.angle >90 and self.angle < 180):\n",
        "            print('둔각')\n",
        "        elif(self.angle == 180):\n",
        "            print('평각')\n",
        "        \n",
        "    \n",
        "    def plus(self,user_input_angle):\n",
        "        if self.angle + user_input_angle >180 :\n",
        "            print('각도는 180도를 넘을 수 없습니다.')\n",
        "            \n",
        "        else:\n",
        "            self.angle = self.angle + user_input_angle\n",
        "        \n",
        "            \n",
        "        \n",
        "            \n",
        "    def minus(self,user_input_angle):\n",
        "        if self.angle - user_input_angle <0:\n",
        "            print('각도는 0도 이상이어야 합니다.')\n",
        "            \n",
        "        else: \n",
        "            self.angle = self.angle - user_input_angle\n",
        "\n",
        "user_input = input()\n",
        "user_input = int(user_input)\n",
        "\n",
        "p1 = Protractor()\n",
        "\n",
        "p1.plus(user_input)\n",
        "\n",
        "\n"
      ]
    }
  ],
  "metadata": {
    "colab": {
      "collapsed_sections": [],
      "provenance": []
    },
    "kernelspec": {
      "display_name": "Python 3.10.7 64-bit",
      "language": "python",
      "name": "python3"
    },
    "language_info": {
      "codemirror_mode": {
        "name": "ipython",
        "version": 3
      },
      "file_extension": ".py",
      "mimetype": "text/x-python",
      "name": "python",
      "nbconvert_exporter": "python",
      "pygments_lexer": "ipython3",
      "version": "3.10.7"
    },
    "vscode": {
      "interpreter": {
        "hash": "aee8b7b246df8f9039afb4144a1f6fd8d2ca17a180786b69acc140d282b71a49"
      }
    }
  },
  "nbformat": 4,
  "nbformat_minor": 0
}
