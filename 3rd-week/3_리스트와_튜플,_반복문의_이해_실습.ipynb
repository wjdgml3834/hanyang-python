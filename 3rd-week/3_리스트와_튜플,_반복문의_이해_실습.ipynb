{
  "cells": [
    {
      "cell_type": "markdown",
      "metadata": {
        "id": "7Mit58Ej3mEZ"
      },
      "source": [
        "## **1. 먼저 복습을 해볼까요?**"
      ]
    },
    {
      "cell_type": "markdown",
      "metadata": {
        "id": "ZBAh1IGkL5BY"
      },
      "source": [
        "저번 시간에 배운 내용:\n",
        "\n",
        "- 변수와 자료형(int, float, string, boolen)\n",
        "- 입력 받기(input)\n",
        "- 비교 연산자\n",
        "- 조건문"
      ]
    },
    {
      "cell_type": "markdown",
      "metadata": {
        "id": "ep5czUsJMHlX"
      },
      "source": [
        "**< 복습문제1 >**\n",
        "\n",
        "다음의 프로그램을 작성해 봅시다.\n",
        "\n",
        "우리가 만들 프로그램은, 숫자를 입력 받고 이것이 3의 배수인지 4의 배수인지 전부 아닌지 출력하는 프로그램 입니다.\n",
        "\n",
        "1. Input함수를 통해, 숫자를 입력받으세요.\n",
        "\n",
        "2. 3의 배수라면 \"___는 3의 배수입니다\"를 출력하세요.\n",
        "\n",
        "3. 4의 배수라면 \"___는 4의 배수입니다.\"를 출력하세요.\n",
        "\n",
        "4. 전부 아니라면, \"___는 3의 배수와 4의 배수가 아닙니다.\"를 출력하세요."
      ]
    },
    {
      "cell_type": "code",
      "execution_count": 1,
      "metadata": {
        "id": "dwNNdFsSLwRR"
      },
      "outputs": [],
      "source": [
        "# TO DO"
      ]
    },
    {
      "cell_type": "markdown",
      "metadata": {
        "id": "R1F08-uPbUWy"
      },
      "source": [
        "**< 복습문제2 >**\n",
        "\n",
        "다음의 프로그램을 작성해 봅시다.\n",
        "\n",
        "문장을 입력 받고, \"JAVA\"를 \"Python\"으로 교체한 후 출력하는 프로그램을 만들어봅시다.\n",
        "\n",
        "1. Input함수를 통해, 문장을 입력받으세요.\n",
        "\n",
        "2. replace를 이용해 JAVA를 Python으로 바꿔주세요\n",
        "\n",
        "3. 문자열을 출력해봅시다."
      ]
    },
    {
      "cell_type": "code",
      "execution_count": 2,
      "metadata": {
        "id": "tX16Q1sxbTVd"
      },
      "outputs": [],
      "source": [
        "# TO DO"
      ]
    },
    {
      "cell_type": "markdown",
      "metadata": {
        "id": "pgLH2wV6byxN"
      },
      "source": [
        "**< 복습문제3 >**\n",
        "\n",
        "다음의 프로그램을 작성해 봅시다.\n",
        "\n",
        "리스트 슬라이싱을 이용해 원하는 문자열을 추출해봅시다.\n",
        "\n",
        "1. 리스트 슬라이싱을 이용해 문자열에서 \"Hanyang University\"을 추출해 주세요.\n",
        "\n",
        "2. print를 이용해 출력해주세요."
      ]
    },
    {
      "cell_type": "code",
      "execution_count": 3,
      "metadata": {
        "id": "GZ3PnQuobyRb"
      },
      "outputs": [],
      "source": [
        "strs = \"한양대학교(漢陽大學校, Hanyang University)는 대한민국 서울특별시 성동구 행당동과 사근동에 걸쳐있는 서울캠퍼스(본교)와 경기도 안산시 상록구 사동에 있는 ERICA캠퍼스(분교)로 이루어진 사립 대학이다.\"\n",
        "# TO DO"
      ]
    },
    {
      "cell_type": "markdown",
      "metadata": {
        "id": "WR7hkghHcxpb"
      },
      "source": [
        "## **2. 리스트란 무엇일까요?**\n",
        "- 복수개의 값을 담을 수 있는 데이터 구조\n",
        "- mutable: 생성된 후 변경 가능.\n",
        "- [] 안에 값을 담아서 생성\n",
        "- list() 함수로 생성"
      ]
    },
    {
      "cell_type": "code",
      "execution_count": 4,
      "metadata": {
        "colab": {
          "base_uri": "https://localhost:8080/"
        },
        "id": "g1zBNtrUenZN",
        "outputId": "dcf890c2-c656-4476-d71e-e1cc30db4ba3"
      },
      "outputs": [
        {
          "name": "stdout",
          "output_type": "stream",
          "text": [
            "[]\n"
          ]
        }
      ],
      "source": [
        "a = [] # 빈 리스트\n",
        "print(a)"
      ]
    },
    {
      "cell_type": "code",
      "execution_count": 5,
      "metadata": {
        "id": "Sg3BYcqDgK34"
      },
      "outputs": [],
      "source": [
        "a = [1, 2, 3, 4, 5] # 숫자\n",
        "b = [1, 2, 3, \"a\"] # 혼합"
      ]
    },
    {
      "cell_type": "markdown",
      "metadata": {
        "id": "GkW2gy1zgVgN"
      },
      "source": [
        "**그럼 리스트의 개별 아이템에 접근해볼까요?**"
      ]
    },
    {
      "cell_type": "code",
      "execution_count": 6,
      "metadata": {
        "colab": {
          "base_uri": "https://localhost:8080/"
        },
        "id": "kE4H9lwkgXcg",
        "outputId": "cec830ee-6b35-4cd9-83be-2dfa16546f73"
      },
      "outputs": [
        {
          "name": "stdout",
          "output_type": "stream",
          "text": [
            "4\n"
          ]
        }
      ],
      "source": [
        "a = [1, 2, 3, 4, 5]\n",
        "print(a[3])"
      ]
    },
    {
      "cell_type": "code",
      "execution_count": 7,
      "metadata": {
        "colab": {
          "base_uri": "https://localhost:8080/"
        },
        "id": "M38d19zKmQFA",
        "outputId": "e32a7bb3-8a05-44d1-cabc-8f8ff47842e0"
      },
      "outputs": [
        {
          "name": "stdout",
          "output_type": "stream",
          "text": [
            "[1, 2, 3, 10, 5]\n"
          ]
        }
      ],
      "source": [
        "a = [1, 2, 3, 4, 5]\n",
        "a[3] = 10\n",
        "print(a)"
      ]
    },
    {
      "cell_type": "markdown",
      "metadata": {
        "id": "q0Ja1r4Hg0F5"
      },
      "source": [
        "**리스트 슬라이싱도 될 것 같지 않나요?**"
      ]
    },
    {
      "cell_type": "code",
      "execution_count": 8,
      "metadata": {
        "colab": {
          "base_uri": "https://localhost:8080/"
        },
        "id": "Dek2gIUggZ2n",
        "outputId": "976c4014-d29e-479b-aed8-0d057156c7d6"
      },
      "outputs": [
        {
          "name": "stdout",
          "output_type": "stream",
          "text": [
            "[4, 5, 6]\n"
          ]
        }
      ],
      "source": [
        "a = [1, 2, 3, 4, 5, 6, 7, 8, 9, 10]\n",
        "print(a[3:6])"
      ]
    },
    {
      "cell_type": "markdown",
      "metadata": {
        "id": "y6DBccGDh7nO"
      },
      "source": [
        "**list() 함수를 이용하면 다른 데이터 타입을 리스트로 바꿀 수 있어요**"
      ]
    },
    {
      "cell_type": "code",
      "execution_count": 9,
      "metadata": {
        "colab": {
          "base_uri": "https://localhost:8080/"
        },
        "id": "IU9vFIS5h0Vd",
        "outputId": "0ca8c314-1f2c-4f78-ba56-442199f5a819"
      },
      "outputs": [
        {
          "name": "stdout",
          "output_type": "stream",
          "text": [
            "['I', ' ', 'l', 'o', 'v', 'e', ' ', 'p', 'y', 't', 'h', 'o', 'n']\n"
          ]
        }
      ],
      "source": [
        "a = \"I love python\"\n",
        "b = list(a)\n",
        "\n",
        "print(b)"
      ]
    },
    {
      "cell_type": "markdown",
      "metadata": {
        "id": "fYufZbbCi2Oe"
      },
      "source": [
        "**리스트끼리 합칠수도 있습니다**"
      ]
    },
    {
      "cell_type": "code",
      "execution_count": 10,
      "metadata": {
        "colab": {
          "base_uri": "https://localhost:8080/"
        },
        "id": "gF-8-dFtiq8T",
        "outputId": "ce5cb41d-bb86-4ec7-fed1-57ce5c4ee6f1"
      },
      "outputs": [
        {
          "name": "stdout",
          "output_type": "stream",
          "text": [
            "[1, 2, 3, 4, 5, 6, 7, 8]\n"
          ]
        }
      ],
      "source": [
        "a = [1, 2, 3, 4, 5]\n",
        "b = [6, 7, 8]\n",
        "c = a + b\n",
        "print(c)"
      ]
    },
    {
      "cell_type": "code",
      "execution_count": 11,
      "metadata": {
        "colab": {
          "base_uri": "https://localhost:8080/"
        },
        "id": "iavb_GP3i9lb",
        "outputId": "daf8088f-6987-4878-9387-a41458e6ff00"
      },
      "outputs": [
        {
          "name": "stdout",
          "output_type": "stream",
          "text": [
            "[1, 2, 3, 4, 5, 6, 7, 8]\n"
          ]
        }
      ],
      "source": [
        "a = [1, 2, 3, 4, 5]\n",
        "b = [6, 7, 8]\n",
        "a.extend(b)\n",
        "print(a)"
      ]
    },
    {
      "cell_type": "markdown",
      "metadata": {
        "id": "5RAPgTdzjYf_"
      },
      "source": [
        "**중간에 삽입은 어떻게 하나요? \"insert\"**"
      ]
    },
    {
      "cell_type": "code",
      "execution_count": 12,
      "metadata": {
        "colab": {
          "base_uri": "https://localhost:8080/"
        },
        "id": "2xi7p3qnjCbv",
        "outputId": "2c5e115c-389e-4c0c-e02f-41aad4ff172d"
      },
      "outputs": [
        {
          "name": "stdout",
          "output_type": "stream",
          "text": [
            "[1, 2, 3, 10, 4, 5]\n"
          ]
        }
      ],
      "source": [
        "a = [1, 2, 3, 4, 5]\n",
        "a.insert(3, 10) # 3번 인덱스의 뒤에 10을 삽입\n",
        "print(a)"
      ]
    },
    {
      "cell_type": "markdown",
      "metadata": {
        "id": "qYWfsP1gjvXZ"
      },
      "source": [
        "**pop과 remove는 값을 삭제합니다**\n",
        "- remove: 특정 값의 아이템을 삭제\n",
        "- pop: 지우고자 하는 값을 반환 후 삭제"
      ]
    },
    {
      "cell_type": "code",
      "execution_count": 13,
      "metadata": {
        "colab": {
          "base_uri": "https://localhost:8080/"
        },
        "id": "Fz2Zc2y7jkuU",
        "outputId": "9e5cea85-dd4c-4a1d-8981-929a4077c176"
      },
      "outputs": [
        {
          "name": "stdout",
          "output_type": "stream",
          "text": [
            "[1, 1, 2, 3, 3]\n"
          ]
        }
      ],
      "source": [
        "a = [1, 1, 2, 2, 3, 3]\n",
        "a.remove(2)\n",
        "print(a)"
      ]
    },
    {
      "cell_type": "code",
      "execution_count": 14,
      "metadata": {
        "colab": {
          "base_uri": "https://localhost:8080/"
        },
        "id": "HuatH-pZj9XI",
        "outputId": "4411d26b-ea22-4d80-f300-058ac6b6a92a"
      },
      "outputs": [
        {
          "name": "stdout",
          "output_type": "stream",
          "text": [
            "5\n",
            "[1, 5, 4, 1, 1, 4, 1]\n"
          ]
        }
      ],
      "source": [
        "a = [1, 5, 4, 1, 1, 5, 4, 1]\n",
        "b = a.pop(5)\n",
        "print(b)\n",
        "print(a)"
      ]
    },
    {
      "cell_type": "markdown",
      "metadata": {
        "id": "JB_gM-ZTkMep"
      },
      "source": [
        "**index를 이용하면 특정 값이 어딨는지도 알 수 있어요**"
      ]
    },
    {
      "cell_type": "code",
      "execution_count": 15,
      "metadata": {
        "colab": {
          "base_uri": "https://localhost:8080/"
        },
        "id": "WQ-vG9NYkHoP",
        "outputId": "9ffce6d2-b253-47a5-cad0-a25da4c9a775"
      },
      "outputs": [
        {
          "name": "stdout",
          "output_type": "stream",
          "text": [
            "3\n"
          ]
        }
      ],
      "source": [
        "a = [1, 5, 3, 10, 55]\n",
        "print(a.index(10))"
      ]
    },
    {
      "cell_type": "markdown",
      "metadata": {
        "id": "dac8OxeHlrK_"
      },
      "source": [
        "**리스트에 어떤 값이 있는지 확안하려면 in을 이용합시다**"
      ]
    },
    {
      "cell_type": "code",
      "execution_count": 16,
      "metadata": {
        "colab": {
          "base_uri": "https://localhost:8080/"
        },
        "id": "OLYLcukFlpxl",
        "outputId": "2f89eca4-f122-486c-bf25-9c4d55dfb53b"
      },
      "outputs": [
        {
          "name": "stdout",
          "output_type": "stream",
          "text": [
            "3은 a리스트에 있습니다.\n"
          ]
        }
      ],
      "source": [
        "a = [1, 5, 3, 10, 55]\n",
        "\n",
        "if 3 in a:\n",
        "    print(\"3은 a리스트에 있습니다.\")\n",
        "else:\n",
        "    print(\"3은 a리스트에 없습니다.\")"
      ]
    },
    {
      "cell_type": "markdown",
      "metadata": {
        "id": "EV2fv0q_yq29"
      },
      "source": [
        "**리스트에 몇 개의 아이템이 있을까요? len**"
      ]
    },
    {
      "cell_type": "code",
      "execution_count": 17,
      "metadata": {
        "colab": {
          "base_uri": "https://localhost:8080/"
        },
        "id": "vL7hpT0Uyu4c",
        "outputId": "6aafd85d-fed0-412c-f275-2bbf2424a12c"
      },
      "outputs": [
        {
          "name": "stdout",
          "output_type": "stream",
          "text": [
            "5\n",
            "[5, 3, 10, 55]\n",
            "4\n"
          ]
        }
      ],
      "source": [
        "a = [1, 5, 3, 10, 55]\n",
        "\n",
        "print(len(a))\n",
        "\n",
        "a.remove(1)\n",
        "print(a)\n",
        "print(len(a))"
      ]
    },
    {
      "cell_type": "markdown",
      "metadata": {
        "id": "0yTRhBf0mHhN"
      },
      "source": [
        "## **3. 튜플이란 무엇일까요?**\n",
        "- 복수개의 값을 담을 수 있는 데이터 구조\n",
        "- inmutable: 생성된 후 변경 불가.\n",
        "- () 안에 값을 담아서 생성"
      ]
    },
    {
      "cell_type": "code",
      "execution_count": 18,
      "metadata": {
        "colab": {
          "base_uri": "https://localhost:8080/",
          "height": 211
        },
        "id": "QpZFDXCMl7pR",
        "outputId": "50b45da9-254e-4c52-eed2-c7b4772f12fb"
      },
      "outputs": [
        {
          "ename": "TypeError",
          "evalue": "'tuple' object does not support item assignment",
          "output_type": "error",
          "traceback": [
            "\u001b[0;31m---------------------------------------------------------------------------\u001b[0m",
            "\u001b[0;31mTypeError\u001b[0m                                 Traceback (most recent call last)",
            "Cell \u001b[0;32mIn [18], line 2\u001b[0m\n\u001b[1;32m      1\u001b[0m a \u001b[38;5;241m=\u001b[39m (\u001b[38;5;241m1\u001b[39m, \u001b[38;5;241m2\u001b[39m, \u001b[38;5;241m3\u001b[39m, \u001b[38;5;241m4\u001b[39m, \u001b[38;5;241m5\u001b[39m)\n\u001b[0;32m----> 2\u001b[0m \u001b[43ma\u001b[49m\u001b[43m[\u001b[49m\u001b[38;5;241;43m3\u001b[39;49m\u001b[43m]\u001b[49m \u001b[38;5;241m=\u001b[39m \u001b[38;5;241m10\u001b[39m\n\u001b[1;32m      3\u001b[0m \u001b[38;5;28mprint\u001b[39m(a)\n",
            "\u001b[0;31mTypeError\u001b[0m: 'tuple' object does not support item assignment"
          ]
        }
      ],
      "source": [
        "a = (1, 2, 3, 4, 5)\n",
        "a[3] = 10\n",
        "print(a)"
      ]
    },
    {
      "cell_type": "markdown",
      "metadata": {
        "id": "mtX6JCMfmZsU"
      },
      "source": [
        "**tuple unpacking**"
      ]
    },
    {
      "cell_type": "code",
      "execution_count": null,
      "metadata": {
        "colab": {
          "base_uri": "https://localhost:8080/"
        },
        "id": "fAJVL79rmUHT",
        "outputId": "a757c403-d93f-4d16-b201-a5f3160f4d9b"
      },
      "outputs": [
        {
          "name": "stdout",
          "output_type": "stream",
          "text": [
            "3\n",
            "5\n"
          ]
        }
      ],
      "source": [
        "a, b = 3, 5\n",
        "print(a)\n",
        "print(b)"
      ]
    },
    {
      "cell_type": "markdown",
      "metadata": {
        "id": "SjRGBAkmmdTS"
      },
      "source": [
        "## **3. 중간 복습 한번 하고 갑시다.**"
      ]
    },
    {
      "cell_type": "markdown",
      "metadata": {
        "id": "OwdX6fC3nbYW"
      },
      "source": [
        "**<중간복습1>**\n",
        "\n",
        "a는 [1, 2, 3, 4, 5]가 담긴 리스트 입니다.\n",
        "\n",
        "인덱스에 접근해서 [1, 5, 6, 4, 5]로 바꿔보세요."
      ]
    },
    {
      "cell_type": "code",
      "execution_count": null,
      "metadata": {
        "id": "wIxlGfnymcYN"
      },
      "outputs": [],
      "source": [
        "a = [1, 2, 3, 4, 5]\n",
        "# TO DO"
      ]
    },
    {
      "cell_type": "markdown",
      "metadata": {
        "id": "wDdO9U-2pjqi"
      },
      "source": [
        "**<중간복습2>**\n",
        "\n",
        "a는 [1, 2, 3, 4, 5]가 담긴 리스트 입니다.\n",
        "\n",
        "리스트 덧셈을 이용해 [1, 2, 3, 4, 5, 10, 11] 리스트로 바꿔보세요."
      ]
    },
    {
      "cell_type": "code",
      "execution_count": null,
      "metadata": {
        "id": "YmXicO-qpiu3"
      },
      "outputs": [],
      "source": [
        "a = [1, 2, 3, 4, 5]\n",
        "# TO DO"
      ]
    },
    {
      "cell_type": "markdown",
      "metadata": {
        "id": "wkvS8k54ptiK"
      },
      "source": [
        "**<중간복습3>**\n",
        "\n",
        "a는 [1, 2, 3, 4, 5]가 담긴 리스트 입니다.\n",
        "\n",
        "pop이나 remove를 이용해 [1,2, 4, 5] 리스트로 바꿔보세요."
      ]
    },
    {
      "cell_type": "code",
      "execution_count": null,
      "metadata": {
        "id": "BBIMWkcMpsuq"
      },
      "outputs": [],
      "source": [
        "a = [1, 2, 3, 4, 5]\n",
        "# TO DO"
      ]
    },
    {
      "cell_type": "markdown",
      "metadata": {
        "id": "kh3NJBkRqvne"
      },
      "source": [
        "**<중간복습4>**\n",
        "\n",
        "a는 [1, 2, 3, 4, 5, 6, 7, 8, 9, 10]가 담긴 리스트 입니다.\n",
        "\n",
        "리스트 슬라이싱을 이용해 [5, 6, 7, 8]을 출력해보세요."
      ]
    },
    {
      "cell_type": "code",
      "execution_count": null,
      "metadata": {
        "id": "CcCqzAiHqiPb"
      },
      "outputs": [],
      "source": [
        "a = [1, 2, 3, 4, 5, 6, 7, 8, 9, 10]\n",
        "# TO DO"
      ]
    },
    {
      "cell_type": "markdown",
      "metadata": {
        "id": "llTNDu55q2bB"
      },
      "source": [
        "## **4. 반복문**\n",
        "- 반복적인 작업을 가능하게 해줍니다.\n",
        "- for를 이용하면, 리스트와 문자열 등 컬렉션 타입 아이템을 하나씩 순회할 수 있습니다.\n",
        "- while을 이용하면, 특정 조건을 만족하는 경우 계속 반복이 가능합니다."
      ]
    },
    {
      "cell_type": "code",
      "execution_count": null,
      "metadata": {
        "colab": {
          "base_uri": "https://localhost:8080/"
        },
        "id": "1KWXULAFq1MI",
        "outputId": "07688278-5bfc-43dd-a6e7-320155c8afb7"
      },
      "outputs": [
        {
          "name": "stdout",
          "output_type": "stream",
          "text": [
            "1\n",
            "2\n",
            "3\n",
            "4\n",
            "5\n"
          ]
        }
      ],
      "source": [
        "a = [1, 2, 3, 4, 5]\n",
        "\n",
        "for item in a:\n",
        "    print(item)"
      ]
    },
    {
      "cell_type": "code",
      "execution_count": null,
      "metadata": {
        "colab": {
          "base_uri": "https://localhost:8080/"
        },
        "id": "kLkT0pbCtq_B",
        "outputId": "947e3b49-160f-4f02-8948-aa530f310051"
      },
      "outputs": [
        {
          "name": "stdout",
          "output_type": "stream",
          "text": [
            "2\n",
            "4\n",
            "6\n",
            "8\n",
            "10\n"
          ]
        }
      ],
      "source": [
        "a = [1, 2, 3, 4, 5]\n",
        "\n",
        "for item in a:\n",
        "    print(item*2)"
      ]
    },
    {
      "cell_type": "code",
      "execution_count": null,
      "metadata": {
        "colab": {
          "base_uri": "https://localhost:8080/"
        },
        "id": "kcYoQaSkttI-",
        "outputId": "34538156-e70b-4f57-c293-40e471b6d373"
      },
      "outputs": [
        {
          "name": "stdout",
          "output_type": "stream",
          "text": [
            "2\n",
            "4\n",
            "6\n",
            "8\n",
            "10\n"
          ]
        }
      ],
      "source": [
        "b = [1, 2, 3, 4, 5, 6, 7, 8, 9, 10]\n",
        "\n",
        "for i in b:\n",
        "    if i % 2 == 0:\n",
        "        print(i)"
      ]
    },
    {
      "cell_type": "code",
      "execution_count": null,
      "metadata": {
        "colab": {
          "base_uri": "https://localhost:8080/"
        },
        "id": "18nNkL7At6bK",
        "outputId": "4073357c-b216-4c5b-eaf6-a7ce457631f3"
      },
      "outputs": [
        {
          "name": "stdout",
          "output_type": "stream",
          "text": [
            "value:  1 , index:  0\n",
            "value:  10 , index:  1\n",
            "value:  9 , index:  2\n",
            "value:  24 , index:  3\n"
          ]
        }
      ],
      "source": [
        "a = [1, 10, 9, 24]\n",
        "\n",
        "i = 0 # 인덱스\n",
        "while i < len(a):\n",
        "    print('value: ', a[i], ', index: ', i)\n",
        "    i += 1"
      ]
    },
    {
      "cell_type": "markdown",
      "metadata": {
        "id": "zU3S9U4k0sTB"
      },
      "source": [
        "**range를 이용하면 더 편하게 구현이 가능합니다**"
      ]
    },
    {
      "cell_type": "code",
      "execution_count": null,
      "metadata": {
        "colab": {
          "base_uri": "https://localhost:8080/"
        },
        "id": "5KZvz_7R0xgm",
        "outputId": "038ad739-cf8c-46b0-87db-6c8e28d03bac"
      },
      "outputs": [
        {
          "name": "stdout",
          "output_type": "stream",
          "text": [
            "0\n",
            "1\n",
            "2\n",
            "3\n",
            "4\n",
            "5\n",
            "6\n",
            "7\n",
            "8\n",
            "9\n"
          ]
        }
      ],
      "source": [
        "for i in range(10): # range를 이용해 0부터 9까지 리스트를 만들 수 있습니다.\n",
        "    print(i)"
      ]
    },
    {
      "cell_type": "markdown",
      "metadata": {
        "id": "rVvJux3o06JO"
      },
      "source": [
        "**단순 반복을 위해서는 _를 사용할 수도 있죠**"
      ]
    },
    {
      "cell_type": "code",
      "execution_count": null,
      "metadata": {
        "colab": {
          "base_uri": "https://localhost:8080/"
        },
        "id": "tt70G1NH08ph",
        "outputId": "fddd24d3-a9ee-4858-9ab8-9d7a5b0eb24b"
      },
      "outputs": [
        {
          "name": "stdout",
          "output_type": "stream",
          "text": [
            "내 영원이 돼줘, 내 이름 불러줘\n",
            "내 영원이 돼줘, 내 이름 불러줘\n",
            "내 영원이 돼줘, 내 이름 불러줘\n",
            "내 영원이 돼줘, 내 이름 불러줘\n",
            "내 영원이 돼줘, 내 이름 불러줘\n"
          ]
        }
      ],
      "source": [
        "for _ in range(5):\n",
        "    print(\"내 영원이 돼줘, 내 이름 불러줘\")"
      ]
    },
    {
      "cell_type": "markdown",
      "metadata": {
        "id": "HVr6mVWR0hjq"
      },
      "source": [
        "**format을 이용해서, 문자열을 반복해서 출력해볼까요?**"
      ]
    },
    {
      "cell_type": "code",
      "execution_count": null,
      "metadata": {
        "colab": {
          "base_uri": "https://localhost:8080/"
        },
        "id": "VH2bonjcynEa",
        "outputId": "d74f28c4-341c-463f-9488-512d7f7d85be"
      },
      "outputs": [
        {
          "name": "stdout",
          "output_type": "stream",
          "text": [
            "Forever 1 It's love, it's love\n",
            "Forever 2 It's love, it's love\n",
            "Forever 3 It's love, it's love\n",
            "Forever 4 It's love, it's love\n",
            "Forever 5 It's love, it's love\n"
          ]
        }
      ],
      "source": [
        "a = [1, 2, 3, 4, 5]\n",
        "\n",
        "for i in a:\n",
        "    output_str = 'Forever {} It\\'s love, it\\'s love'.format(i)\n",
        "    print(output_str)"
      ]
    },
    {
      "cell_type": "markdown",
      "metadata": {
        "id": "MzrGFNHs4lmU"
      },
      "source": [
        "**반복문을 이용해서 합계를 구해볼 수 있을까요?**\n",
        "\n",
        "- score의 합계를 구하고 출력해봅시다."
      ]
    },
    {
      "cell_type": "code",
      "execution_count": null,
      "metadata": {
        "id": "cPkmVJcA3XDW"
      },
      "outputs": [],
      "source": [
        "scores = [100, 90, 85, 90, 100, 88]\n",
        "\n",
        "# TO DO"
      ]
    },
    {
      "cell_type": "markdown",
      "metadata": {
        "id": "9KM55RFp44VI"
      },
      "source": [
        "**평균은 어떻게 구할 수 있을까요?**"
      ]
    },
    {
      "cell_type": "code",
      "execution_count": null,
      "metadata": {
        "id": "RfC0zVoZ470H"
      },
      "outputs": [],
      "source": [
        "scores = [100, 90, 85, 90, 100, 88]\n",
        "\n",
        "# TO DO"
      ]
    },
    {
      "cell_type": "markdown",
      "metadata": {
        "id": "Ni-H0OI55vgD"
      },
      "source": [
        "**while의 경우 무한루프를 방지하기 위해 break와 함께 사용합시다.**"
      ]
    },
    {
      "cell_type": "code",
      "execution_count": null,
      "metadata": {
        "colab": {
          "base_uri": "https://localhost:8080/"
        },
        "id": "dBdtF5zL48aW",
        "outputId": "3495c66b-9d5b-4735-c3d7-2462bfe76899"
      },
      "outputs": [
        {
          "name": "stdout",
          "output_type": "stream",
          "text": [
            "1\n",
            "2\n",
            "3\n",
            "4\n",
            "5\n",
            "6\n"
          ]
        }
      ],
      "source": [
        "i = 0\n",
        "while True:\n",
        "    i += 1\n",
        "    print(i)\n",
        "    if i > 5:\n",
        "        break"
      ]
    },
    {
      "cell_type": "markdown",
      "metadata": {
        "id": "hy3CfB_g6sRi"
      },
      "source": [
        "**continue를 사용하면 반복문의 처음으로 돌아갑니다.**"
      ]
    },
    {
      "cell_type": "code",
      "execution_count": null,
      "metadata": {
        "colab": {
          "base_uri": "https://localhost:8080/"
        },
        "id": "egIqVz606nfc",
        "outputId": "29e3d2d8-bfe3-4602-99f5-6e0051871524"
      },
      "outputs": [
        {
          "name": "stdout",
          "output_type": "stream",
          "text": [
            "1\n",
            "3\n",
            "5\n",
            "7\n",
            "9\n",
            "11\n",
            "13\n",
            "15\n",
            "17\n",
            "19\n",
            "21\n"
          ]
        }
      ],
      "source": [
        "i = 0\n",
        "while True:\n",
        "    i += 1\n",
        "    if i % 2 == 0:\n",
        "        continue\n",
        "    print(i)\n",
        "    if i > 20:\n",
        "        break"
      ]
    },
    {
      "cell_type": "markdown",
      "metadata": {
        "id": "70PX_nn2HuWI"
      },
      "source": [
        "**이중 for문으로 쓰면 더욱 어렵습니다.**"
      ]
    },
    {
      "cell_type": "code",
      "execution_count": null,
      "metadata": {
        "colab": {
          "base_uri": "https://localhost:8080/"
        },
        "id": "a4sRwKKpHw6O",
        "outputId": "d51ee587-663f-40d6-d398-2a11bb59b134"
      },
      "outputs": [
        {
          "name": "stdout",
          "output_type": "stream",
          "text": [
            "0 x 0 = 0\n",
            "0 x 1 = 0\n",
            "0 x 2 = 0\n",
            "0 x 3 = 0\n",
            "0 x 4 = 0\n",
            "0 x 5 = 0\n",
            "0 x 6 = 0\n",
            "0 x 7 = 0\n",
            "0 x 8 = 0\n",
            "0 x 9 = 0\n",
            "1 x 0 = 0\n",
            "1 x 1 = 1\n",
            "1 x 2 = 2\n",
            "1 x 3 = 3\n",
            "1 x 4 = 4\n",
            "1 x 5 = 5\n",
            "1 x 6 = 6\n",
            "1 x 7 = 7\n",
            "1 x 8 = 8\n",
            "1 x 9 = 9\n",
            "2 x 0 = 0\n",
            "2 x 1 = 2\n",
            "2 x 2 = 4\n",
            "2 x 3 = 6\n",
            "2 x 4 = 8\n",
            "2 x 5 = 10\n",
            "2 x 6 = 12\n",
            "2 x 7 = 14\n",
            "2 x 8 = 16\n",
            "2 x 9 = 18\n",
            "3 x 0 = 0\n",
            "3 x 1 = 3\n",
            "3 x 2 = 6\n",
            "3 x 3 = 9\n",
            "3 x 4 = 12\n",
            "3 x 5 = 15\n",
            "3 x 6 = 18\n",
            "3 x 7 = 21\n",
            "3 x 8 = 24\n",
            "3 x 9 = 27\n",
            "4 x 0 = 0\n",
            "4 x 1 = 4\n",
            "4 x 2 = 8\n",
            "4 x 3 = 12\n",
            "4 x 4 = 16\n",
            "4 x 5 = 20\n",
            "4 x 6 = 24\n",
            "4 x 7 = 28\n",
            "4 x 8 = 32\n",
            "4 x 9 = 36\n",
            "5 x 0 = 0\n",
            "5 x 1 = 5\n",
            "5 x 2 = 10\n",
            "5 x 3 = 15\n",
            "5 x 4 = 20\n",
            "5 x 5 = 25\n",
            "5 x 6 = 30\n",
            "5 x 7 = 35\n",
            "5 x 8 = 40\n",
            "5 x 9 = 45\n",
            "6 x 0 = 0\n",
            "6 x 1 = 6\n",
            "6 x 2 = 12\n",
            "6 x 3 = 18\n",
            "6 x 4 = 24\n",
            "6 x 5 = 30\n",
            "6 x 6 = 36\n",
            "6 x 7 = 42\n",
            "6 x 8 = 48\n",
            "6 x 9 = 54\n",
            "7 x 0 = 0\n",
            "7 x 1 = 7\n",
            "7 x 2 = 14\n",
            "7 x 3 = 21\n",
            "7 x 4 = 28\n",
            "7 x 5 = 35\n",
            "7 x 6 = 42\n",
            "7 x 7 = 49\n",
            "7 x 8 = 56\n",
            "7 x 9 = 63\n",
            "8 x 0 = 0\n",
            "8 x 1 = 8\n",
            "8 x 2 = 16\n",
            "8 x 3 = 24\n",
            "8 x 4 = 32\n",
            "8 x 5 = 40\n",
            "8 x 6 = 48\n",
            "8 x 7 = 56\n",
            "8 x 8 = 64\n",
            "8 x 9 = 72\n",
            "9 x 0 = 0\n",
            "9 x 1 = 9\n",
            "9 x 2 = 18\n",
            "9 x 3 = 27\n",
            "9 x 4 = 36\n",
            "9 x 5 = 45\n",
            "9 x 6 = 54\n",
            "9 x 7 = 63\n",
            "9 x 8 = 72\n",
            "9 x 9 = 81\n"
          ]
        }
      ],
      "source": [
        "for i in range(10):\n",
        "    for j in range(10):\n",
        "        print('{} x {} = {}'.format(i, j, i * j))"
      ]
    },
    {
      "cell_type": "markdown",
      "metadata": {
        "id": "c72mxW-N-dDw"
      },
      "source": [
        "## **일일 과제**"
      ]
    },
    {
      "cell_type": "markdown",
      "metadata": {
        "id": "6zfqVc2L_39Q"
      },
      "source": [
        "**1. 다음은 학생들의 국어, 수학, 영어 성적입니다. 각각 평균을 구해보세요.**"
      ]
    },
    {
      "cell_type": "code",
      "execution_count": 25,
      "metadata": {
        "id": "YJPlxc0q-BH7"
      },
      "outputs": [
        {
          "name": "stdout",
          "output_type": "stream",
          "text": [
            "korean_avg : 45.0\n",
            "math_avg : 68.0\n",
            "english_avg : 47.2\n"
          ]
        }
      ],
      "source": [
        "Korean = [92, 36, 45, 52, 0]\n",
        "math = [97, 38, 49, 98, 58]\n",
        "english = [19, 52, 61, 13, 91]\n",
        "\n",
        "korean_sum = 0\n",
        "math_sum = 0\n",
        "english_sum = 0\n",
        "\n",
        "\n",
        "\n",
        "for i in Korean:\n",
        "    korean_sum += i \n",
        "    \n",
        "print(f\"korean_avg : {korean_sum / len(Korean)}\")\n",
        "\n",
        "for j in math:\n",
        "    math_sum += j \n",
        "    \n",
        "print(f\"math_avg : {math_sum/ len(math)}\")\n",
        "\n",
        "for k in english:\n",
        "    english_sum += k\n",
        "    \n",
        "print(f\"english_avg : {english_sum / len(english)}\")\n",
        "\n",
        "# 반복이 많이 되는데 효율적으로 하는 법이 궁금. \n",
        "\n",
        "    \n",
        "    \n",
        "    "
      ]
    },
    {
      "cell_type": "markdown",
      "metadata": {
        "id": "5-qzQYOgAzXP"
      },
      "source": [
        "**2. 다음은 학생들의 국어, 수학, 영어 성적입니다. 평균을 구하고, 평균 점수가 70점 미만인 사람의 이름을 출력하세요.**"
      ]
    },
    {
      "cell_type": "code",
      "execution_count": 12,
      "metadata": {
        "id": "oY_DbwOQAxUj"
      },
      "outputs": [
        {
          "name": "stdout",
          "output_type": "stream",
          "text": [
            "Kim\n",
            "Lee\n",
            "Park\n",
            "Choi\n",
            "Jung\n",
            "Kang\n",
            "Cho\n",
            "Yoon\n",
            "Jang\n",
            "Lim\n",
            "Han\n"
          ]
        }
      ],
      "source": [
        "name = [\"Kim\", \"Lee\", \"Park\", \"Choi\", \"Jung\", \"Kang\", \"Cho\", \"Yoon\", \"Jang\", \"Lim\", \"Han\"]\n",
        "math = [97, 38, 49, 98, 58, 17, 13, 25, 39, 9, 96]\n",
        "english = [19, 52, 61, 13, 91, 34, 87, 7, 69, 97, 33]\n",
        "Korean = [92, 36, 45, 52, 0, 91, 9, 93, 45, 75, 37]\n",
        "\n",
        "\n",
        "\n",
        "average_arr = [int((x+y+z) / 3) for x,y,z in zip(math,english,Korean)]\n",
        "\n",
        "for index,value in enumerate(average_arr):\n",
        "    if(value < 70):\n",
        "        print(name[index])\n",
        "    \n",
        "    \n",
        "\n",
        "\n",
        "\n",
        "\n",
        "\n",
        "       \n",
        "\n",
        "\n",
        "\n",
        "        \n"
      ]
    },
    {
      "cell_type": "markdown",
      "metadata": {
        "id": "aaEf83q4BEQM"
      },
      "source": [
        "**3. 1부터 1000까지의 짝수들의 합을 계산하는 코드를 작성하시오.**"
      ]
    },
    {
      "cell_type": "code",
      "execution_count": 29,
      "metadata": {
        "id": "fe6YgXUGA_V8"
      },
      "outputs": [
        {
          "name": "stdout",
          "output_type": "stream",
          "text": [
            "250500\n"
          ]
        }
      ],
      "source": [
        "arr = list(range(1,1001)) # range의 경우 마지막 인수 1001 혹은 1000+1로 쓰는가?\n",
        "\n",
        "sum = 0\n",
        "\n",
        "for i in arr:\n",
        "    if(i % 2 == 0):\n",
        "        sum += i     \n",
        "    \n",
        "print(sum)"
      ]
    },
    {
      "cell_type": "markdown",
      "metadata": {
        "id": "UyIEbF_QGoMQ"
      },
      "source": [
        "**4. a = [22, 1, 3, 4, 7, 98, 21, 55, 87, 99, 19, 20, 45] 에서 최대값과 최소값을 찾으시오.**"
      ]
    },
    {
      "cell_type": "code",
      "execution_count": 36,
      "metadata": {
        "id": "0L8l63aDHUhK"
      },
      "outputs": [
        {
          "name": "stdout",
          "output_type": "stream",
          "text": [
            "최댓 값: 99\n",
            "최소 값: 1\n"
          ]
        }
      ],
      "source": [
        "a = [22, 1, 3, 4, 7, 98, 21, 55, 87, 99, 19, 20, 45]\n",
        "\n",
        "\n",
        "max_item = max(a)\n",
        "min_item = min(a)\n",
        "\n",
        "print(f\"최댓 값: {max_item}\")\n",
        "print(f\"최소 값: {min_item}\")"
      ]
    },
    {
      "cell_type": "markdown",
      "metadata": {
        "id": "oXh79AwqBJVG"
      },
      "source": [
        "**5. 구구단을 1단부터 9단까지 출력하시오.**"
      ]
    },
    {
      "cell_type": "code",
      "execution_count": 33,
      "metadata": {
        "id": "SbN30-eSIXHd"
      },
      "outputs": [
        {
          "name": "stdout",
          "output_type": "stream",
          "text": [
            "2\n",
            "4\n",
            "6\n",
            "8\n",
            "10\n",
            "12\n",
            "14\n",
            "16\n",
            "18\n",
            "3\n",
            "6\n",
            "9\n",
            "12\n",
            "15\n",
            "18\n",
            "21\n",
            "24\n",
            "27\n",
            "4\n",
            "8\n",
            "12\n",
            "16\n",
            "20\n",
            "24\n",
            "28\n",
            "32\n",
            "36\n",
            "5\n",
            "10\n",
            "15\n",
            "20\n",
            "25\n",
            "30\n",
            "35\n",
            "40\n",
            "45\n",
            "6\n",
            "12\n",
            "18\n",
            "24\n",
            "30\n",
            "36\n",
            "42\n",
            "48\n",
            "54\n",
            "7\n",
            "14\n",
            "21\n",
            "28\n",
            "35\n",
            "42\n",
            "49\n",
            "56\n",
            "63\n",
            "8\n",
            "16\n",
            "24\n",
            "32\n",
            "40\n",
            "48\n",
            "56\n",
            "64\n",
            "72\n",
            "9\n",
            "18\n",
            "27\n",
            "36\n",
            "45\n",
            "54\n",
            "63\n",
            "72\n",
            "81\n"
          ]
        }
      ],
      "source": [
        "\n",
        "arr = list(range(2,9+1))\n",
        "\n",
        "for i in range(2,10):\n",
        "    for j in range(1,10):\n",
        "        print(f\"{i * j}\")"
      ]
    }
  ],
  "metadata": {
    "colab": {
      "collapsed_sections": [],
      "provenance": []
    },
    "kernelspec": {
      "display_name": "Python 3.10.7 64-bit",
      "language": "python",
      "name": "python3"
    },
    "language_info": {
      "codemirror_mode": {
        "name": "ipython",
        "version": 3
      },
      "file_extension": ".py",
      "mimetype": "text/x-python",
      "name": "python",
      "nbconvert_exporter": "python",
      "pygments_lexer": "ipython3",
      "version": "3.10.7"
    },
    "vscode": {
      "interpreter": {
        "hash": "aee8b7b246df8f9039afb4144a1f6fd8d2ca17a180786b69acc140d282b71a49"
      }
    }
  },
  "nbformat": 4,
  "nbformat_minor": 0
}
