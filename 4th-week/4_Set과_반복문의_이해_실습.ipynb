{
  "cells": [
    {
      "cell_type": "markdown",
      "metadata": {
        "id": "Xok7iBY_YvAZ"
      },
      "source": [
        "## **1. 먼저 복습을 해볼까요?**\n",
        "\n",
        "저번 시간에 배운 내용:\n",
        "\n",
        "- 반복문(for, while)\n",
        "- 리스트\n",
        "- 리스트 함수(list, insert, pop, remove, index, len)\n",
        "- 튜플"
      ]
    },
    {
      "cell_type": "markdown",
      "metadata": {
        "id": "n8WvrdQ_Z3t8"
      },
      "source": [
        "**< 복습문제1 >**\n",
        "\n",
        "1. 처음에 리스트에 몇 개의 자료들이 있는지 출력해봅시다. (len)\n",
        "2. for를 이용해 리스트를 돌며, 리스트의 값을 출력해봅시다. (for)"
      ]
    },
    {
      "cell_type": "code",
      "execution_count": 47,
      "metadata": {
        "id": "JMiJOqkFYo77"
      },
      "outputs": [
        {
          "name": "stdout",
          "output_type": "stream",
          "text": [
            "12\n",
            "나현\n",
            "수현\n",
            "제인\n",
            "봉준\n",
            "혜민\n",
            "정희\n",
            "현우\n",
            "종민\n",
            "민기\n",
            "주연\n",
            "담비\n",
            "가은\n"
          ]
        }
      ],
      "source": [
        "students = ['나현', '수현', '제인', '봉준', '혜민', '정희', '현우', '종민', '민기', '주연', '담비', '가은']\n",
        "\n",
        "print(len(students))\n",
        "\n",
        "for i in students:\n",
        "    print(i)"
      ]
    },
    {
      "cell_type": "markdown",
      "metadata": {
        "id": "OwGIjjh4aevb"
      },
      "source": [
        "**< 복습문제2 >**\n",
        "\n",
        "리스트에서 5의 배수만 2배 늘려 출력하는 프로그램을 작성해봅시다."
      ]
    },
    {
      "cell_type": "code",
      "execution_count": 4,
      "metadata": {
        "id": "VZvvSI5rarap"
      },
      "outputs": [
        {
          "name": "stdout",
          "output_type": "stream",
          "text": [
            "10\n",
            "20\n",
            "30\n",
            "40\n"
          ]
        }
      ],
      "source": [
        "numbers = [1, 2, 3, 4, 5, 6, 7, 8, 9, 10, 11, 12 , 13, 14, 15, 16, 17, 18, 19, 20]\n",
        "\n",
        "for i in numbers:\n",
        "    if(i % 5 == 0):\n",
        "        print(i * 2)"
      ]
    },
    {
      "cell_type": "markdown",
      "metadata": {
        "id": "EjeusMCfe_Hb"
      },
      "source": [
        "**< 복습문제3 >**\n",
        "\n",
        "a, b, c 리스트를 합치고, 리스트 슬라이싱을 이용해 '나는'부터 '좋아합니다'까지를 추출해봅시다."
      ]
    },
    {
      "cell_type": "code",
      "execution_count": 7,
      "metadata": {
        "id": "pRD8fUShe9kq"
      },
      "outputs": [
        {
          "name": "stdout",
          "output_type": "stream",
          "text": [
            "나는 피자  햄버거  족발 보쌈 생연어 오이김밥 광어지느러미 좋아합니다.\n"
          ]
        }
      ],
      "source": [
        "a = ['많은', '음식들이 있지만', '나는']\n",
        "b = ['피자', ' 햄버거', ' 족발', '보쌈', '생연어', '오이김밥', '광어지느러미']\n",
        "c = ['좋아합니다.', '잘 알아 두세요.']\n",
        "\n",
        "full_list = (a+b+c)\n",
        "short_list = full_list[2:-1]\n",
        "\n",
        "print(*short_list)"
      ]
    },
    {
      "cell_type": "markdown",
      "metadata": {
        "id": "_BCk50bDhvpx"
      },
      "source": [
        "**< 복습문제4 >**\n",
        "\n",
        "복습문제3에서, 사실 '오이김밥'은 안좋아합니다.\n",
        "리스트에서 오이김밥을 제거해주세요(remove)"
      ]
    },
    {
      "cell_type": "code",
      "execution_count": 57,
      "metadata": {
        "id": "HW4i-Mote7uZ"
      },
      "outputs": [
        {
          "name": "stdout",
          "output_type": "stream",
          "text": [
            "['나는', '피자', ' 햄버거', ' 족발', '보쌈', '생연어', '광어지느러미', '좋아합니다.']\n"
          ]
        }
      ],
      "source": [
        "a = ['많은', '음식들이 있지만', '나는']\n",
        "b = ['피자', ' 햄버거', ' 족발', '보쌈', '생연어', '오이김밥', '광어지느러미']\n",
        "c = ['좋아합니다.', '잘 알아 두세요.']\n",
        "\n",
        "new_arr = (a+b+c)[2:-1]\n",
        "\n",
        "# 오이 김밥 제거\n",
        "\n",
        "new_arr.remove('오이김밥')\n",
        "\n",
        "print(new_arr)"
      ]
    },
    {
      "cell_type": "markdown",
      "metadata": {
        "id": "diSe8KTHjfrc"
      },
      "source": [
        "**< 복습문제5 >**\n",
        "\n",
        "튜플 언패킹을 이용해서 a에는 3, b에는 4를 한줄로 넣어봅시다."
      ]
    },
    {
      "cell_type": "code",
      "execution_count": 58,
      "metadata": {
        "id": "eSTZEYfFjfP6"
      },
      "outputs": [
        {
          "name": "stdout",
          "output_type": "stream",
          "text": [
            "3\n",
            "4\n"
          ]
        }
      ],
      "source": [
        "a,b = 3,4\n",
        "\n",
        "print(a)\n",
        "print(b)"
      ]
    },
    {
      "cell_type": "markdown",
      "metadata": {
        "id": "LxbBEuG5xPWG"
      },
      "source": [
        "**<복습문제6>**\n",
        "\n",
        "for를 이용해 \"어떤 표현법을 써야만 내 맘이 전해질까\"를 5번 출력해봅시다."
      ]
    },
    {
      "cell_type": "code",
      "execution_count": 63,
      "metadata": {
        "id": "x_kGeVQPxdG2"
      },
      "outputs": [
        {
          "name": "stdout",
          "output_type": "stream",
          "text": [
            "어떤 표현을 써야만 내 맘이 전해질까\n",
            "어떤 표현을 써야만 내 맘이 전해질까\n",
            "어떤 표현을 써야만 내 맘이 전해질까\n",
            "어떤 표현을 써야만 내 맘이 전해질까\n",
            "어떤 표현을 써야만 내 맘이 전해질까\n"
          ]
        }
      ],
      "source": [
        "s = '어떤 단어를 써야만 내 맘이 전해질까'\n",
        "# TO DO\n",
        "# 1. s 문장에서 '단어를'을 '표현법을'로 바꿔주세요.\n",
        "# 2. 5번 반복해봅시다.\n",
        "\n",
        "new_sentence = s.replace('단어를' , '표현을')\n",
        "\n",
        "for i in range(5):\n",
        "    print(new_sentence)"
      ]
    },
    {
      "cell_type": "markdown",
      "metadata": {
        "id": "phNEqtPkjzo3"
      },
      "source": [
        "## **2. while 심화**\n",
        "- while의 구조\n",
        "--------------------\n",
        "while 조건:\n",
        "\n",
        "　　실행할 내용1\n",
        "\n",
        "　　실행할 내용2\n",
        "\n",
        "--------------------\n",
        "\n",
        "- 만약 조건에 True가 들어있으면 영원히 끝나지 않음 (무한loop)\n",
        "\n",
        "- if... break를 이용해 무한loop를 끝낼 수 있음\n",
        "\n",
        "- continue를 이용해 반복문의 처음으로 보낼 수 있음.\n",
        "\n",
        "- 무한 loop에서 빠져나오지 못한다면, 상단의 런타임-런타임 다시 시작을 누릅니다."
      ]
    },
    {
      "cell_type": "markdown",
      "metadata": {
        "id": "fq4afDYcnyBB"
      },
      "source": [
        "**2-1) 그럼, 프로그램을 만들어볼까요**\n",
        "\n",
        "1. 무한loop를 만들어봅시다.\n",
        "\n",
        "2. 반복문의 밖에서 i=0을 할당하고, 반복문이 돌수록 i를 1씩 늘려봅시다. (i = i + 1)\n",
        "\n",
        "3. if문을 넣어, i가 10보다 크면 멈추게 합시다(if, break)\n",
        "\n",
        "4. 반복문의 맨 마지막에 i를 출력합시다."
      ]
    },
    {
      "cell_type": "code",
      "execution_count": 8,
      "metadata": {
        "id": "ZbMjEW65jnEU"
      },
      "outputs": [],
      "source": [
        "# TO DO"
      ]
    },
    {
      "cell_type": "markdown",
      "metadata": {
        "id": "jEWSw_XCo4Da"
      },
      "source": [
        "**2-2) continue를 써볼까요?**\n",
        "\n",
        "continue를 이용해 i가 짝수일 때는, 출력이 되지 않고 반복문의 처음으로 가도록 코드를 수정합시다."
      ]
    },
    {
      "cell_type": "code",
      "execution_count": null,
      "metadata": {
        "id": "MdhJ1pD8oseD"
      },
      "outputs": [],
      "source": []
    },
    {
      "cell_type": "markdown",
      "metadata": {
        "id": "-mHchcPJs79a"
      },
      "source": [
        "## **3. 3/6/9 프로그램 만들기**\n",
        "- 369게임은, 1부터 순서대로 세며 숫자에 3/6/9가 들어가면 '짝'을 입력하는 게임입니다\n",
        "- 숫자를 입력 받고, 그 숫자까지 3/6/9 게임을 혼자서 진행하는 프로그램을 만들어봅시다.\n",
        "\n"
      ]
    },
    {
      "cell_type": "code",
      "execution_count": 13,
      "metadata": {
        "id": "V7Tqr2Watyl0"
      },
      "outputs": [
        {
          "name": "stdout",
          "output_type": "stream",
          "text": [
            "1 2 짝 4 5 짝 7 8 짝 10 11 12 짝 14 15 짝 17 18 짝 20 21 22 짝 24 25 짝 27 28 짝 짝 짝 짝 짝 짝 짝 짝 짝 짝 짝 40 "
          ]
        }
      ],
      "source": [
        "# TO DO\n",
        "# 같이 해봐요\n",
        "\n",
        "\n",
        "\n",
        "user_input = input('숫자를 입력해주세요')\n",
        "user_input = int(user_input)\n",
        "\n",
        "for i in range(1, user_input+1):\n",
        "    if str(i).find('3')>=0 or str(i).find('6')>=0 or str(i).find('9') >=0:\n",
        "        print('짝', end=' ')\n",
        "    else:\n",
        "        print(i, end=' ')   \n",
        "\n",
        "# find 메서드를 찾을 때 없는 것을 찾으면 -1 이 나오니까, >=0 이면 문장안에 있는 것이다."
      ]
    },
    {
      "cell_type": "markdown",
      "metadata": {
        "id": "t9Dhs_NRsyxe"
      },
      "source": [
        "## **4. for 심화**\n",
        "- for 변수 in 리스트 를 통해 리스트 iteration을 할 수 있습니다.\n",
        "- for 변수 in range(len(리스트)) 를 통해 리스트의 모든 index에 접근할 수 있습니다."
      ]
    },
    {
      "cell_type": "markdown",
      "metadata": {
        "id": "HucsafwfpOAI"
      },
      "source": [
        "**4-1) range(len(리스트))를 이용해 리스트의 인덱스에 접근해봅시다.**"
      ]
    },
    {
      "cell_type": "code",
      "execution_count": 9,
      "metadata": {
        "id": "ho6W2xJ0pNbI"
      },
      "outputs": [
        {
          "name": "stdout",
          "output_type": "stream",
          "text": [
            "0\n",
            "1\n",
            "2\n",
            "3\n",
            "4\n"
          ]
        }
      ],
      "source": [
        "a = [1, 2, 3, 4, 5]\n",
        "\n",
        "for i in range(len(a)): # 인덱스로 접근\n",
        "    print(i)"
      ]
    },
    {
      "cell_type": "markdown",
      "metadata": {
        "id": "0LVlN8y4jGcl"
      },
      "source": [
        "**4-2) 인덱스를 이용해 복수의 리스트에 접근해 봅시다.**\n",
        "\n",
        "길이가 같은 리스트 a, b가 있을 때, 하나를 골라서 for i in range(len(a))를 이용해 인덱스에 접근합니다.\n",
        "\n",
        "이를 이용해, 두 리스트의 합을 출력해봅시다."
      ]
    },
    {
      "cell_type": "code",
      "execution_count": 10,
      "metadata": {
        "id": "2IVvFovTjF7M"
      },
      "outputs": [
        {
          "name": "stdout",
          "output_type": "stream",
          "text": [
            "11\n",
            "22\n",
            "33\n",
            "44\n",
            "55\n"
          ]
        }
      ],
      "source": [
        "a = [1, 2, 3, 4, 5]\n",
        "b = [10, 20, 30, 40, 50]\n",
        "\n",
        "for i in range(len(a)): # 인덱스로 접근하면 이렇게 리스트의 합을 구하기가 용이하다.\n",
        "    print(a[i] + b[i])"
      ]
    },
    {
      "cell_type": "markdown",
      "metadata": {
        "id": "1Spr2xBOiIi4"
      },
      "source": [
        "**4-3) 연습해볼까요?**\n",
        "\n",
        "name에는 사람의 이름, cook에는 요리 이름이 들어있습니다.\n",
        "\n",
        "f-string 혹은 format을 이용해, ㅇㅇ는 ㅇㅇㅇ를 만듭니다를 출력해봅시다. (for, while)"
      ]
    },
    {
      "cell_type": "code",
      "execution_count": 11,
      "metadata": {
        "id": "IT5PYrmqiH0N"
      },
      "outputs": [
        {
          "name": "stdout",
          "output_type": "stream",
          "text": [
            "나현는 오징어짬뽕를 만듭니다.\n",
            "수현는 너구리를 만듭니다.\n",
            "제인는 튀김소보루를 만듭니다.\n",
            "봉준는 연어김밥를 만듭니다.\n",
            "혜민는 족발튀김를 만듭니다.\n",
            "정희는 감바스를 만듭니다.\n",
            "현우는 라멘를 만듭니다.\n",
            "종민는 새우찜를 만듭니다.\n",
            "민기는  조개탕를 만듭니다.\n",
            "주연는 까르보나라를 만듭니다.\n",
            "담비는 불고기덮밥를 만듭니다.\n",
            "가은는 비빔밥를 만듭니다.\n"
          ]
        }
      ],
      "source": [
        "name = ['나현', '수현', '제인', '봉준', '혜민', '정희', '현우', '종민', '민기', '주연', '담비', '가은']\n",
        "cook = ['오징어짬뽕', '너구리', '튀김소보루', '연어김밥', '족발튀김', '감바스', '라멘', '새우찜', ' 조개탕', '까르보나라', '불고기덮밥', '비빔밥']\n",
        "\n",
        "for i in range(len(name)):\n",
        "    print(f'{name[i]}는 {cook[i]}를 만듭니다.')\n",
        "\n"
      ]
    },
    {
      "cell_type": "markdown",
      "metadata": {
        "id": "hMBSPIosxzsP"
      },
      "source": [
        "**4-4) 연습해볼까요?**\n",
        "\n",
        "name에는 사람의 이름, cook에는 요리 이름이 들어있습니다.\n",
        "\n",
        "f-string 혹은 format을 이용해, ㅇㅇ는 ㅇㅇㅇ를 만듭니다를 출력해봅시다. (for, while)"
      ]
    },
    {
      "cell_type": "code",
      "execution_count": 13,
      "metadata": {
        "id": "-0xiXiDgy94x"
      },
      "outputs": [],
      "source": [
        "# TO DO"
      ]
    },
    {
      "cell_type": "markdown",
      "metadata": {
        "id": "OAMkqRr0zAMy"
      },
      "source": [
        "**4-5) 최대값과 최소값을 구해볼까요?**\n",
        "\n",
        "- 최대값은 엄청 작은 값을 처음에 넣고, 모든 리스트의 값과 비교해서 큰 값들을 업데이트 시켜볼 수 있습니다.\n",
        "- 최소값은 엄청 큰 값을 처음에 넣고, 모든 리스트의 값과 비교해서 작은 값들을 업데이트 시켜볼 수 있습니다.\n"
      ]
    },
    {
      "cell_type": "code",
      "execution_count": 14,
      "metadata": {
        "colab": {
          "base_uri": "https://localhost:8080/"
        },
        "id": "kI7484oDy-bM",
        "outputId": "94f8bffa-f7d1-4beb-ac22-41fb8200390c"
      },
      "outputs": [
        {
          "name": "stdout",
          "output_type": "stream",
          "text": [
            "최대값: 40\n"
          ]
        }
      ],
      "source": [
        "a = -1\n",
        "\n",
        "value_list = [10 ,20, 30, 40, 30, 20, 10]\n",
        "\n",
        "for value in value_list:\n",
        "    if a < value:\n",
        "        a = value\n",
        "    \n",
        "print(f'최대값: {a}')"
      ]
    },
    {
      "cell_type": "markdown",
      "metadata": {
        "id": "T0hTHp6FzxhU"
      },
      "source": [
        "**최소값을 찾는 코드를 한번 만들어보죠**\n",
        "\n",
        "그냥 하면 재미 없으니, for i in range(len(value)):를 이용해봅시다."
      ]
    },
    {
      "cell_type": "code",
      "execution_count": 22,
      "metadata": {
        "colab": {
          "base_uri": "https://localhost:8080/",
          "height": 137
        },
        "id": "fGAB1nFtzvJm",
        "outputId": "f35cc249-258b-4c19-ee37-846f9d4e1f71"
      },
      "outputs": [
        {
          "name": "stdout",
          "output_type": "stream",
          "text": [
            "최솟값은 10 입니다.\n"
          ]
        }
      ],
      "source": [
        "a = 9999999\n",
        "\n",
        "value_list = [10 ,20, 30, 40, 30, 20, 10]\n",
        "\n",
        "for i in range(len(value_list)):\n",
        "    if(a > value_list[i]):\n",
        "        a = value_list[i]\n",
        "\n",
        "print(f'최솟값은 {a} 입니다.')"
      ]
    },
    {
      "cell_type": "markdown",
      "metadata": {
        "id": "54UEyzjB0C4-"
      },
      "source": [
        "**4-6) 중간에 끊어봅시다.**\n",
        "\n",
        "- break를 이용하면 for문을 중간에 중단할 수 있습니다.\n",
        "- 조건문과 함께 사용할 때 강력하죠."
      ]
    },
    {
      "cell_type": "code",
      "execution_count": 25,
      "metadata": {
        "id": "6wPII1_P0Ca1"
      },
      "outputs": [
        {
          "name": "stdout",
          "output_type": "stream",
          "text": [
            "100\n",
            "90\n",
            "80\n",
            "70\n",
            "60\n",
            "50\n"
          ]
        }
      ],
      "source": [
        "value_list = [100, 90, 80, 70, 60, 50, 40, 30, 20, 10]\n",
        "\n",
        "# 값이 내림차순 정렬 되어있고, 50 이상의 값만 출력하고 싶다면?\n",
        "\n",
        "#  하단과 같이 짜면 for문이 너무 많이 돈다. 40부터는 볼 필요 없다.\n",
        "# for v in value_list:\n",
        "#     if(v >= 50):\n",
        "#         print(v)\n",
        "\n",
        "# 시간 복잡도를 고려한 코드\n",
        "for v in value_list:\n",
        "    if v < 50:\n",
        "        break\n",
        "    print(v)\n",
        "    \n"
      ]
    },
    {
      "cell_type": "markdown",
      "metadata": {
        "id": "PyBuN6Hw1FAY"
      },
      "source": [
        "## **5. Set**\n",
        "\n",
        "- 중복을 허용하지 않는 구조입니다.\n",
        "- 수학에서의 집합과 동일한 개념입니다.\n",
        "- {}를 이용해 선언할 수 있습니다.\n",
        "- set()을 이용해 리스트를 set으로 변환할 수 있습니다.\n"
      ]
    },
    {
      "cell_type": "code",
      "execution_count": 27,
      "metadata": {
        "colab": {
          "base_uri": "https://localhost:8080/"
        },
        "id": "f7pXhXV3z-Lg",
        "outputId": "d8093fde-3446-469a-ddf6-6b7be6a421cf"
      },
      "outputs": [
        {
          "name": "stdout",
          "output_type": "stream",
          "text": [
            "{1, 2, 3}\n"
          ]
        }
      ],
      "source": [
        "a = {1, 2, 3}\n",
        "\n",
        "print(a)"
      ]
    },
    {
      "cell_type": "code",
      "execution_count": 18,
      "metadata": {
        "colab": {
          "base_uri": "https://localhost:8080/"
        },
        "id": "rhQ89C2H2FZQ",
        "outputId": "8c0373f0-7f36-4174-b310-fd7a9e70586e"
      },
      "outputs": [
        {
          "name": "stdout",
          "output_type": "stream",
          "text": [
            "{1, 2, 3, 4}\n",
            "{2, 3}\n",
            "{1}\n",
            "False\n"
          ]
        }
      ],
      "source": [
        "a = {1, 2, 3}\n",
        "b = {2, 3, 4}\n",
        "\n",
        "print(a.union(b)) # 합집합\n",
        "print(a.intersection(b)) # 교집합\n",
        "print(a.difference(b)) # 차집합\n",
        "print(a.issubset(b)) # 부분 집합"
      ]
    },
    {
      "cell_type": "markdown",
      "metadata": {
        "id": "7uM2q1s72hMa"
      },
      "source": [
        "**5-1) set에 값을 넣어봅시다.**"
      ]
    },
    {
      "cell_type": "code",
      "execution_count": 21,
      "metadata": {
        "colab": {
          "base_uri": "https://localhost:8080/"
        },
        "id": "JM9qIEK22Sah",
        "outputId": "9ebb21ed-843e-47de-f7ad-b79ce51f2dda"
      },
      "outputs": [
        {
          "name": "stdout",
          "output_type": "stream",
          "text": [
            "{1, 2, 3, 4}\n"
          ]
        }
      ],
      "source": [
        "a = {1, 2, 3}\n",
        "\n",
        "a.add(4)\n",
        "print(a)"
      ]
    },
    {
      "cell_type": "code",
      "execution_count": 30,
      "metadata": {
        "id": "6BhTSXL72mGQ"
      },
      "outputs": [
        {
          "name": "stdout",
          "output_type": "stream",
          "text": [
            "{1, 2, 3, 4}\n"
          ]
        }
      ],
      "source": [
        "# 이번에는 반복문을 이용해 10번 4를 넣어보고 출력해볼까요?\n",
        "a = {1, 2, 3}\n",
        "\n",
        "for i in range(10):\n",
        "    a.add(4)\n",
        "\n",
        "print(a)\n",
        "\n"
      ]
    },
    {
      "cell_type": "markdown",
      "metadata": {
        "id": "mcj2NBKM2Mf9"
      },
      "source": [
        "**5-2) set을 이용해 중복을 제거해볼까요?**"
      ]
    },
    {
      "cell_type": "code",
      "execution_count": 33,
      "metadata": {
        "id": "H1yKGAlK2H23"
      },
      "outputs": [
        {
          "name": "stdout",
          "output_type": "stream",
          "text": [
            "[1, 2, 3]\n"
          ]
        }
      ],
      "source": [
        "a = [1, 1, 2, 2, 3, 3]\n",
        "\n",
        "a = list(set(a))\n",
        "\n",
        "print(a)"
      ]
    },
    {
      "cell_type": "markdown",
      "metadata": {
        "id": "ZcB2aQzm22pE"
      },
      "source": [
        "## **일일 과제**"
      ]
    },
    {
      "cell_type": "markdown",
      "metadata": {
        "id": "llmQ9IOp293i"
      },
      "source": [
        "1. 다음은 학생들의 수학, 사회, 국어 성적입니다. 50점 이하의 점수를 받은 과목은 보충 수업을 받아야 합니다. 어떤 학생이 어떤 수업의 보충수업을 받아야 할까요?"
      ]
    },
    {
      "cell_type": "code",
      "execution_count": 28,
      "metadata": {
        "id": "1xSI2ka-2z5V"
      },
      "outputs": [
        {
          "name": "stdout",
          "output_type": "stream",
          "text": [
            "수학 보충을 받아야할 학생은 Lee,Park,Kang,Cho,Yoon,Jang,Lim 입니다.\n",
            "사회학 보충을 받아야할 학생은 Lee,Park,Kang,Cho,Yoon,Jang,Lim 입니다.\n",
            "국어 보충을 받아야할 학생은 Lee,Park,Jung,Cho,Jang,Han 입니다.\n"
          ]
        }
      ],
      "source": [
        "name = [\"Kim\", \"Lee\", \"Park\", \"Choi\", \"Jung\", \"Kang\", \"Cho\", \"Yoon\", \"Jang\", \"Lim\", \"Han\"]\n",
        "math = [97, 38, 49, 98, 58, 17, 13, 25, 39, 9, 96]\n",
        "sociology = [19, 52, 61, 13, 91, 34, 87, 7, 69, 97, 33]\n",
        "Korean = [92, 36, 45, 52, 0, 91, 9, 93, 45, 75, 37]\n",
        "\n",
        "math_underscore_person =[]\n",
        "sociology_underscore_person =[]\n",
        "Korean_underscore_person =[]\n",
        "\n",
        "for i in range(len(math)):\n",
        "    if(math[i] <= 50):\n",
        "        math_underscore_person.append(name[i])\n",
        "\n",
        "for i in range(len(sociology)):\n",
        "    if(sociology[i] <= 50):\n",
        "        sociology_underscore_person.append(name[i])\n",
        "\n",
        "for i in range(len(math)):\n",
        "    if(Korean[i] <= 50):\n",
        "        Korean_underscore_person.append(name[i])\n",
        "        \n",
        "print(f'수학 보충을 받아야할 학생은 {\",\".join(math_underscore_person)} 입니다.')\n",
        "print(f'사회학 보충을 받아야할 학생은 {\",\".join(math_underscore_person)} 입니다.')\n",
        "print(f'국어 보충을 받아야할 학생은 {\",\".join(Korean_underscore_person)} 입니다.')\n",
        "\n",
        "# 배열을 문자열로 바꾸는 법\n",
        "# \" \".join(배열)\n",
        "        \n",
        "    "
      ]
    },
    {
      "cell_type": "code",
      "execution_count": 26,
      "metadata": {},
      "outputs": [
        {
          "data": {
            "text/plain": [
              "'Lee, Park, Kang, Cho, Yoon, Jang, Lim'"
            ]
          },
          "execution_count": 26,
          "metadata": {},
          "output_type": "execute_result"
        }
      ],
      "source": []
    },
    {
      "cell_type": "markdown",
      "metadata": {
        "id": "q_Mj8A2v3MLp"
      },
      "source": [
        "2. 아래의 성적에 오류가 있습니다! 각 과목별로 성적이 가장 낮은 사람이 사실 50점 낮게 채점이 되었습니다! 빨리 전체 성적을 재계산하여 전체 평균 성적을 내야 합니다!\n",
        "\n",
        "- 각 과목별로 가장 낮은 성적을 찾아\n",
        "- +50을 하고 수정된 전체 성적을 print 하기\n",
        "- 과목별 평균점수를 계산하여 print 하기"
      ]
    },
    {
      "cell_type": "code",
      "execution_count": 23,
      "metadata": {
        "id": "dlrElYzL3SI5"
      },
      "outputs": [
        {
          "name": "stdout",
          "output_type": "stream",
          "text": [
            "수학: [97, 38, 49, 98, 58, 17, 13, 25, 39, 59, 96]\n",
            "사회학:[19, 52, 61, 13, 91, 34, 87, 57, 69, 97, 33]\n",
            "한국어: [92, 36, 45, 52, 50, 91, 9, 93, 45, 75, 37]\n",
            "수학 평균: 53.54545454545455\n",
            "사회학 평균: 55.72727272727273\n",
            "국어 평균: 56.81818181818182\n"
          ]
        }
      ],
      "source": [
        "name = [\"Kim\", \"Lee\", \"Park\", \"Choi\", \"Jung\", \"Kang\", \"Cho\", \"Yoon\", \"Jang\", \"Lim\", \"Han\"]\n",
        "math = [97, 38, 49, 98, 58, 17, 13, 25, 39, 9, 96]\n",
        "sociology = [19, 52, 61, 13, 91, 34, 87, 7, 69, 97, 33]\n",
        "Korean = [92, 36, 45, 52, 0, 91, 9, 93, 45, 75, 37]\n",
        "\n",
        "# 최솟값을 초기화\n",
        "math_min=99999\n",
        "sociology_min=99999\n",
        "Korean_min=99999\n",
        "\n",
        "# 인덱스를 담는 변수\n",
        "math_index = 0 \n",
        "sociology_index = 0\n",
        "Korean_index = 0\n",
        "\n",
        "# 합계를 구하기 위한 초기화\n",
        "math_sum=0\n",
        "sociology_sum=0\n",
        "Korean_sum=0\n",
        "\n",
        "# 낮은 점수 찾아서 50점 더하기 \n",
        "for i in range(len(math)):\n",
        "    if(math[i] < math_min):\n",
        "        math_min = math[i]\n",
        "        math_index = i\n",
        "\n",
        "# 점수 50점 더하기\n",
        "math_min = math_min + 50 \n",
        "# 최솟값을 원본 배열에서 교체       \n",
        "math[math_index] = math_min\n",
        "\n",
        "       \n",
        "for i in range(len(sociology)):\n",
        "    if(sociology[i] < sociology_min):\n",
        "        sociology_min = sociology[i]\n",
        "        sociology_index = i\n",
        "\n",
        "# 점수 50점 더하기\n",
        "sociology_min = sociology_min + 50\n",
        "# 최솟값을 원본 배열에서 교체 \n",
        "sociology[sociology_index] = sociology_min        \n",
        "        \n",
        "for i in range(len(Korean)):\n",
        "    if(Korean[i] < Korean_min):\n",
        "        Korean_min = Korean[i]\n",
        "        Korean_index = i\n",
        "\n",
        "# 점수 50점 더하기\n",
        "Korean_min = Korean_min + 50\n",
        "\n",
        "# 최솟값을 원본 배열에서 교체 \n",
        "Korean[Korean_index] = Korean_min         \n",
        "\n",
        "\n",
        "# 전체 성적        \n",
        "print(f'수학: {math}')\n",
        "print(f'사회학:{sociology}')\n",
        "print(f'한국어: {Korean}')\n",
        "\n",
        "# 과목별 평균 \n",
        "for i in range(len(math)):\n",
        "    math_sum+=math[i]\n",
        "    sociology_sum+=sociology[i]\n",
        "    Korean_sum+=Korean[i]\n",
        "    \n",
        "print(f'수학 평균: {math_sum / len(math)}')\n",
        "print(f'사회학 평균: {sociology_sum / len(sociology)}')\n",
        "print(f'국어 평균: {Korean_sum / len(Korean)}')\n",
        "\n"
      ]
    },
    {
      "cell_type": "markdown",
      "metadata": {
        "id": "1KIZ8R2V3YA-"
      },
      "source": [
        "3. 비밀번호 찾기\n",
        "\n",
        "당신은 눈앞에 있는 문을 열기 위해 *네 자리* 의 비밀번호를 찾아야 합니다.\n",
        "\n",
        "비밀번호를 찾기 위해 모든 경우의 수를 다 적용하는 코드를 짜기로 결정했습니다. 다행히 비밀번호 시도 회수 제한이 없습니다.\n",
        "\n",
        "비밀번호의 각 자리는 0부터 9까지의 숫자로만 이루어져 있습니다.\n",
        "\n",
        "\n",
        "- input을 통해 비밀번호를 입력받으세요.\n",
        "- 반복문을 통해 모든 경우의 수를 iteration하세요\n",
        "- 비밀번호가 맞은 경우, 비밀번호는 ㅇㅇㅇ입니다를 출력하고, 반복문을 빠져나오세요."
      ]
    },
    {
      "cell_type": "code",
      "execution_count": 34,
      "metadata": {
        "id": "wfb41rhN3XqK"
      },
      "outputs": [
        {
          "name": "stdout",
          "output_type": "stream",
          "text": [
            "비밀번호는 [3, 8, 3, 4] 입니다.\n"
          ]
        }
      ],
      "source": [
        "user_input = input(f'숫자를 입력해주세요')\n",
        "password = list(user_input)\n",
        "\n",
        "p1 = int(password[0])\n",
        "p2 = int(password[1])\n",
        "p3 = int(password[2])\n",
        "p4 = int(password[3])\n",
        "\n",
        "assumend_password = []\n",
        "\n",
        "for i in range(10):\n",
        "    for j in range(10):\n",
        "        for k in range(10):\n",
        "            for l in range(10):\n",
        "                if p1 == i and p2 == j and p3 == k and p4 == l:\n",
        "                    assumend_password.append(i)\n",
        "                    assumend_password.append(j)\n",
        "                    assumend_password.append(k)\n",
        "                    assumend_password.append(l)\n",
        "                    break\n",
        "            if len(assumend_password) > 0:\n",
        "                break\n",
        "        if len(assumend_password) > 0:\n",
        "                break\n",
        "    if len(assumend_password) > 0:\n",
        "                break\n",
        "   \n",
        "   \n",
        "result = assumend_password\n",
        "\n",
        "print(f'비밀번호는 {result} 입니다.')        \n",
        "\n",
        "\n",
        "\n",
        "    "
      ]
    },
    {
      "cell_type": "code",
      "execution_count": 8,
      "metadata": {},
      "outputs": [
        {
          "name": "stdout",
          "output_type": "stream",
          "text": [
            "비밀번호는 0001 입니다.\n"
          ]
        }
      ],
      "source": [
        "# 어떻게 하면 0으로 시작하는 친구를 처리할 수 있을까 \n",
        "\n",
        "# 의도한 코드 \n",
        "user_input = input(f'숫자를 입력해주세요')\n",
        "password_int = int(user_input)\n",
        "\n",
        "for i in range(10000):\n",
        "    if (password_int == i):\n",
        "        i_str = str(i).zfill(4)\n",
        "        print(f'비밀번호는 {i_str} 입니다.')\n",
        "        break\n",
        "    \n"
      ]
    },
    {
      "cell_type": "markdown",
      "metadata": {
        "id": "tg0Yw9RP35lJ"
      },
      "source": [
        "4. 숫자주머니 만들기\n",
        "\n",
        "당신은 숫자 주머니를 만들고 있습니다. 숫자 주머니에는 중복이 되지 않게 다양한 숫자를 넣으려 합니다. 단, 숫자는 1이상의 양의 정수입니다.\n",
        "\n",
        "당신은 숫자를 10번 입력 받고, 중복이 되지 않게 숫자 주머니를 만들어 숫자 주머니에 들은 숫자들을 출력합니다.\n",
        "\n",
        "단, 10번 입력을 받는 동안 0이 입력되면 더이상 입력을 받지 않습니다.\n",
        "\n",
        "\n",
        "예1)\n",
        "\n",
        "[input]\n",
        "\n",
        "숫자1을 입력해주세요: 1\n",
        "\n",
        "숫자2을 입력해주세요: 1\n",
        "\n",
        "숫자3을 입력해주세요: 2\n",
        "\n",
        "숫자4을 입력해주세요: 2\n",
        "\n",
        "숫자5을 입력해주세요: 3\n",
        "\n",
        "숫자6을 입력해주세요: 3\n",
        "\n",
        "숫자7을 입력해주세요: 4\n",
        "\n",
        "숫자8을 입력해주세요: 4\n",
        "\n",
        "숫자9을 입력해주세요: 5\n",
        "\n",
        "숫자10을 입력해주세요: 6\n",
        "\n",
        "[output]\n",
        "\n",
        "1 2 3 4 5 6\n",
        "\n",
        "\n",
        "예2)\n",
        "\n",
        "[input]\n",
        "\n",
        "숫자1을 입력해주세요: 1\n",
        "\n",
        "숫자2을 입력해주세요: 1\n",
        "\n",
        "숫자3을 입력해주세요: 2\n",
        "\n",
        "숫자4을 입력해주세요: -1\n",
        "\n",
        "[output]\n",
        "\n",
        "1 2\n",
        "\n",
        "\n"
      ]
    },
    {
      "cell_type": "code",
      "execution_count": 64,
      "metadata": {
        "id": "7Nftffu9424i"
      },
      "outputs": [
        {
          "name": "stdout",
          "output_type": "stream",
          "text": [
            "4 6 3 5 1 4 13 4 5 2\n"
          ]
        }
      ],
      "source": [
        "output_arr = set() # 중복이 없게 set으로 설정을 해주는 것이 좋다.\n",
        "\n",
        "i=0\n",
        "while i<=10:\n",
        "    i += 1\n",
        "    user_input = int(input(f'숫자{i}을 입력해주세요:'))\n",
        "    output_arr.add(user_input)\n",
        "    if(user_input <= 0 ):\n",
        "        break\n",
        "    elif (i == 10):\n",
        "        break\n",
        "    \n",
        "print(*output_arr)\n",
        " "
      ]
    }
  ],
  "metadata": {
    "colab": {
      "collapsed_sections": [],
      "provenance": []
    },
    "kernelspec": {
      "display_name": "Python 3.10.7 64-bit",
      "language": "python",
      "name": "python3"
    },
    "language_info": {
      "codemirror_mode": {
        "name": "ipython",
        "version": 3
      },
      "file_extension": ".py",
      "mimetype": "text/x-python",
      "name": "python",
      "nbconvert_exporter": "python",
      "pygments_lexer": "ipython3",
      "version": "3.10.7"
    },
    "vscode": {
      "interpreter": {
        "hash": "aee8b7b246df8f9039afb4144a1f6fd8d2ca17a180786b69acc140d282b71a49"
      }
    }
  },
  "nbformat": 4,
  "nbformat_minor": 0
}
